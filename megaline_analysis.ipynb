{
 "cells": [
  {
   "cell_type": "markdown",
   "metadata": {
    "vscode": {
     "languageId": "plaintext"
    }
   },
   "source": [
    "## Comparing Customer Behavior: Surf vs. Ultimate Prepaid Plans\n",
    "\n",
    "### Project Overview\n",
    "This analysis evaluates customer behavior to determine which prepaid plan—Ultimate or Surf—generates higher revenue, using a dataset of 500 Megaline telecom clients from 2018.\n",
    "\n",
    "The study follows a structured approach, including data preparation, exploration, transformation, and statistical analysis. Full details are documented in the README.md"
   ]
  },
  {
   "cell_type": "markdown",
   "metadata": {},
   "source": [
    "## <center>Section One</center>\n",
    "\n",
    "## Initialization - Import Necessary Libraries"
   ]
  },
  {
   "cell_type": "code",
   "execution_count": 1,
   "metadata": {},
   "outputs": [
    {
     "name": "stdout",
     "output_type": "stream",
     "text": [
      "c:\\Users\\bijan\\OneDrive\\Documents\\VS Code\\Megaline_Prepaid_Comparison\n"
     ]
    }
   ],
   "source": [
    "import os\n",
    "os.chdir(\"..\")  # Move up one level\n",
    "print(os.getcwd())  # Confirm the new working directory\n",
    "\n",
    "import pandas as pd\n",
    "import numpy as np\n",
    "import matplotlib.pyplot as plt\n",
    "from scipy import stats"
   ]
  },
  {
   "cell_type": "markdown",
   "metadata": {},
   "source": [
    "## Load Data - Load CSV Files "
   ]
  },
  {
   "cell_type": "code",
   "execution_count": 2,
   "metadata": {},
   "outputs": [],
   "source": [
    "data_mg_calls = pd.read_csv('data/megaline_calls.csv')\n",
    "data_mg_internet = pd.read_csv('data/megaline_internet.csv')\n",
    "data_mg_messages = pd.read_csv('data/megaline_messages.csv')\n",
    "data_mg_plans = pd.read_csv('data/megaline_plans.csv') \n",
    "data_mg_users = pd.read_csv('data/megaline_users.csv')"
   ]
  },
  {
   "cell_type": "markdown",
   "metadata": {},
   "source": [
    "## <center>Section Two</center>\n",
    "\n",
    "## Data Preparation\n",
    "\n",
    "- **2.1 Calls Dataframe**"
   ]
  },
  {
   "cell_type": "code",
   "execution_count": 3,
   "metadata": {},
   "outputs": [
    {
     "name": "stdout",
     "output_type": "stream",
     "text": [
      "<class 'pandas.core.frame.DataFrame'>\n",
      "RangeIndex: 137735 entries, 0 to 137734\n",
      "Data columns (total 4 columns):\n",
      " #   Column     Non-Null Count   Dtype  \n",
      "---  ------     --------------   -----  \n",
      " 0   id         137735 non-null  object \n",
      " 1   user_id    137735 non-null  int64  \n",
      " 2   call_date  137735 non-null  object \n",
      " 3   duration   137735 non-null  float64\n",
      "dtypes: float64(1), int64(1), object(2)\n",
      "memory usage: 4.2+ MB\n"
     ]
    },
    {
     "data": {
      "text/plain": [
       "'ID Values:'"
      ]
     },
     "metadata": {},
     "output_type": "display_data"
    },
    {
     "data": {
      "text/plain": [
       "0     1000_93\n",
       "1    1000_145\n",
       "2    1000_247\n",
       "3    1000_309\n",
       "4    1000_380\n",
       "Name: id, dtype: object"
      ]
     },
     "metadata": {},
     "output_type": "display_data"
    },
    {
     "data": {
      "text/plain": [
       "'User_ID Values:'"
      ]
     },
     "metadata": {},
     "output_type": "display_data"
    },
    {
     "data": {
      "text/plain": [
       "0    1000\n",
       "1    1000\n",
       "2    1000\n",
       "3    1000\n",
       "4    1000\n",
       "Name: user_id, dtype: int64"
      ]
     },
     "metadata": {},
     "output_type": "display_data"
    },
    {
     "data": {
      "text/plain": [
       "'Call Date Values:'"
      ]
     },
     "metadata": {},
     "output_type": "display_data"
    },
    {
     "data": {
      "text/plain": [
       "0    2018-12-27\n",
       "1    2018-12-27\n",
       "2    2018-12-27\n",
       "3    2018-12-28\n",
       "4    2018-12-30\n",
       "Name: call_date, dtype: object"
      ]
     },
     "metadata": {},
     "output_type": "display_data"
    },
    {
     "data": {
      "text/plain": [
       "'Call Duration Values:'"
      ]
     },
     "metadata": {},
     "output_type": "display_data"
    },
    {
     "data": {
      "text/plain": [
       "0     8.52\n",
       "1    13.66\n",
       "2    14.48\n",
       "3     5.76\n",
       "4     4.22\n",
       "Name: duration, dtype: float64"
      ]
     },
     "metadata": {},
     "output_type": "display_data"
    }
   ],
   "source": [
    "data_mg_calls.info()\n",
    "display('ID Values:', data_mg_calls['id'].head())\n",
    "display('User_ID Values:', data_mg_calls['user_id'].head())\n",
    "display('Call Date Values:', data_mg_calls['call_date'].head())\n",
    "display('Call Duration Values:', data_mg_calls['duration'].head())"
   ]
  },
  {
   "cell_type": "markdown",
   "metadata": {},
   "source": [
    "- **2.2 Internet Dataframe**"
   ]
  },
  {
   "cell_type": "code",
   "execution_count": 4,
   "metadata": {},
   "outputs": [
    {
     "name": "stdout",
     "output_type": "stream",
     "text": [
      "<class 'pandas.core.frame.DataFrame'>\n",
      "RangeIndex: 104825 entries, 0 to 104824\n",
      "Data columns (total 4 columns):\n",
      " #   Column        Non-Null Count   Dtype  \n",
      "---  ------        --------------   -----  \n",
      " 0   id            104825 non-null  object \n",
      " 1   user_id       104825 non-null  int64  \n",
      " 2   session_date  104825 non-null  object \n",
      " 3   mb_used       104825 non-null  float64\n",
      "dtypes: float64(1), int64(1), object(2)\n",
      "memory usage: 3.2+ MB\n"
     ]
    },
    {
     "data": {
      "text/plain": [
       "'ID Values:'"
      ]
     },
     "metadata": {},
     "output_type": "display_data"
    },
    {
     "data": {
      "text/plain": [
       "0     1000_13\n",
       "1    1000_204\n",
       "2    1000_379\n",
       "3    1000_413\n",
       "4    1000_442\n",
       "Name: id, dtype: object"
      ]
     },
     "metadata": {},
     "output_type": "display_data"
    },
    {
     "data": {
      "text/plain": [
       "'User_ID Values:'"
      ]
     },
     "metadata": {},
     "output_type": "display_data"
    },
    {
     "data": {
      "text/plain": [
       "0    1000\n",
       "1    1000\n",
       "2    1000\n",
       "3    1000\n",
       "4    1000\n",
       "Name: user_id, dtype: int64"
      ]
     },
     "metadata": {},
     "output_type": "display_data"
    },
    {
     "data": {
      "text/plain": [
       "'Session Date Values:'"
      ]
     },
     "metadata": {},
     "output_type": "display_data"
    },
    {
     "data": {
      "text/plain": [
       "0    2018-12-29\n",
       "1    2018-12-31\n",
       "2    2018-12-28\n",
       "3    2018-12-26\n",
       "4    2018-12-27\n",
       "Name: session_date, dtype: object"
      ]
     },
     "metadata": {},
     "output_type": "display_data"
    },
    {
     "data": {
      "text/plain": [
       "'MB_Used Values:'"
      ]
     },
     "metadata": {},
     "output_type": "display_data"
    },
    {
     "data": {
      "text/plain": [
       "0     89.86\n",
       "1      0.00\n",
       "2    660.40\n",
       "3    270.99\n",
       "4    880.22\n",
       "Name: mb_used, dtype: float64"
      ]
     },
     "metadata": {},
     "output_type": "display_data"
    }
   ],
   "source": [
    "data_mg_internet.info()\n",
    "display('ID Values:', data_mg_internet['id'].head())\n",
    "display('User_ID Values:', data_mg_internet['user_id'].head())\n",
    "display('Session Date Values:', data_mg_internet['session_date'].head())\n",
    "display('MB_Used Values:', data_mg_internet['mb_used'].head())"
   ]
  },
  {
   "cell_type": "markdown",
   "metadata": {},
   "source": [
    "- **2.3 Internet Dataframe**"
   ]
  },
  {
   "cell_type": "code",
   "execution_count": 5,
   "metadata": {},
   "outputs": [
    {
     "name": "stdout",
     "output_type": "stream",
     "text": [
      "<class 'pandas.core.frame.DataFrame'>\n",
      "RangeIndex: 76051 entries, 0 to 76050\n",
      "Data columns (total 3 columns):\n",
      " #   Column        Non-Null Count  Dtype \n",
      "---  ------        --------------  ----- \n",
      " 0   id            76051 non-null  object\n",
      " 1   user_id       76051 non-null  int64 \n",
      " 2   message_date  76051 non-null  object\n",
      "dtypes: int64(1), object(2)\n",
      "memory usage: 1.7+ MB\n"
     ]
    },
    {
     "data": {
      "text/plain": [
       "'ID Values:'"
      ]
     },
     "metadata": {},
     "output_type": "display_data"
    },
    {
     "data": {
      "text/plain": [
       "0    1000_125\n",
       "1    1000_160\n",
       "2    1000_223\n",
       "3    1000_251\n",
       "4    1000_255\n",
       "Name: id, dtype: object"
      ]
     },
     "metadata": {},
     "output_type": "display_data"
    },
    {
     "data": {
      "text/plain": [
       "'User_ID Values:'"
      ]
     },
     "metadata": {},
     "output_type": "display_data"
    },
    {
     "data": {
      "text/plain": [
       "0    1000\n",
       "1    1000\n",
       "2    1000\n",
       "3    1000\n",
       "4    1000\n",
       "Name: user_id, dtype: int64"
      ]
     },
     "metadata": {},
     "output_type": "display_data"
    },
    {
     "data": {
      "text/plain": [
       "'Message_Date Values:'"
      ]
     },
     "metadata": {},
     "output_type": "display_data"
    },
    {
     "data": {
      "text/plain": [
       "0    2018-12-27\n",
       "1    2018-12-31\n",
       "2    2018-12-31\n",
       "3    2018-12-27\n",
       "4    2018-12-26\n",
       "Name: message_date, dtype: object"
      ]
     },
     "metadata": {},
     "output_type": "display_data"
    }
   ],
   "source": [
    "data_mg_messages.info()\n",
    "display('ID Values:', data_mg_messages['id'].head())\n",
    "display('User_ID Values:', data_mg_messages['user_id'].head())\n",
    "display('Message_Date Values:', data_mg_messages['message_date'].head())"
   ]
  },
  {
   "cell_type": "markdown",
   "metadata": {},
   "source": [
    "- **2.4 Plans Dataframe**"
   ]
  },
  {
   "cell_type": "code",
   "execution_count": 6,
   "metadata": {},
   "outputs": [
    {
     "name": "stdout",
     "output_type": "stream",
     "text": [
      "<class 'pandas.core.frame.DataFrame'>\n",
      "RangeIndex: 2 entries, 0 to 1\n",
      "Data columns (total 8 columns):\n",
      " #   Column                 Non-Null Count  Dtype  \n",
      "---  ------                 --------------  -----  \n",
      " 0   messages_included      2 non-null      int64  \n",
      " 1   mb_per_month_included  2 non-null      int64  \n",
      " 2   minutes_included       2 non-null      int64  \n",
      " 3   usd_monthly_pay        2 non-null      int64  \n",
      " 4   usd_per_gb             2 non-null      int64  \n",
      " 5   usd_per_message        2 non-null      float64\n",
      " 6   usd_per_minute         2 non-null      float64\n",
      " 7   plan_name              2 non-null      object \n",
      "dtypes: float64(2), int64(5), object(1)\n",
      "memory usage: 260.0+ bytes\n"
     ]
    },
    {
     "data": {
      "text/plain": [
       "'Messages_Included Values:'"
      ]
     },
     "metadata": {},
     "output_type": "display_data"
    },
    {
     "data": {
      "text/plain": [
       "0      50\n",
       "1    1000\n",
       "Name: messages_included, dtype: int64"
      ]
     },
     "metadata": {},
     "output_type": "display_data"
    },
    {
     "data": {
      "text/plain": [
       "'MB_Per_Month_Included Values:'"
      ]
     },
     "metadata": {},
     "output_type": "display_data"
    },
    {
     "data": {
      "text/plain": [
       "0    15360\n",
       "1    30720\n",
       "Name: mb_per_month_included, dtype: int64"
      ]
     },
     "metadata": {},
     "output_type": "display_data"
    },
    {
     "data": {
      "text/plain": [
       "'Minutes_Included Values:'"
      ]
     },
     "metadata": {},
     "output_type": "display_data"
    },
    {
     "data": {
      "text/plain": [
       "0     500\n",
       "1    3000\n",
       "Name: minutes_included, dtype: int64"
      ]
     },
     "metadata": {},
     "output_type": "display_data"
    },
    {
     "data": {
      "text/plain": [
       "'USD_Monthly_Pay Values:'"
      ]
     },
     "metadata": {},
     "output_type": "display_data"
    },
    {
     "data": {
      "text/plain": [
       "0    20\n",
       "1    70\n",
       "Name: usd_monthly_pay, dtype: int64"
      ]
     },
     "metadata": {},
     "output_type": "display_data"
    },
    {
     "data": {
      "text/plain": [
       "'USD_Per_GB Values:'"
      ]
     },
     "metadata": {},
     "output_type": "display_data"
    },
    {
     "data": {
      "text/plain": [
       "0    10\n",
       "1     7\n",
       "Name: usd_per_gb, dtype: int64"
      ]
     },
     "metadata": {},
     "output_type": "display_data"
    },
    {
     "data": {
      "text/plain": [
       "'USD_Per_Message Values:'"
      ]
     },
     "metadata": {},
     "output_type": "display_data"
    },
    {
     "data": {
      "text/plain": [
       "0    0.03\n",
       "1    0.01\n",
       "Name: usd_per_message, dtype: float64"
      ]
     },
     "metadata": {},
     "output_type": "display_data"
    },
    {
     "data": {
      "text/plain": [
       "'USD_Per_Minute Values:'"
      ]
     },
     "metadata": {},
     "output_type": "display_data"
    },
    {
     "data": {
      "text/plain": [
       "0    0.03\n",
       "1    0.01\n",
       "Name: usd_per_minute, dtype: float64"
      ]
     },
     "metadata": {},
     "output_type": "display_data"
    },
    {
     "data": {
      "text/plain": [
       "'Plan_Name Values:'"
      ]
     },
     "metadata": {},
     "output_type": "display_data"
    },
    {
     "data": {
      "text/plain": [
       "0        surf\n",
       "1    ultimate\n",
       "Name: plan_name, dtype: object"
      ]
     },
     "metadata": {},
     "output_type": "display_data"
    }
   ],
   "source": [
    "data_mg_plans.info()\n",
    "display('Messages_Included Values:', data_mg_plans['messages_included'].head(2))\n",
    "display('MB_Per_Month_Included Values:', data_mg_plans['mb_per_month_included'].head(2))\n",
    "display('Minutes_Included Values:', data_mg_plans['minutes_included'].head(2))\n",
    "display('USD_Monthly_Pay Values:', data_mg_plans['usd_monthly_pay'].head(2))\n",
    "display('USD_Per_GB Values:', data_mg_plans['usd_per_gb'].head(2))\n",
    "display('USD_Per_Message Values:', data_mg_plans['usd_per_message'].head(2))\n",
    "display('USD_Per_Minute Values:', data_mg_plans['usd_per_minute'].head(2))\n",
    "display('Plan_Name Values:', data_mg_plans['plan_name'].head(2))"
   ]
  },
  {
   "cell_type": "markdown",
   "metadata": {},
   "source": [
    "- **2.5 Users Dataframe**"
   ]
  },
  {
   "cell_type": "code",
   "execution_count": 7,
   "metadata": {},
   "outputs": [
    {
     "name": "stdout",
     "output_type": "stream",
     "text": [
      "<class 'pandas.core.frame.DataFrame'>\n",
      "RangeIndex: 500 entries, 0 to 499\n",
      "Data columns (total 8 columns):\n",
      " #   Column      Non-Null Count  Dtype \n",
      "---  ------      --------------  ----- \n",
      " 0   user_id     500 non-null    int64 \n",
      " 1   first_name  500 non-null    object\n",
      " 2   last_name   500 non-null    object\n",
      " 3   age         500 non-null    int64 \n",
      " 4   city        500 non-null    object\n",
      " 5   reg_date    500 non-null    object\n",
      " 6   plan        500 non-null    object\n",
      " 7   churn_date  34 non-null     object\n",
      "dtypes: int64(2), object(6)\n",
      "memory usage: 31.4+ KB\n"
     ]
    },
    {
     "data": {
      "text/plain": [
       "'User_ID Values:'"
      ]
     },
     "metadata": {},
     "output_type": "display_data"
    },
    {
     "data": {
      "text/plain": [
       "0    1000\n",
       "1    1001\n",
       "2    1002\n",
       "3    1003\n",
       "4    1004\n",
       "Name: user_id, dtype: int64"
      ]
     },
     "metadata": {},
     "output_type": "display_data"
    },
    {
     "data": {
      "text/plain": [
       "'First_Name Values:'"
      ]
     },
     "metadata": {},
     "output_type": "display_data"
    },
    {
     "data": {
      "text/plain": [
       "0    Anamaria\n",
       "1      Mickey\n",
       "2      Carlee\n",
       "3    Reynaldo\n",
       "4     Leonila\n",
       "Name: first_name, dtype: object"
      ]
     },
     "metadata": {},
     "output_type": "display_data"
    },
    {
     "data": {
      "text/plain": [
       "'Last_Name Values:'"
      ]
     },
     "metadata": {},
     "output_type": "display_data"
    },
    {
     "data": {
      "text/plain": [
       "0        Bauer\n",
       "1    Wilkerson\n",
       "2      Hoffman\n",
       "3      Jenkins\n",
       "4     Thompson\n",
       "Name: last_name, dtype: object"
      ]
     },
     "metadata": {},
     "output_type": "display_data"
    },
    {
     "data": {
      "text/plain": [
       "'Age Values:'"
      ]
     },
     "metadata": {},
     "output_type": "display_data"
    },
    {
     "data": {
      "text/plain": [
       "0    45\n",
       "1    28\n",
       "2    36\n",
       "3    52\n",
       "4    40\n",
       "Name: age, dtype: int64"
      ]
     },
     "metadata": {},
     "output_type": "display_data"
    },
    {
     "data": {
      "text/plain": [
       "'City Values:'"
      ]
     },
     "metadata": {},
     "output_type": "display_data"
    },
    {
     "data": {
      "text/plain": [
       "0    Atlanta-Sandy Springs-Roswell, GA MSA\n",
       "1          Seattle-Tacoma-Bellevue, WA MSA\n",
       "2     Las Vegas-Henderson-Paradise, NV MSA\n",
       "3                            Tulsa, OK MSA\n",
       "4          Seattle-Tacoma-Bellevue, WA MSA\n",
       "Name: city, dtype: object"
      ]
     },
     "metadata": {},
     "output_type": "display_data"
    },
    {
     "data": {
      "text/plain": [
       "'Reg_Date Values:'"
      ]
     },
     "metadata": {},
     "output_type": "display_data"
    },
    {
     "data": {
      "text/plain": [
       "0    2018-12-24\n",
       "1    2018-08-13\n",
       "2    2018-10-21\n",
       "3    2018-01-28\n",
       "4    2018-05-23\n",
       "Name: reg_date, dtype: object"
      ]
     },
     "metadata": {},
     "output_type": "display_data"
    },
    {
     "data": {
      "text/plain": [
       "'Plan Values:'"
      ]
     },
     "metadata": {},
     "output_type": "display_data"
    },
    {
     "data": {
      "text/plain": [
       "0    ultimate\n",
       "1        surf\n",
       "2        surf\n",
       "3        surf\n",
       "4        surf\n",
       "Name: plan, dtype: object"
      ]
     },
     "metadata": {},
     "output_type": "display_data"
    },
    {
     "data": {
      "text/plain": [
       "'Churn_Date Values:'"
      ]
     },
     "metadata": {},
     "output_type": "display_data"
    },
    {
     "data": {
      "text/plain": [
       "0    NaN\n",
       "1    NaN\n",
       "2    NaN\n",
       "3    NaN\n",
       "4    NaN\n",
       "Name: churn_date, dtype: object"
      ]
     },
     "metadata": {},
     "output_type": "display_data"
    }
   ],
   "source": [
    "data_mg_users.info()\n",
    "display('User_ID Values:', data_mg_users['user_id'].head())\n",
    "display('First_Name Values:', data_mg_users['first_name'].head())\n",
    "display('Last_Name Values:', data_mg_users['last_name'].head())\n",
    "display('Age Values:', data_mg_users['age'].head())\n",
    "display('City Values:', data_mg_users['city'].head())\n",
    "display('Reg_Date Values:', data_mg_users['reg_date'].head())\n",
    "display('Plan Values:', data_mg_users['plan'].head())\n",
    "display('Churn_Date Values:', data_mg_users['churn_date'].head())"
   ]
  },
  {
   "cell_type": "code",
   "execution_count": 8,
   "metadata": {},
   "outputs": [
    {
     "data": {
      "text/plain": [
       "'Sample of User IDs:'"
      ]
     },
     "metadata": {},
     "output_type": "display_data"
    },
    {
     "data": {
      "text/html": [
       "<div>\n",
       "<style scoped>\n",
       "    .dataframe tbody tr th:only-of-type {\n",
       "        vertical-align: middle;\n",
       "    }\n",
       "\n",
       "    .dataframe tbody tr th {\n",
       "        vertical-align: top;\n",
       "    }\n",
       "\n",
       "    .dataframe thead th {\n",
       "        text-align: right;\n",
       "    }\n",
       "</style>\n",
       "<table border=\"1\" class=\"dataframe\">\n",
       "  <thead>\n",
       "    <tr style=\"text-align: right;\">\n",
       "      <th></th>\n",
       "      <th>user_id</th>\n",
       "      <th>duration</th>\n",
       "    </tr>\n",
       "  </thead>\n",
       "  <tbody>\n",
       "    <tr>\n",
       "      <th>80405</th>\n",
       "      <td>1291</td>\n",
       "      <td>3.04</td>\n",
       "    </tr>\n",
       "    <tr>\n",
       "      <th>38094</th>\n",
       "      <td>1142</td>\n",
       "      <td>11.70</td>\n",
       "    </tr>\n",
       "    <tr>\n",
       "      <th>78912</th>\n",
       "      <td>1282</td>\n",
       "      <td>3.62</td>\n",
       "    </tr>\n",
       "    <tr>\n",
       "      <th>50326</th>\n",
       "      <td>1181</td>\n",
       "      <td>8.87</td>\n",
       "    </tr>\n",
       "    <tr>\n",
       "      <th>122198</th>\n",
       "      <td>1432</td>\n",
       "      <td>0.00</td>\n",
       "    </tr>\n",
       "  </tbody>\n",
       "</table>\n",
       "</div>"
      ],
      "text/plain": [
       "        user_id  duration\n",
       "80405      1291      3.04\n",
       "38094      1142     11.70\n",
       "78912      1282      3.62\n",
       "50326      1181      8.87\n",
       "122198     1432      0.00"
      ]
     },
     "metadata": {},
     "output_type": "display_data"
    }
   ],
   "source": [
    "display('Sample of User IDs:', data_mg_calls[['user_id', 'duration']].sample(5))"
   ]
  },
  {
   "cell_type": "markdown",
   "metadata": {},
   "source": [
    "## <center>Section Three</center>\n",
    "\n",
    "## Data Exploration and Quality Checks\n",
    "\n",
    "**Plans - Print the general/summary information about the plans' DataFrame**\n",
    "\n",
    "- **3.1 Plans Dataframe**"
   ]
  },
  {
   "cell_type": "code",
   "execution_count": 9,
   "metadata": {},
   "outputs": [
    {
     "data": {
      "text/plain": [
       "'First Few Rows - Megaline Plans:'"
      ]
     },
     "metadata": {},
     "output_type": "display_data"
    },
    {
     "data": {
      "text/html": [
       "<div>\n",
       "<style scoped>\n",
       "    .dataframe tbody tr th:only-of-type {\n",
       "        vertical-align: middle;\n",
       "    }\n",
       "\n",
       "    .dataframe tbody tr th {\n",
       "        vertical-align: top;\n",
       "    }\n",
       "\n",
       "    .dataframe thead th {\n",
       "        text-align: right;\n",
       "    }\n",
       "</style>\n",
       "<table border=\"1\" class=\"dataframe\">\n",
       "  <thead>\n",
       "    <tr style=\"text-align: right;\">\n",
       "      <th></th>\n",
       "      <th>messages_included</th>\n",
       "      <th>mb_per_month_included</th>\n",
       "      <th>minutes_included</th>\n",
       "      <th>usd_monthly_pay</th>\n",
       "      <th>usd_per_gb</th>\n",
       "      <th>usd_per_message</th>\n",
       "      <th>usd_per_minute</th>\n",
       "      <th>plan_name</th>\n",
       "    </tr>\n",
       "  </thead>\n",
       "  <tbody>\n",
       "    <tr>\n",
       "      <th>0</th>\n",
       "      <td>50</td>\n",
       "      <td>15360</td>\n",
       "      <td>500</td>\n",
       "      <td>20</td>\n",
       "      <td>10</td>\n",
       "      <td>0.03</td>\n",
       "      <td>0.03</td>\n",
       "      <td>surf</td>\n",
       "    </tr>\n",
       "    <tr>\n",
       "      <th>1</th>\n",
       "      <td>1000</td>\n",
       "      <td>30720</td>\n",
       "      <td>3000</td>\n",
       "      <td>70</td>\n",
       "      <td>7</td>\n",
       "      <td>0.01</td>\n",
       "      <td>0.01</td>\n",
       "      <td>ultimate</td>\n",
       "    </tr>\n",
       "  </tbody>\n",
       "</table>\n",
       "</div>"
      ],
      "text/plain": [
       "   messages_included  mb_per_month_included  minutes_included  \\\n",
       "0                 50                  15360               500   \n",
       "1               1000                  30720              3000   \n",
       "\n",
       "   usd_monthly_pay  usd_per_gb  usd_per_message  usd_per_minute plan_name  \n",
       "0               20          10             0.03            0.03      surf  \n",
       "1               70           7             0.01            0.01  ultimate  "
      ]
     },
     "metadata": {},
     "output_type": "display_data"
    },
    {
     "data": {
      "text/plain": [
       "'Unique Values Count for each Megaline Plans column:'"
      ]
     },
     "metadata": {},
     "output_type": "display_data"
    },
    {
     "data": {
      "text/plain": [
       "messages_included        2\n",
       "mb_per_month_included    2\n",
       "minutes_included         2\n",
       "usd_monthly_pay          2\n",
       "usd_per_gb               2\n",
       "usd_per_message          2\n",
       "usd_per_minute           2\n",
       "plan_name                2\n",
       "dtype: int64"
      ]
     },
     "metadata": {},
     "output_type": "display_data"
    },
    {
     "data": {
      "text/plain": [
       "'Missing Values Count for each Megaline Plans column:'"
      ]
     },
     "metadata": {},
     "output_type": "display_data"
    },
    {
     "data": {
      "text/plain": [
       "messages_included        0\n",
       "mb_per_month_included    0\n",
       "minutes_included         0\n",
       "usd_monthly_pay          0\n",
       "usd_per_gb               0\n",
       "usd_per_message          0\n",
       "usd_per_minute           0\n",
       "plan_name                0\n",
       "dtype: int64"
      ]
     },
     "metadata": {},
     "output_type": "display_data"
    }
   ],
   "source": [
    "display('First Few Rows - Megaline Plans:', data_mg_plans)\n",
    "display('Unique Values Count for each Megaline Plans column:', data_mg_plans.nunique())\n",
    "display('Missing Values Count for each Megaline Plans column:', data_mg_plans.isnull().sum())"
   ]
  },
  {
   "cell_type": "markdown",
   "metadata": {},
   "source": [
    "Print a sample of data for plans\n",
    "\n",
    "Although calling both .info() and .sample() is unnecessary for a dataset with only two rows, I included them as part of the project exercise to reinforce the habit of systematically evaluating dataset structures and sample records."
   ]
  },
  {
   "cell_type": "code",
   "execution_count": 10,
   "metadata": {},
   "outputs": [
    {
     "data": {
      "text/plain": [
       "'Plans Data:'"
      ]
     },
     "metadata": {},
     "output_type": "display_data"
    },
    {
     "data": {
      "text/html": [
       "<div>\n",
       "<style scoped>\n",
       "    .dataframe tbody tr th:only-of-type {\n",
       "        vertical-align: middle;\n",
       "    }\n",
       "\n",
       "    .dataframe tbody tr th {\n",
       "        vertical-align: top;\n",
       "    }\n",
       "\n",
       "    .dataframe thead th {\n",
       "        text-align: right;\n",
       "    }\n",
       "</style>\n",
       "<table border=\"1\" class=\"dataframe\">\n",
       "  <thead>\n",
       "    <tr style=\"text-align: right;\">\n",
       "      <th></th>\n",
       "      <th>messages_included</th>\n",
       "      <th>mb_per_month_included</th>\n",
       "      <th>minutes_included</th>\n",
       "      <th>usd_monthly_pay</th>\n",
       "      <th>usd_per_gb</th>\n",
       "      <th>usd_per_message</th>\n",
       "      <th>usd_per_minute</th>\n",
       "      <th>plan_name</th>\n",
       "    </tr>\n",
       "  </thead>\n",
       "  <tbody>\n",
       "    <tr>\n",
       "      <th>1</th>\n",
       "      <td>1000</td>\n",
       "      <td>30720</td>\n",
       "      <td>3000</td>\n",
       "      <td>70</td>\n",
       "      <td>7</td>\n",
       "      <td>0.01</td>\n",
       "      <td>0.01</td>\n",
       "      <td>ultimate</td>\n",
       "    </tr>\n",
       "    <tr>\n",
       "      <th>0</th>\n",
       "      <td>50</td>\n",
       "      <td>15360</td>\n",
       "      <td>500</td>\n",
       "      <td>20</td>\n",
       "      <td>10</td>\n",
       "      <td>0.03</td>\n",
       "      <td>0.03</td>\n",
       "      <td>surf</td>\n",
       "    </tr>\n",
       "  </tbody>\n",
       "</table>\n",
       "</div>"
      ],
      "text/plain": [
       "   messages_included  mb_per_month_included  minutes_included  \\\n",
       "1               1000                  30720              3000   \n",
       "0                 50                  15360               500   \n",
       "\n",
       "   usd_monthly_pay  usd_per_gb  usd_per_message  usd_per_minute plan_name  \n",
       "1               70           7             0.01            0.01  ultimate  \n",
       "0               20          10             0.03            0.03      surf  "
      ]
     },
     "metadata": {},
     "output_type": "display_data"
    }
   ],
   "source": [
    "display('Plans Data:', data_mg_plans.sample(n=2))"
   ]
  },
  {
   "cell_type": "markdown",
   "metadata": {},
   "source": [
    "**Describe what you see and notice in the general information and the printed data sample for the above price of data. Are there any issues (inappropriate data types, missing data etc) that may need further investigation and changes? How that can be fixed?**"
   ]
  },
  {
   "cell_type": "markdown",
   "metadata": {},
   "source": [
    "The Plans dataset consists of 2 rows and 8 columns: `messages_included`, `mb_per_month_included`, `minutes_included`, `usd_monthly_pay`, `usd_per_gb`, `usd_per_message`, `usd_per_minute`, and `plan_name`.<br> \n",
    "- Data types include:<br> \n",
    "  - float64: `usd_per_message`, `usd_per_minute`<br> \n",
    "  - int64: `messages_included`, `mb_per_month_included`, `minutes_included`, `usd_monthly_pay` and `usd_per_gb` \n",
    "  - object: `plan_name`\n",
    "\n",
    "<u>POTENTIAL ISSUE 1:</u><br>\n",
    "The `mb_per_month_included` column currently uses megabytes (MB).  \n",
    "SOLUTION: Converting MB to GB aligns with Megaline's policy (i.e., Surf: 15GB and Ultimate: 30GB) and is essential for accurate analysis, calculations, and comparison.\n",
    "\n",
    "<u>Key Improvement(s):</u>  \n",
    "Original column: Maintain source by keeping the original `mb_per_month_included` column for accurate calculations.  \n",
    "New Column: Adding a new column named `gb_conversion` with ceiling-rounded values for easy display and interpretation.  \n",
    "\n",
    "<u>POTENTIAL ISSUE 2:</u><br>\n",
    "Currency-related columns: `usd_monthly_pay (int64)` and `usd_per_gb (int64)` may not be the appropriate data types for decimal values. Incorrect data types can lead to unexpected results during calculations and analyses.  \n",
    "SOLUTION: All currency-related columns (`usd_per_message`, `usd_per_minute`, `usd_per_gb`, `usd_monthly_pay`) should be converted to float64 for accurate representation of decimal values (e.g., cents).  \n",
    "\n",
    "<u>Key Improvement(s):</u>  \n",
    "Data Integrity: Ensures accurate representation of currency values.  \n",
    "Enhanced Analysis: Allows for more reliable and precise calculations.  \n",
    "\n",
    "<u>POTENTIAL ISSUE 3:</u> The `plan_name` column is currently stored as an object data type, which can consume more memory than necessary for categorical data. This can impact performance, especially with larger datasets.  \n",
    "SOLUTION: Convert the `plan_name` column to the category data type for improved memory efficiency and to better represent categorical data.  \n",
    "\n",
    "<u>Key Improvement(s):</u>  \n",
    "Memory Efficiency: Reduces memory consumption, especially with large datasets.  \n",
    "Data Integrity: Better represents categorical data, improving data quality and consistency.  \n",
    "Enhanced Analysis: Facilitates efficient data analysis and visualization.  "
   ]
  },
  {
   "cell_type": "markdown",
   "metadata": {},
   "source": [
    "**Fix Data - Fix obvious issues with the data given the initial observations.**"
   ]
  },
  {
   "cell_type": "code",
   "execution_count": 11,
   "metadata": {},
   "outputs": [
    {
     "data": {
      "text/plain": [
       "'MB and GB Values:'"
      ]
     },
     "metadata": {},
     "output_type": "display_data"
    },
    {
     "data": {
      "text/plain": [
       "'Megabytes:'"
      ]
     },
     "metadata": {},
     "output_type": "display_data"
    },
    {
     "data": {
      "text/plain": [
       "0    15360\n",
       "1    30720\n",
       "Name: mb_per_month_included, dtype: int64"
      ]
     },
     "metadata": {},
     "output_type": "display_data"
    },
    {
     "data": {
      "text/plain": [
       "'Gigabytes:'"
      ]
     },
     "metadata": {},
     "output_type": "display_data"
    },
    {
     "data": {
      "text/plain": [
       "0    15.0\n",
       "1    30.0\n",
       "Name: mb_to_gb_converted, dtype: float64"
      ]
     },
     "metadata": {},
     "output_type": "display_data"
    },
    {
     "data": {
      "text/plain": [
       "'Currency Columns Converted to Float:'"
      ]
     },
     "metadata": {},
     "output_type": "display_data"
    },
    {
     "data": {
      "text/plain": [
       "'USD_per_GB:'"
      ]
     },
     "metadata": {},
     "output_type": "display_data"
    },
    {
     "data": {
      "text/plain": [
       "0    10.0\n",
       "1     7.0\n",
       "Name: usd_per_gb, dtype: float64"
      ]
     },
     "metadata": {},
     "output_type": "display_data"
    },
    {
     "data": {
      "text/plain": [
       "'USD_Monthly_Pay:'"
      ]
     },
     "metadata": {},
     "output_type": "display_data"
    },
    {
     "data": {
      "text/plain": [
       "0    20.0\n",
       "1    70.0\n",
       "Name: usd_monthly_pay, dtype: float64"
      ]
     },
     "metadata": {},
     "output_type": "display_data"
    },
    {
     "data": {
      "text/plain": [
       "'Plan Names as Category:'"
      ]
     },
     "metadata": {},
     "output_type": "display_data"
    },
    {
     "data": {
      "text/plain": [
       "'Column Type:'"
      ]
     },
     "metadata": {},
     "output_type": "display_data"
    },
    {
     "data": {
      "text/plain": [
       "CategoricalDtype(categories=['surf', 'ultimate'], ordered=False, categories_dtype=object)"
      ]
     },
     "metadata": {},
     "output_type": "display_data"
    },
    {
     "data": {
      "text/plain": [
       "'Values:'"
      ]
     },
     "metadata": {},
     "output_type": "display_data"
    },
    {
     "data": {
      "text/plain": [
       "0        surf\n",
       "1    ultimate\n",
       "Name: plan_name, dtype: category\n",
       "Categories (2, object): ['surf', 'ultimate']"
      ]
     },
     "metadata": {},
     "output_type": "display_data"
    }
   ],
   "source": [
    "data_mg_plans['mb_to_gb_converted'] = np.ceil(data_mg_plans['mb_per_month_included'] / 1024)\n",
    "display('MB and GB Values:', \n",
    "       'Megabytes:', data_mg_plans['mb_per_month_included'],\n",
    "       'Gigabytes:', data_mg_plans['mb_to_gb_converted'])\n",
    "\n",
    "data_mg_plans['usd_per_gb'] = data_mg_plans['usd_per_gb'].astype('float64')\n",
    "data_mg_plans['usd_monthly_pay'] = data_mg_plans['usd_monthly_pay'].astype('float64')\n",
    "display('Currency Columns Converted to Float:', \n",
    "       'USD_per_GB:', data_mg_plans['usd_per_gb'],\n",
    "       'USD_Monthly_Pay:', data_mg_plans['usd_monthly_pay'])\n",
    "\n",
    "data_mg_plans['plan_name'] = data_mg_plans['plan_name'].astype('category')\n",
    "display('Plan Names as Category:', \n",
    "       'Column Type:', data_mg_plans['plan_name'].dtype,\n",
    "       'Values:', data_mg_plans['plan_name'])"
   ]
  },
  {
   "cell_type": "markdown",
   "metadata": {},
   "source": [
    "**Enrich Data - Add additional factors to the data if you believe they might be useful.**"
   ]
  },
  {
   "cell_type": "markdown",
   "metadata": {},
   "source": [
    "<u>ADDITIONAL FACTOR(s) 1:</u>  \n",
    "It may be useful to check for outliers or inconsistent values in `usd_per_message` and `usd_per_minute` that may skew analysis.  \n",
    "\n",
    "<u>POTENTIAL ISSUE 1:</u>  \n",
    "Perform a descriptive statistics check on numerical columns to identify outliers or irregularities.  \n",
    "\n",
    "<u>Key Improvement(s):</u>  \n",
    "Ensures data integrity by identifying anomalies.  "
   ]
  },
  {
   "cell_type": "markdown",
   "metadata": {},
   "source": [
    "**Users Dataframe - Print the general/summary information about the users' DataFrame**\n",
    "\n",
    "- **3.2 Users Dataframe**"
   ]
  },
  {
   "cell_type": "code",
   "execution_count": 12,
   "metadata": {},
   "outputs": [
    {
     "data": {
      "text/plain": [
       "'First Few Rows - Megaline Users:'"
      ]
     },
     "metadata": {},
     "output_type": "display_data"
    },
    {
     "data": {
      "text/html": [
       "<div>\n",
       "<style scoped>\n",
       "    .dataframe tbody tr th:only-of-type {\n",
       "        vertical-align: middle;\n",
       "    }\n",
       "\n",
       "    .dataframe tbody tr th {\n",
       "        vertical-align: top;\n",
       "    }\n",
       "\n",
       "    .dataframe thead th {\n",
       "        text-align: right;\n",
       "    }\n",
       "</style>\n",
       "<table border=\"1\" class=\"dataframe\">\n",
       "  <thead>\n",
       "    <tr style=\"text-align: right;\">\n",
       "      <th></th>\n",
       "      <th>user_id</th>\n",
       "      <th>first_name</th>\n",
       "      <th>last_name</th>\n",
       "      <th>age</th>\n",
       "      <th>city</th>\n",
       "      <th>reg_date</th>\n",
       "      <th>plan</th>\n",
       "      <th>churn_date</th>\n",
       "    </tr>\n",
       "  </thead>\n",
       "  <tbody>\n",
       "    <tr>\n",
       "      <th>299</th>\n",
       "      <td>1299</td>\n",
       "      <td>Keitha</td>\n",
       "      <td>Harrison</td>\n",
       "      <td>64</td>\n",
       "      <td>New York-Newark-Jersey City, NY-NJ-PA MSA</td>\n",
       "      <td>2018-01-19</td>\n",
       "      <td>surf</td>\n",
       "      <td>NaN</td>\n",
       "    </tr>\n",
       "    <tr>\n",
       "      <th>162</th>\n",
       "      <td>1162</td>\n",
       "      <td>Mark</td>\n",
       "      <td>Farley</td>\n",
       "      <td>20</td>\n",
       "      <td>Los Angeles-Long Beach-Anaheim, CA MSA</td>\n",
       "      <td>2018-07-12</td>\n",
       "      <td>ultimate</td>\n",
       "      <td>NaN</td>\n",
       "    </tr>\n",
       "    <tr>\n",
       "      <th>17</th>\n",
       "      <td>1017</td>\n",
       "      <td>Boris</td>\n",
       "      <td>Gates</td>\n",
       "      <td>61</td>\n",
       "      <td>Washington-Arlington-Alexandria, DC-VA-MD-WV MSA</td>\n",
       "      <td>2018-08-26</td>\n",
       "      <td>surf</td>\n",
       "      <td>NaN</td>\n",
       "    </tr>\n",
       "    <tr>\n",
       "      <th>119</th>\n",
       "      <td>1119</td>\n",
       "      <td>Anderson</td>\n",
       "      <td>Palmer</td>\n",
       "      <td>60</td>\n",
       "      <td>Louisville/Jefferson County, KY-IN MSA</td>\n",
       "      <td>2018-10-05</td>\n",
       "      <td>surf</td>\n",
       "      <td>NaN</td>\n",
       "    </tr>\n",
       "    <tr>\n",
       "      <th>422</th>\n",
       "      <td>1422</td>\n",
       "      <td>Georgianne</td>\n",
       "      <td>Huff</td>\n",
       "      <td>41</td>\n",
       "      <td>Los Angeles-Long Beach-Anaheim, CA MSA</td>\n",
       "      <td>2018-04-03</td>\n",
       "      <td>ultimate</td>\n",
       "      <td>NaN</td>\n",
       "    </tr>\n",
       "    <tr>\n",
       "      <th>102</th>\n",
       "      <td>1102</td>\n",
       "      <td>Marquitta</td>\n",
       "      <td>Walton</td>\n",
       "      <td>30</td>\n",
       "      <td>Riverside-San Bernardino-Ontario, CA MSA</td>\n",
       "      <td>2018-02-20</td>\n",
       "      <td>ultimate</td>\n",
       "      <td>NaN</td>\n",
       "    </tr>\n",
       "    <tr>\n",
       "      <th>273</th>\n",
       "      <td>1273</td>\n",
       "      <td>Hermila</td>\n",
       "      <td>Ryan</td>\n",
       "      <td>25</td>\n",
       "      <td>Baton Rouge, LA MSA</td>\n",
       "      <td>2018-10-13</td>\n",
       "      <td>ultimate</td>\n",
       "      <td>NaN</td>\n",
       "    </tr>\n",
       "    <tr>\n",
       "      <th>138</th>\n",
       "      <td>1138</td>\n",
       "      <td>Arlie</td>\n",
       "      <td>Higgins</td>\n",
       "      <td>66</td>\n",
       "      <td>Riverside-San Bernardino-Ontario, CA MSA</td>\n",
       "      <td>2018-02-06</td>\n",
       "      <td>surf</td>\n",
       "      <td>NaN</td>\n",
       "    </tr>\n",
       "    <tr>\n",
       "      <th>146</th>\n",
       "      <td>1146</td>\n",
       "      <td>Loma</td>\n",
       "      <td>Mcneil</td>\n",
       "      <td>42</td>\n",
       "      <td>New York-Newark-Jersey City, NY-NJ-PA MSA</td>\n",
       "      <td>2018-10-13</td>\n",
       "      <td>surf</td>\n",
       "      <td>NaN</td>\n",
       "    </tr>\n",
       "    <tr>\n",
       "      <th>179</th>\n",
       "      <td>1179</td>\n",
       "      <td>Darcey</td>\n",
       "      <td>Baird</td>\n",
       "      <td>22</td>\n",
       "      <td>Dallas-Fort Worth-Arlington, TX MSA</td>\n",
       "      <td>2018-04-27</td>\n",
       "      <td>surf</td>\n",
       "      <td>NaN</td>\n",
       "    </tr>\n",
       "  </tbody>\n",
       "</table>\n",
       "</div>"
      ],
      "text/plain": [
       "     user_id  first_name last_name  age  \\\n",
       "299     1299      Keitha  Harrison   64   \n",
       "162     1162        Mark    Farley   20   \n",
       "17      1017       Boris     Gates   61   \n",
       "119     1119    Anderson    Palmer   60   \n",
       "422     1422  Georgianne      Huff   41   \n",
       "102     1102   Marquitta    Walton   30   \n",
       "273     1273     Hermila      Ryan   25   \n",
       "138     1138       Arlie   Higgins   66   \n",
       "146     1146        Loma    Mcneil   42   \n",
       "179     1179      Darcey     Baird   22   \n",
       "\n",
       "                                                 city    reg_date      plan  \\\n",
       "299         New York-Newark-Jersey City, NY-NJ-PA MSA  2018-01-19      surf   \n",
       "162            Los Angeles-Long Beach-Anaheim, CA MSA  2018-07-12  ultimate   \n",
       "17   Washington-Arlington-Alexandria, DC-VA-MD-WV MSA  2018-08-26      surf   \n",
       "119            Louisville/Jefferson County, KY-IN MSA  2018-10-05      surf   \n",
       "422            Los Angeles-Long Beach-Anaheim, CA MSA  2018-04-03  ultimate   \n",
       "102          Riverside-San Bernardino-Ontario, CA MSA  2018-02-20  ultimate   \n",
       "273                               Baton Rouge, LA MSA  2018-10-13  ultimate   \n",
       "138          Riverside-San Bernardino-Ontario, CA MSA  2018-02-06      surf   \n",
       "146         New York-Newark-Jersey City, NY-NJ-PA MSA  2018-10-13      surf   \n",
       "179               Dallas-Fort Worth-Arlington, TX MSA  2018-04-27      surf   \n",
       "\n",
       "    churn_date  \n",
       "299        NaN  \n",
       "162        NaN  \n",
       "17         NaN  \n",
       "119        NaN  \n",
       "422        NaN  \n",
       "102        NaN  \n",
       "273        NaN  \n",
       "138        NaN  \n",
       "146        NaN  \n",
       "179        NaN  "
      ]
     },
     "metadata": {},
     "output_type": "display_data"
    },
    {
     "data": {
      "text/plain": [
       "'Unique User_ID column Values Count:'"
      ]
     },
     "metadata": {},
     "output_type": "display_data"
    },
    {
     "data": {
      "text/plain": [
       "500"
      ]
     },
     "metadata": {},
     "output_type": "display_data"
    },
    {
     "data": {
      "text/plain": [
       "'Unique First_Name Values:'"
      ]
     },
     "metadata": {},
     "output_type": "display_data"
    },
    {
     "data": {
      "text/plain": [
       "458"
      ]
     },
     "metadata": {},
     "output_type": "display_data"
    },
    {
     "data": {
      "text/plain": [
       "'Unique Last_Name Values:'"
      ]
     },
     "metadata": {},
     "output_type": "display_data"
    },
    {
     "data": {
      "text/plain": [
       "399"
      ]
     },
     "metadata": {},
     "output_type": "display_data"
    },
    {
     "data": {
      "text/plain": [
       "'Unique Age Values:'"
      ]
     },
     "metadata": {},
     "output_type": "display_data"
    },
    {
     "data": {
      "text/plain": [
       "58"
      ]
     },
     "metadata": {},
     "output_type": "display_data"
    },
    {
     "data": {
      "text/plain": [
       "'Unique City Values:'"
      ]
     },
     "metadata": {},
     "output_type": "display_data"
    },
    {
     "data": {
      "text/plain": [
       "73"
      ]
     },
     "metadata": {},
     "output_type": "display_data"
    },
    {
     "data": {
      "text/plain": [
       "'Earliest Registration_Date:'"
      ]
     },
     "metadata": {},
     "output_type": "display_data"
    },
    {
     "data": {
      "text/plain": [
       "'2018-01-01'"
      ]
     },
     "metadata": {},
     "output_type": "display_data"
    },
    {
     "data": {
      "text/plain": [
       "'Latest Registration_Date:'"
      ]
     },
     "metadata": {},
     "output_type": "display_data"
    },
    {
     "data": {
      "text/plain": [
       "'2018-12-31'"
      ]
     },
     "metadata": {},
     "output_type": "display_data"
    },
    {
     "data": {
      "text/plain": [
       "'Total Number of Churned Users:'"
      ]
     },
     "metadata": {},
     "output_type": "display_data"
    },
    {
     "data": {
      "text/plain": [
       "np.int64(34)"
      ]
     },
     "metadata": {},
     "output_type": "display_data"
    },
    {
     "data": {
      "text/plain": [
       "'Count of Users Who Churned on each Date:'"
      ]
     },
     "metadata": {},
     "output_type": "display_data"
    },
    {
     "data": {
      "text/plain": [
       "churn_date\n",
       "2018-12-18    3\n",
       "2018-11-14    2\n",
       "2018-12-31    2\n",
       "2018-12-19    2\n",
       "2018-11-16    1\n",
       "2018-10-07    1\n",
       "2018-12-30    1\n",
       "2018-11-11    1\n",
       "2018-11-24    1\n",
       "2018-12-12    1\n",
       "2018-12-27    1\n",
       "2018-11-29    1\n",
       "2018-09-07    1\n",
       "2018-12-22    1\n",
       "2018-11-30    1\n",
       "2018-07-31    1\n",
       "2018-10-13    1\n",
       "2018-12-15    1\n",
       "2018-10-03    1\n",
       "2018-10-22    1\n",
       "2018-08-16    1\n",
       "2018-12-26    1\n",
       "2018-09-01    1\n",
       "2018-11-21    1\n",
       "2018-08-19    1\n",
       "2018-12-10    1\n",
       "2018-09-17    1\n",
       "2018-11-18    1\n",
       "2018-09-18    1\n",
       "Name: count, dtype: int64"
      ]
     },
     "metadata": {},
     "output_type": "display_data"
    }
   ],
   "source": [
    "display('First Few Rows - Megaline Users:', data_mg_users.sample(10))\n",
    "display('Unique User_ID column Values Count:', data_mg_users['user_id'].nunique())\n",
    "display('Unique First_Name Values:', data_mg_users['first_name'].nunique())\n",
    "display('Unique Last_Name Values:', data_mg_users['last_name'].nunique())\n",
    "display('Unique Age Values:', data_mg_users['age'].nunique())\n",
    "display('Unique City Values:', data_mg_users['city'].nunique())\n",
    "display('Earliest Registration_Date:', data_mg_users['reg_date'].min())\n",
    "display('Latest Registration_Date:', data_mg_users['reg_date'].max())\n",
    "display('Total Number of Churned Users:', data_mg_users['churn_date'].notnull().sum())\n",
    "display('Count of Users Who Churned on each Date:', data_mg_users['churn_date'].value_counts())"
   ]
  },
  {
   "cell_type": "markdown",
   "metadata": {},
   "source": [
    "Print a sample of data for users"
   ]
  },
  {
   "cell_type": "code",
   "execution_count": 13,
   "metadata": {},
   "outputs": [
    {
     "data": {
      "text/plain": [
       "'Sample of User Data:'"
      ]
     },
     "metadata": {},
     "output_type": "display_data"
    },
    {
     "data": {
      "text/html": [
       "<div>\n",
       "<style scoped>\n",
       "    .dataframe tbody tr th:only-of-type {\n",
       "        vertical-align: middle;\n",
       "    }\n",
       "\n",
       "    .dataframe tbody tr th {\n",
       "        vertical-align: top;\n",
       "    }\n",
       "\n",
       "    .dataframe thead th {\n",
       "        text-align: right;\n",
       "    }\n",
       "</style>\n",
       "<table border=\"1\" class=\"dataframe\">\n",
       "  <thead>\n",
       "    <tr style=\"text-align: right;\">\n",
       "      <th></th>\n",
       "      <th>user_id</th>\n",
       "      <th>first_name</th>\n",
       "      <th>last_name</th>\n",
       "      <th>age</th>\n",
       "      <th>city</th>\n",
       "      <th>reg_date</th>\n",
       "      <th>plan</th>\n",
       "      <th>churn_date</th>\n",
       "    </tr>\n",
       "  </thead>\n",
       "  <tbody>\n",
       "    <tr>\n",
       "      <th>17</th>\n",
       "      <td>1017</td>\n",
       "      <td>Boris</td>\n",
       "      <td>Gates</td>\n",
       "      <td>61</td>\n",
       "      <td>Washington-Arlington-Alexandria, DC-VA-MD-WV MSA</td>\n",
       "      <td>2018-08-26</td>\n",
       "      <td>surf</td>\n",
       "      <td>NaN</td>\n",
       "    </tr>\n",
       "    <tr>\n",
       "      <th>144</th>\n",
       "      <td>1144</td>\n",
       "      <td>Kaycee</td>\n",
       "      <td>Peterson</td>\n",
       "      <td>65</td>\n",
       "      <td>New York-Newark-Jersey City, NY-NJ-PA MSA</td>\n",
       "      <td>2018-04-21</td>\n",
       "      <td>ultimate</td>\n",
       "      <td>NaN</td>\n",
       "    </tr>\n",
       "    <tr>\n",
       "      <th>111</th>\n",
       "      <td>1111</td>\n",
       "      <td>Booker</td>\n",
       "      <td>Hahn</td>\n",
       "      <td>75</td>\n",
       "      <td>Urban Honolulu, HI MSA</td>\n",
       "      <td>2018-09-17</td>\n",
       "      <td>surf</td>\n",
       "      <td>NaN</td>\n",
       "    </tr>\n",
       "    <tr>\n",
       "      <th>193</th>\n",
       "      <td>1193</td>\n",
       "      <td>Lacresha</td>\n",
       "      <td>Olsen</td>\n",
       "      <td>18</td>\n",
       "      <td>Houston-The Woodlands-Sugar Land, TX MSA</td>\n",
       "      <td>2018-07-07</td>\n",
       "      <td>surf</td>\n",
       "      <td>NaN</td>\n",
       "    </tr>\n",
       "    <tr>\n",
       "      <th>370</th>\n",
       "      <td>1370</td>\n",
       "      <td>Nenita</td>\n",
       "      <td>Vasquez</td>\n",
       "      <td>49</td>\n",
       "      <td>San Diego-Chula Vista-Carlsbad, CA MSA</td>\n",
       "      <td>2018-09-12</td>\n",
       "      <td>ultimate</td>\n",
       "      <td>NaN</td>\n",
       "    </tr>\n",
       "    <tr>\n",
       "      <th>459</th>\n",
       "      <td>1459</td>\n",
       "      <td>Santos</td>\n",
       "      <td>Head</td>\n",
       "      <td>40</td>\n",
       "      <td>San Francisco-Oakland-Berkeley, CA MSA</td>\n",
       "      <td>2018-04-27</td>\n",
       "      <td>ultimate</td>\n",
       "      <td>NaN</td>\n",
       "    </tr>\n",
       "    <tr>\n",
       "      <th>1</th>\n",
       "      <td>1001</td>\n",
       "      <td>Mickey</td>\n",
       "      <td>Wilkerson</td>\n",
       "      <td>28</td>\n",
       "      <td>Seattle-Tacoma-Bellevue, WA MSA</td>\n",
       "      <td>2018-08-13</td>\n",
       "      <td>surf</td>\n",
       "      <td>NaN</td>\n",
       "    </tr>\n",
       "    <tr>\n",
       "      <th>259</th>\n",
       "      <td>1259</td>\n",
       "      <td>Etsuko</td>\n",
       "      <td>Perry</td>\n",
       "      <td>63</td>\n",
       "      <td>Philadelphia-Camden-Wilmington, PA-NJ-DE-MD MSA</td>\n",
       "      <td>2018-03-16</td>\n",
       "      <td>surf</td>\n",
       "      <td>NaN</td>\n",
       "    </tr>\n",
       "    <tr>\n",
       "      <th>446</th>\n",
       "      <td>1446</td>\n",
       "      <td>Pasquale</td>\n",
       "      <td>Ball</td>\n",
       "      <td>52</td>\n",
       "      <td>Austin-Round Rock-Georgetown, TX MSA</td>\n",
       "      <td>2018-09-10</td>\n",
       "      <td>surf</td>\n",
       "      <td>NaN</td>\n",
       "    </tr>\n",
       "    <tr>\n",
       "      <th>20</th>\n",
       "      <td>1020</td>\n",
       "      <td>Rutha</td>\n",
       "      <td>Bell</td>\n",
       "      <td>56</td>\n",
       "      <td>Dallas-Fort Worth-Arlington, TX MSA</td>\n",
       "      <td>2018-11-08</td>\n",
       "      <td>surf</td>\n",
       "      <td>NaN</td>\n",
       "    </tr>\n",
       "  </tbody>\n",
       "</table>\n",
       "</div>"
      ],
      "text/plain": [
       "     user_id first_name  last_name  age  \\\n",
       "17      1017      Boris      Gates   61   \n",
       "144     1144     Kaycee   Peterson   65   \n",
       "111     1111     Booker       Hahn   75   \n",
       "193     1193   Lacresha      Olsen   18   \n",
       "370     1370     Nenita    Vasquez   49   \n",
       "459     1459     Santos       Head   40   \n",
       "1       1001     Mickey  Wilkerson   28   \n",
       "259     1259     Etsuko      Perry   63   \n",
       "446     1446   Pasquale       Ball   52   \n",
       "20      1020      Rutha       Bell   56   \n",
       "\n",
       "                                                 city    reg_date      plan  \\\n",
       "17   Washington-Arlington-Alexandria, DC-VA-MD-WV MSA  2018-08-26      surf   \n",
       "144         New York-Newark-Jersey City, NY-NJ-PA MSA  2018-04-21  ultimate   \n",
       "111                            Urban Honolulu, HI MSA  2018-09-17      surf   \n",
       "193          Houston-The Woodlands-Sugar Land, TX MSA  2018-07-07      surf   \n",
       "370            San Diego-Chula Vista-Carlsbad, CA MSA  2018-09-12  ultimate   \n",
       "459            San Francisco-Oakland-Berkeley, CA MSA  2018-04-27  ultimate   \n",
       "1                     Seattle-Tacoma-Bellevue, WA MSA  2018-08-13      surf   \n",
       "259   Philadelphia-Camden-Wilmington, PA-NJ-DE-MD MSA  2018-03-16      surf   \n",
       "446              Austin-Round Rock-Georgetown, TX MSA  2018-09-10      surf   \n",
       "20                Dallas-Fort Worth-Arlington, TX MSA  2018-11-08      surf   \n",
       "\n",
       "    churn_date  \n",
       "17         NaN  \n",
       "144        NaN  \n",
       "111        NaN  \n",
       "193        NaN  \n",
       "370        NaN  \n",
       "459        NaN  \n",
       "1          NaN  \n",
       "259        NaN  \n",
       "446        NaN  \n",
       "20         NaN  "
      ]
     },
     "metadata": {},
     "output_type": "display_data"
    }
   ],
   "source": [
    "display('Sample of User Data:', data_mg_users.sample(10))"
   ]
  },
  {
   "cell_type": "markdown",
   "metadata": {},
   "source": [
    "For my reference, assessing missing values in the Users dataset related to churn"
   ]
  },
  {
   "cell_type": "code",
   "execution_count": 14,
   "metadata": {},
   "outputs": [
    {
     "name": "stdout",
     "output_type": "stream",
     "text": [
      "NaN values before:\n",
      "user_id         0\n",
      "first_name      0\n",
      "last_name       0\n",
      "age             0\n",
      "city            0\n",
      "reg_date        0\n",
      "plan            0\n",
      "churn_date    466\n",
      "dtype: int64\n",
      "\n",
      "NaN values after:\n"
     ]
    },
    {
     "data": {
      "text/plain": [
       "user_id              0\n",
       "first_name           0\n",
       "last_name            0\n",
       "age                  0\n",
       "city                 0\n",
       "reg_date             0\n",
       "plan                 0\n",
       "churn_date         466\n",
       "customer_status      0\n",
       "dtype: int64"
      ]
     },
     "metadata": {},
     "output_type": "display_data"
    },
    {
     "name": "stdout",
     "output_type": "stream",
     "text": [
      "\n",
      "Customer Status Count:\n"
     ]
    },
    {
     "data": {
      "text/plain": [
       "customer_status\n",
       "Active     466\n",
       "Churned     34\n",
       "Name: count, dtype: int64"
      ]
     },
     "metadata": {},
     "output_type": "display_data"
    }
   ],
   "source": [
    "print(\"NaN values before:\")\n",
    "print(data_mg_users.isna().sum())\n",
    "\n",
    "data_mg_users['customer_status'] = 'Churned'  \n",
    "data_mg_users.loc[data_mg_users['churn_date'].isna(), 'customer_status'] = 'Active'  \n",
    "\n",
    "print(\"\\nNaN values after:\")\n",
    "display(data_mg_users.isna().sum())\n",
    "\n",
    "print(\"\\nCustomer Status Count:\")\n",
    "display(data_mg_users['customer_status'].value_counts())"
   ]
  },
  {
   "cell_type": "markdown",
   "metadata": {},
   "source": [
    "**Describe what you see and notice in the general information and the printed data sample for the above price of data. Are there any issues (inappropriate data types, missing data etc) that may need further investigation and changes? How that can be fixed?**"
   ]
  },
  {
   "cell_type": "markdown",
   "metadata": {},
   "source": [
    "The Users dataset consists of 500 rows and 8 columns: `user_id`, `first_name`, `last_name`, `age`, `city`, `reg_date`, `plan` and `churn_date`.<br> \n",
    "- Data types include: \n",
    "  - int64: `user_id` and `age` \n",
    "  - object: `first_name`, `last_name`, `city`, `reg_date`, `plan` and `churn_date`\n",
    "\n",
    "<u>POTENTIAL ISSUE 1:</u> The `churn_date` and `reg_date` columns are not in the appropriate datetime format (datetime64[ns]), which can affect date related calculations. This may also lead to incorrect calculations, sorting errors and difficulty filtering.\n",
    " \n",
    "<u>SOLUTION:</u>\n",
    "Converting `churn_date` and `reg_date` columns to datetime64[ns] data type format will make it easier to work with dates correctly, sort the data by date and find data from a specific time period. Since we are working with a pandas DataFrame, we can utilize the to_datetime() function to convert these columns.\n",
    "\n",
    "<u>Key Improvement(s):</u> \n",
    "Accurate data calculations which enables precise calculations involving dates - Efficient sorting which facilitates efficient sorting - Flexible filtering which enables easy and accurate filtering\n",
    "\n",
    "<u>POTENTIAL ISSUE / Solution 2:</u>\n",
    "As noted in Section 1.4, converting the `plan_name` column to the category data type allows for improved memory efficiency and to better represent categorical data.\n",
    "\n",
    "<u>Key Improvement(s):</u>\n",
    "Memory efficiancy, data integrity and enhanced analysis"
   ]
  },
  {
   "cell_type": "markdown",
   "metadata": {},
   "source": [
    "**Fix Data - Fix obvious issues with the data given the initial observations.**"
   ]
  },
  {
   "cell_type": "code",
   "execution_count": 15,
   "metadata": {},
   "outputs": [
    {
     "data": {
      "text/plain": [
       "dtype('<M8[ns]')"
      ]
     },
     "metadata": {},
     "output_type": "display_data"
    },
    {
     "data": {
      "text/plain": [
       "6     2018-12-18\n",
       "83    2018-12-18\n",
       "281   2018-11-14\n",
       "246   2018-07-31\n",
       "12    2018-11-16\n",
       "Name: churn_date, dtype: datetime64[ns]"
      ]
     },
     "metadata": {},
     "output_type": "display_data"
    },
    {
     "data": {
      "text/plain": [
       "dtype('<M8[ns]')"
      ]
     },
     "metadata": {},
     "output_type": "display_data"
    },
    {
     "data": {
      "text/plain": [
       "39    2018-05-30\n",
       "236   2018-04-04\n",
       "481   2018-12-27\n",
       "24    2018-08-21\n",
       "224   2018-06-28\n",
       "Name: reg_date, dtype: datetime64[ns]"
      ]
     },
     "metadata": {},
     "output_type": "display_data"
    }
   ],
   "source": [
    "data_mg_users['churn_date'] = pd.to_datetime(data_mg_users['churn_date'])\n",
    "display(data_mg_users['churn_date'].dtype)\n",
    "display(data_mg_users[data_mg_users['churn_date'].notna()]['churn_date'].sample(5))\n",
    "\n",
    "data_mg_users['reg_date'] = pd.to_datetime(data_mg_users['reg_date'])\n",
    "display(data_mg_users['reg_date'].dtype)\n",
    "display(data_mg_users[data_mg_users['reg_date'].notna()]['reg_date'].sample(5))"
   ]
  },
  {
   "cell_type": "markdown",
   "metadata": {},
   "source": [
    "Enrich Data - Add additional factors to the data if you believe they might be useful"
   ]
  },
  {
   "cell_type": "markdown",
   "metadata": {},
   "source": [
    "<u>ADDITIONAL FACTOR(s) 1:</u><br>\n",
    "The current `city` column utilizes a Metropolitan Statistical Area (MSA) format, which combines the city name with neighborhood information. In some cases, multiple neighborhoods are included within a single \"city\" entry.<br> \n",
    "SOLUTION: Use a loop to split the `city` column into simple, cleaner columns: `city`, `neighborhood1`, `neighborhood2`. For rows without a neighborhood (indicated by a single hyphen or no hyphen), the loop will assign a \"NAN\" value when that criteria is meet.\n",
    "\n",
    "<u>Key Improvements:</u><br>\n",
    "Data Clarity: Separate combined information into distinct columns and makes with data point accessible<br>\n",
    "Analysis Benefits: Enables city analysis w/o neighborhood granularity while facilitates state grouping and filtering<br> \n",
    "Data Quality: Handles missing neighborhoods, maintains original information while improving data consistency"
   ]
  },
  {
   "cell_type": "code",
   "execution_count": 16,
   "metadata": {},
   "outputs": [
    {
     "data": {
      "text/plain": [
       "'BEFORE - Original MSA format:'"
      ]
     },
     "metadata": {},
     "output_type": "display_data"
    },
    {
     "data": {
      "text/plain": [
       "0    Atlanta-Sandy Springs-Roswell, GA MSA\n",
       "1          Seattle-Tacoma-Bellevue, WA MSA\n",
       "2     Las Vegas-Henderson-Paradise, NV MSA\n",
       "3                            Tulsa, OK MSA\n",
       "4          Seattle-Tacoma-Bellevue, WA MSA\n",
       "Name: original_city, dtype: object"
      ]
     },
     "metadata": {},
     "output_type": "display_data"
    },
    {
     "data": {
      "text/plain": [
       "'\\nAFTER - Split format:'"
      ]
     },
     "metadata": {},
     "output_type": "display_data"
    },
    {
     "data": {
      "text/plain": [
       "'\\nCity:'"
      ]
     },
     "metadata": {},
     "output_type": "display_data"
    },
    {
     "data": {
      "text/plain": [
       "0          Atlanta\n",
       "1          Seattle\n",
       "2        Las Vegas\n",
       "3    Tulsa, OK MSA\n",
       "4          Seattle\n",
       "Name: city, dtype: object"
      ]
     },
     "metadata": {},
     "output_type": "display_data"
    },
    {
     "data": {
      "text/plain": [
       "'\\nNeighborhood 1:'"
      ]
     },
     "metadata": {},
     "output_type": "display_data"
    },
    {
     "data": {
      "text/plain": [
       "0   NaN\n",
       "1   NaN\n",
       "2   NaN\n",
       "3   NaN\n",
       "4   NaN\n",
       "Name: neighborhood1, dtype: float64"
      ]
     },
     "metadata": {},
     "output_type": "display_data"
    },
    {
     "data": {
      "text/plain": [
       "'\\nNeighborhood 2:'"
      ]
     },
     "metadata": {},
     "output_type": "display_data"
    },
    {
     "data": {
      "text/plain": [
       "0   NaN\n",
       "1   NaN\n",
       "2   NaN\n",
       "3   NaN\n",
       "4   NaN\n",
       "Name: neighborhood2, dtype: float64"
      ]
     },
     "metadata": {},
     "output_type": "display_data"
    },
    {
     "data": {
      "text/plain": [
       "'\\nState:'"
      ]
     },
     "metadata": {},
     "output_type": "display_data"
    },
    {
     "data": {
      "text/plain": [
       "0    NaN\n",
       "1    NaN\n",
       "2    NaN\n",
       "3     OK\n",
       "4    NaN\n",
       "Name: state, dtype: object"
      ]
     },
     "metadata": {},
     "output_type": "display_data"
    }
   ],
   "source": [
    "data_mg_users['original_city'] = data_mg_users['city'] \n",
    "display('BEFORE - Original MSA format:',\n",
    "        data_mg_users['original_city'].head())\n",
    "#initial format not displaying\n",
    "\n",
    "data_mg_users['city'] = data_mg_users['city'].str.split('-').str[0]\n",
    "\n",
    "data_mg_users['neighborhood1'] = data_mg_users['city'].str.split('-').str[1]\n",
    "\n",
    "data_mg_users['neighborhood2'] = data_mg_users['city'].str.split('-').str[2]\n",
    "\n",
    "data_mg_users['state'] = data_mg_users['city'].str.split(',').str[1].str.strip().str[:2]\n",
    "\n",
    "display('\\nAFTER - Split format:',\n",
    "        '\\nCity:', data_mg_users['city'].head(),\n",
    "        '\\nNeighborhood 1:', data_mg_users['neighborhood1'].head(),\n",
    "        '\\nNeighborhood 2:', data_mg_users['neighborhood2'].head(),\n",
    "        '\\nState:', data_mg_users['state'].head())"
   ]
  },
  {
   "cell_type": "markdown",
   "metadata": {},
   "source": [
    "**Calls - Print the general/summary information about the calls' DataFrame**\n",
    "\n",
    "- **3.3 Calls Dataframe**"
   ]
  },
  {
   "cell_type": "code",
   "execution_count": 17,
   "metadata": {},
   "outputs": [
    {
     "data": {
      "text/plain": [
       "'First Few Rows - Megaline Calls:'"
      ]
     },
     "metadata": {},
     "output_type": "display_data"
    },
    {
     "data": {
      "text/html": [
       "<div>\n",
       "<style scoped>\n",
       "    .dataframe tbody tr th:only-of-type {\n",
       "        vertical-align: middle;\n",
       "    }\n",
       "\n",
       "    .dataframe tbody tr th {\n",
       "        vertical-align: top;\n",
       "    }\n",
       "\n",
       "    .dataframe thead th {\n",
       "        text-align: right;\n",
       "    }\n",
       "</style>\n",
       "<table border=\"1\" class=\"dataframe\">\n",
       "  <thead>\n",
       "    <tr style=\"text-align: right;\">\n",
       "      <th></th>\n",
       "      <th>id</th>\n",
       "      <th>user_id</th>\n",
       "      <th>call_date</th>\n",
       "      <th>duration</th>\n",
       "    </tr>\n",
       "  </thead>\n",
       "  <tbody>\n",
       "    <tr>\n",
       "      <th>67959</th>\n",
       "      <td>1245_182</td>\n",
       "      <td>1245</td>\n",
       "      <td>2018-11-08</td>\n",
       "      <td>0.00</td>\n",
       "    </tr>\n",
       "    <tr>\n",
       "      <th>87836</th>\n",
       "      <td>1321_708</td>\n",
       "      <td>1321</td>\n",
       "      <td>2018-07-12</td>\n",
       "      <td>12.40</td>\n",
       "    </tr>\n",
       "    <tr>\n",
       "      <th>4648</th>\n",
       "      <td>1020_167</td>\n",
       "      <td>1020</td>\n",
       "      <td>2018-12-27</td>\n",
       "      <td>0.00</td>\n",
       "    </tr>\n",
       "    <tr>\n",
       "      <th>60262</th>\n",
       "      <td>1217_83</td>\n",
       "      <td>1217</td>\n",
       "      <td>2018-10-30</td>\n",
       "      <td>0.84</td>\n",
       "    </tr>\n",
       "    <tr>\n",
       "      <th>60753</th>\n",
       "      <td>1220_107</td>\n",
       "      <td>1220</td>\n",
       "      <td>2018-08-14</td>\n",
       "      <td>0.00</td>\n",
       "    </tr>\n",
       "    <tr>\n",
       "      <th>70461</th>\n",
       "      <td>1251_472</td>\n",
       "      <td>1251</td>\n",
       "      <td>2018-06-26</td>\n",
       "      <td>8.68</td>\n",
       "    </tr>\n",
       "    <tr>\n",
       "      <th>48365</th>\n",
       "      <td>1174_342</td>\n",
       "      <td>1174</td>\n",
       "      <td>2018-06-21</td>\n",
       "      <td>0.00</td>\n",
       "    </tr>\n",
       "    <tr>\n",
       "      <th>113087</th>\n",
       "      <td>1397_853</td>\n",
       "      <td>1397</td>\n",
       "      <td>2018-07-28</td>\n",
       "      <td>11.86</td>\n",
       "    </tr>\n",
       "    <tr>\n",
       "      <th>2516</th>\n",
       "      <td>1010_92</td>\n",
       "      <td>1010</td>\n",
       "      <td>2018-03-16</td>\n",
       "      <td>0.00</td>\n",
       "    </tr>\n",
       "    <tr>\n",
       "      <th>107149</th>\n",
       "      <td>1380_309</td>\n",
       "      <td>1380</td>\n",
       "      <td>2018-09-28</td>\n",
       "      <td>15.07</td>\n",
       "    </tr>\n",
       "  </tbody>\n",
       "</table>\n",
       "</div>"
      ],
      "text/plain": [
       "              id  user_id   call_date  duration\n",
       "67959   1245_182     1245  2018-11-08      0.00\n",
       "87836   1321_708     1321  2018-07-12     12.40\n",
       "4648    1020_167     1020  2018-12-27      0.00\n",
       "60262    1217_83     1217  2018-10-30      0.84\n",
       "60753   1220_107     1220  2018-08-14      0.00\n",
       "70461   1251_472     1251  2018-06-26      8.68\n",
       "48365   1174_342     1174  2018-06-21      0.00\n",
       "113087  1397_853     1397  2018-07-28     11.86\n",
       "2516     1010_92     1010  2018-03-16      0.00\n",
       "107149  1380_309     1380  2018-09-28     15.07"
      ]
     },
     "metadata": {},
     "output_type": "display_data"
    },
    {
     "data": {
      "text/plain": [
       "'Unique Call IDs:'"
      ]
     },
     "metadata": {},
     "output_type": "display_data"
    },
    {
     "data": {
      "text/plain": [
       "137735"
      ]
     },
     "metadata": {},
     "output_type": "display_data"
    },
    {
     "data": {
      "text/plain": [
       "'Unique ID Values Count:'"
      ]
     },
     "metadata": {},
     "output_type": "display_data"
    },
    {
     "data": {
      "text/plain": [
       "id\n",
       "1499_203    1\n",
       "1000_93     1\n",
       "1000_145    1\n",
       "1000_247    1\n",
       "1000_309    1\n",
       "           ..\n",
       "1000_705    1\n",
       "1000_693    1\n",
       "1000_544    1\n",
       "1000_530    1\n",
       "1000_521    1\n",
       "Name: count, Length: 137735, dtype: int64"
      ]
     },
     "metadata": {},
     "output_type": "display_data"
    },
    {
     "data": {
      "text/plain": [
       "'Unique User_ID Values Count:'"
      ]
     },
     "metadata": {},
     "output_type": "display_data"
    },
    {
     "data": {
      "text/plain": [
       "481"
      ]
     },
     "metadata": {},
     "output_type": "display_data"
    },
    {
     "data": {
      "text/plain": [
       "'Call Frequency by User:'"
      ]
     },
     "metadata": {},
     "output_type": "display_data"
    },
    {
     "data": {
      "text/plain": [
       "user_id\n",
       "1324    1300\n",
       "1077    1224\n",
       "1334    1140\n",
       "1362    1121\n",
       "1320    1080\n",
       "        ... \n",
       "1104       4\n",
       "1323       3\n",
       "1306       3\n",
       "1452       3\n",
       "1034       2\n",
       "Name: count, Length: 481, dtype: int64"
      ]
     },
     "metadata": {},
     "output_type": "display_data"
    },
    {
     "data": {
      "text/plain": [
       "'Call Frequency by Date:'"
      ]
     },
     "metadata": {},
     "output_type": "display_data"
    },
    {
     "data": {
      "text/plain": [
       "call_date\n",
       "2018-12-27    1091\n",
       "2018-12-28    1085\n",
       "2018-12-30    1080\n",
       "2018-12-24    1078\n",
       "2018-12-29    1070\n",
       "              ... \n",
       "2018-01-17       6\n",
       "2018-01-26       6\n",
       "2018-01-15       5\n",
       "2018-01-18       4\n",
       "2018-01-24       3\n",
       "Name: count, Length: 351, dtype: int64"
      ]
     },
     "metadata": {},
     "output_type": "display_data"
    },
    {
     "data": {
      "text/plain": [
       "'Missing Duration Values Count:'"
      ]
     },
     "metadata": {},
     "output_type": "display_data"
    },
    {
     "data": {
      "text/plain": [
       "np.int64(0)"
      ]
     },
     "metadata": {},
     "output_type": "display_data"
    }
   ],
   "source": [
    "display('First Few Rows - Megaline Calls:', data_mg_calls.sample(10))\n",
    "display('Unique Call IDs:', data_mg_calls['id'].nunique())\n",
    "display('Unique ID Values Count:', data_mg_calls['id'].value_counts())\n",
    "display('Unique User_ID Values Count:', data_mg_calls['user_id'].nunique())\n",
    "display('Call Frequency by User:', data_mg_calls['user_id'].value_counts())\n",
    "display('Call Frequency by Date:', data_mg_calls['call_date'].value_counts())\n",
    "display('Missing Duration Values Count:', data_mg_calls['duration'].isnull().sum())"
   ]
  },
  {
   "cell_type": "markdown",
   "metadata": {},
   "source": [
    "**Print a sample of data for calls**"
   ]
  },
  {
   "cell_type": "code",
   "execution_count": 18,
   "metadata": {},
   "outputs": [
    {
     "data": {
      "text/plain": [
       "'Sample of Calls Data:'"
      ]
     },
     "metadata": {},
     "output_type": "display_data"
    },
    {
     "data": {
      "text/html": [
       "<div>\n",
       "<style scoped>\n",
       "    .dataframe tbody tr th:only-of-type {\n",
       "        vertical-align: middle;\n",
       "    }\n",
       "\n",
       "    .dataframe tbody tr th {\n",
       "        vertical-align: top;\n",
       "    }\n",
       "\n",
       "    .dataframe thead th {\n",
       "        text-align: right;\n",
       "    }\n",
       "</style>\n",
       "<table border=\"1\" class=\"dataframe\">\n",
       "  <thead>\n",
       "    <tr style=\"text-align: right;\">\n",
       "      <th></th>\n",
       "      <th>id</th>\n",
       "      <th>user_id</th>\n",
       "      <th>call_date</th>\n",
       "      <th>duration</th>\n",
       "    </tr>\n",
       "  </thead>\n",
       "  <tbody>\n",
       "    <tr>\n",
       "      <th>46991</th>\n",
       "      <td>1171_22</td>\n",
       "      <td>1171</td>\n",
       "      <td>2018-06-05</td>\n",
       "      <td>6.03</td>\n",
       "    </tr>\n",
       "    <tr>\n",
       "      <th>110820</th>\n",
       "      <td>1390_269</td>\n",
       "      <td>1390</td>\n",
       "      <td>2018-11-08</td>\n",
       "      <td>1.73</td>\n",
       "    </tr>\n",
       "    <tr>\n",
       "      <th>74199</th>\n",
       "      <td>1263_183</td>\n",
       "      <td>1263</td>\n",
       "      <td>2018-05-27</td>\n",
       "      <td>6.43</td>\n",
       "    </tr>\n",
       "    <tr>\n",
       "      <th>104442</th>\n",
       "      <td>1368_129</td>\n",
       "      <td>1368</td>\n",
       "      <td>2018-10-09</td>\n",
       "      <td>3.70</td>\n",
       "    </tr>\n",
       "    <tr>\n",
       "      <th>137246</th>\n",
       "      <td>1498_174</td>\n",
       "      <td>1498</td>\n",
       "      <td>2018-08-28</td>\n",
       "      <td>5.37</td>\n",
       "    </tr>\n",
       "    <tr>\n",
       "      <th>108261</th>\n",
       "      <td>1382_1487</td>\n",
       "      <td>1382</td>\n",
       "      <td>2018-12-31</td>\n",
       "      <td>6.88</td>\n",
       "    </tr>\n",
       "    <tr>\n",
       "      <th>25194</th>\n",
       "      <td>1097_297</td>\n",
       "      <td>1097</td>\n",
       "      <td>2018-11-12</td>\n",
       "      <td>0.00</td>\n",
       "    </tr>\n",
       "    <tr>\n",
       "      <th>17045</th>\n",
       "      <td>1066_147</td>\n",
       "      <td>1066</td>\n",
       "      <td>2018-06-11</td>\n",
       "      <td>0.82</td>\n",
       "    </tr>\n",
       "    <tr>\n",
       "      <th>30583</th>\n",
       "      <td>1114_484</td>\n",
       "      <td>1114</td>\n",
       "      <td>2018-11-07</td>\n",
       "      <td>19.29</td>\n",
       "    </tr>\n",
       "    <tr>\n",
       "      <th>126165</th>\n",
       "      <td>1447_30</td>\n",
       "      <td>1447</td>\n",
       "      <td>2018-10-31</td>\n",
       "      <td>16.41</td>\n",
       "    </tr>\n",
       "  </tbody>\n",
       "</table>\n",
       "</div>"
      ],
      "text/plain": [
       "               id  user_id   call_date  duration\n",
       "46991     1171_22     1171  2018-06-05      6.03\n",
       "110820   1390_269     1390  2018-11-08      1.73\n",
       "74199    1263_183     1263  2018-05-27      6.43\n",
       "104442   1368_129     1368  2018-10-09      3.70\n",
       "137246   1498_174     1498  2018-08-28      5.37\n",
       "108261  1382_1487     1382  2018-12-31      6.88\n",
       "25194    1097_297     1097  2018-11-12      0.00\n",
       "17045    1066_147     1066  2018-06-11      0.82\n",
       "30583    1114_484     1114  2018-11-07     19.29\n",
       "126165    1447_30     1447  2018-10-31     16.41"
      ]
     },
     "metadata": {},
     "output_type": "display_data"
    }
   ],
   "source": [
    "display('Sample of Calls Data:', data_mg_calls.sample(10))"
   ]
  },
  {
   "cell_type": "markdown",
   "metadata": {},
   "source": [
    "**Describe what you see and notice in the general information and the printed data sample for the above price of data. Are there any issues (inappropriate data types, missing data etc) that may need further investigation and changes? How that can be fixed?**"
   ]
  },
  {
   "cell_type": "markdown",
   "metadata": {},
   "source": [
    "The Calls dataset consists of 137735 rows and 4 columns: `id`, `user_id`, `call_date` and `duration`.<br> \n",
    "- Data types include: \n",
    "  - object: `id` and `call_date` \n",
    "  - int64: `user_id` \n",
    "  - float64: `duration`\n",
    "\n",
    "<u>POTENTIAL ISSUE 1:</u>\n",
    "The `id` column combines the `user_id` and `sequence number` as a string. This is less efficient for indexing.<br> \n",
    "SOLUTION: Split `id` column (comprised of) `user_id` and `call_sequence` into 2 columns\n",
    "\n",
    "<u>Key Improvement(s):</u> \n",
    "Better organization, easier to track calls per user and more efficient storage\n",
    "\n",
    "<u>POTENTIAL ISSUE 2:</u>\n",
    "`call_date` is stored as an object rather than datetime. This can cause issues with date related calculations, sorting and filtering.<br>\n",
    "- Potential solution: Convert `call_date` to the datetime64[ns] data type using pd.to_datetime().\n",
    "\n",
    "<u>Key Improvement(s):</u>\n",
    "Enables accurate sorting and filtering by date and facilitates time based calculations"
   ]
  },
  {
   "cell_type": "markdown",
   "metadata": {},
   "source": [
    "**Fix Data - Fix obvious issues with the data given the initial observations.**"
   ]
  },
  {
   "cell_type": "code",
   "execution_count": 19,
   "metadata": {},
   "outputs": [
    {
     "data": {
      "text/plain": [
       "10920     1049\n",
       "46363     1167\n",
       "41698     1153\n",
       "134755    1489\n",
       "90877     1328\n",
       "Name: user_id_from_id, dtype: object"
      ]
     },
     "metadata": {},
     "output_type": "display_data"
    },
    {
     "data": {
      "text/plain": [
       "25069     172\n",
       "122170     20\n",
       "22864     126\n",
       "88038      79\n",
       "58641      34\n",
       "Name: call_sequence, dtype: object"
      ]
     },
     "metadata": {},
     "output_type": "display_data"
    },
    {
     "data": {
      "text/plain": [
       "dtype('<M8[ns]')"
      ]
     },
     "metadata": {},
     "output_type": "display_data"
    }
   ],
   "source": [
    "data_mg_calls[['user_id_from_id', 'call_sequence']] = data_mg_calls['id'].str.split('_', expand=True)\n",
    "display(data_mg_calls['user_id_from_id'].sample(5), \n",
    "       data_mg_calls['call_sequence'].sample(5))\n",
    "\n",
    "\n",
    "data_mg_calls['call_date'] = pd.to_datetime(data_mg_calls['call_date'])\n",
    "display(data_mg_calls['call_date'].dtype)"
   ]
  },
  {
   "cell_type": "markdown",
   "metadata": {},
   "source": [
    "**Enrich Data - Add additional factors to the data if you believe they might be useful.**"
   ]
  },
  {
   "cell_type": "markdown",
   "metadata": {},
   "source": [
    "<u>ADDITIONAL FACTOR(s) 1:</u><br> \n",
    "Calculating daily call averages could be useful. Since we converted the `call_date` column pd.to_datetime(data_mg_calls['call_date']), we can group the data and count the number of calls for each date.\n",
    "\n",
    "<u>ADDITIONAL FACTOR(s) 2:</u><br> \n",
    "Calculating daily peak call hours would be useful, but the `call_date` column only contains the date."
   ]
  },
  {
   "cell_type": "markdown",
   "metadata": {},
   "source": [
    "  - `.describe()` does not effectively handle the `call_date` column (datetime64[ns] dtype), resulting in missing `mean` and `std` values. Instead, a function was used to calculate the daily average, minimum, and maximum call counts."
   ]
  },
  {
   "cell_type": "code",
   "execution_count": 20,
   "metadata": {},
   "outputs": [],
   "source": [
    "#data_mg_calls.describe()"
   ]
  },
  {
   "cell_type": "code",
   "execution_count": 21,
   "metadata": {},
   "outputs": [
    {
     "data": {
      "text/plain": [
       "'Daily Call Analysis:'"
      ]
     },
     "metadata": {},
     "output_type": "display_data"
    },
    {
     "data": {
      "text/plain": [
       "'Average Calls per Day: 392.41'"
      ]
     },
     "metadata": {},
     "output_type": "display_data"
    },
    {
     "data": {
      "text/plain": [
       "'Minimum Calls per Day: 3'"
      ]
     },
     "metadata": {},
     "output_type": "display_data"
    },
    {
     "data": {
      "text/plain": [
       "'Maximum Calls per Day: 1091'"
      ]
     },
     "metadata": {},
     "output_type": "display_data"
    },
    {
     "data": {
      "text/plain": [
       "'Highest Daily Call Volume: call_date\\n2018-12-27    1091\\ndtype: int64'"
      ]
     },
     "metadata": {},
     "output_type": "display_data"
    }
   ],
   "source": [
    "def average_daily_calls(call_rate):\n",
    "    call_rate['call_date'] = pd.to_datetime(call_rate['call_date'])\n",
    "    \n",
    "    daily_calls = call_rate.groupby('call_date').size()\n",
    "    \n",
    "    avg_calls = daily_calls.mean()\n",
    "    min_calls = daily_calls.min()\n",
    "    max_calls = daily_calls.max()\n",
    "    \n",
    "    highest_volume_days = daily_calls[daily_calls == max_calls]\n",
    "    \n",
    "    return{\n",
    "        'average calls per day':round(avg_calls, 2),\n",
    "          'min calls in a day': min_calls,\n",
    "          'max calls in a day': max_calls,\n",
    "          'highest volume days': highest_volume_days\n",
    "          }\n",
    "    \n",
    "    \n",
    "results = average_daily_calls(data_mg_calls)\n",
    "    \n",
    "display('Daily Call Analysis:')\n",
    "display(f\"Average Calls per Day: {results['average calls per day']}\")\n",
    "display(f\"Minimum Calls per Day: {results['min calls in a day']}\")\n",
    "display(f\"Maximum Calls per Day: {results['max calls in a day']}\")\n",
    "display(f\"Highest Daily Call Volume: {results['highest volume days']}\")"
   ]
  },
  {
   "cell_type": "markdown",
   "metadata": {},
   "source": [
    "**Messages - Print the general/summary information about the messages' DataFrame**\n",
    "\n",
    "- **3.4 Messages Dataframe**"
   ]
  },
  {
   "cell_type": "code",
   "execution_count": 22,
   "metadata": {},
   "outputs": [
    {
     "data": {
      "text/plain": [
       "'First Few Rows - Megaline Messages:'"
      ]
     },
     "metadata": {},
     "output_type": "display_data"
    },
    {
     "data": {
      "text/html": [
       "<div>\n",
       "<style scoped>\n",
       "    .dataframe tbody tr th:only-of-type {\n",
       "        vertical-align: middle;\n",
       "    }\n",
       "\n",
       "    .dataframe tbody tr th {\n",
       "        vertical-align: top;\n",
       "    }\n",
       "\n",
       "    .dataframe thead th {\n",
       "        text-align: right;\n",
       "    }\n",
       "</style>\n",
       "<table border=\"1\" class=\"dataframe\">\n",
       "  <thead>\n",
       "    <tr style=\"text-align: right;\">\n",
       "      <th></th>\n",
       "      <th>id</th>\n",
       "      <th>user_id</th>\n",
       "      <th>message_date</th>\n",
       "    </tr>\n",
       "  </thead>\n",
       "  <tbody>\n",
       "    <tr>\n",
       "      <th>13750</th>\n",
       "      <td>1091_67</td>\n",
       "      <td>1091</td>\n",
       "      <td>2018-11-20</td>\n",
       "    </tr>\n",
       "    <tr>\n",
       "      <th>4972</th>\n",
       "      <td>1046_34</td>\n",
       "      <td>1046</td>\n",
       "      <td>2018-11-20</td>\n",
       "    </tr>\n",
       "    <tr>\n",
       "      <th>72025</th>\n",
       "      <td>1467_357</td>\n",
       "      <td>1467</td>\n",
       "      <td>2018-09-12</td>\n",
       "    </tr>\n",
       "    <tr>\n",
       "      <th>15709</th>\n",
       "      <td>1103_73</td>\n",
       "      <td>1103</td>\n",
       "      <td>2018-11-30</td>\n",
       "    </tr>\n",
       "    <tr>\n",
       "      <th>69003</th>\n",
       "      <td>1447_71</td>\n",
       "      <td>1447</td>\n",
       "      <td>2018-11-19</td>\n",
       "    </tr>\n",
       "    <tr>\n",
       "      <th>4358</th>\n",
       "      <td>1043_571</td>\n",
       "      <td>1043</td>\n",
       "      <td>2018-12-26</td>\n",
       "    </tr>\n",
       "    <tr>\n",
       "      <th>13372</th>\n",
       "      <td>1088_384</td>\n",
       "      <td>1088</td>\n",
       "      <td>2018-11-07</td>\n",
       "    </tr>\n",
       "    <tr>\n",
       "      <th>51763</th>\n",
       "      <td>1335_354</td>\n",
       "      <td>1335</td>\n",
       "      <td>2018-06-23</td>\n",
       "    </tr>\n",
       "    <tr>\n",
       "      <th>1420</th>\n",
       "      <td>1013_71</td>\n",
       "      <td>1013</td>\n",
       "      <td>2018-12-30</td>\n",
       "    </tr>\n",
       "    <tr>\n",
       "      <th>8750</th>\n",
       "      <td>1065_21</td>\n",
       "      <td>1065</td>\n",
       "      <td>2018-10-12</td>\n",
       "    </tr>\n",
       "  </tbody>\n",
       "</table>\n",
       "</div>"
      ],
      "text/plain": [
       "             id  user_id message_date\n",
       "13750   1091_67     1091   2018-11-20\n",
       "4972    1046_34     1046   2018-11-20\n",
       "72025  1467_357     1467   2018-09-12\n",
       "15709   1103_73     1103   2018-11-30\n",
       "69003   1447_71     1447   2018-11-19\n",
       "4358   1043_571     1043   2018-12-26\n",
       "13372  1088_384     1088   2018-11-07\n",
       "51763  1335_354     1335   2018-06-23\n",
       "1420    1013_71     1013   2018-12-30\n",
       "8750    1065_21     1065   2018-10-12"
      ]
     },
     "metadata": {},
     "output_type": "display_data"
    },
    {
     "data": {
      "text/plain": [
       "'Unique Messages ID Counts:'"
      ]
     },
     "metadata": {},
     "output_type": "display_data"
    },
    {
     "data": {
      "text/plain": [
       "76051"
      ]
     },
     "metadata": {},
     "output_type": "display_data"
    },
    {
     "data": {
      "text/plain": [
       "'Unique Messages User_ID Count:'"
      ]
     },
     "metadata": {},
     "output_type": "display_data"
    },
    {
     "data": {
      "text/plain": [
       "402"
      ]
     },
     "metadata": {},
     "output_type": "display_data"
    },
    {
     "data": {
      "text/plain": [
       "'Messages Frequency by User:'"
      ]
     },
     "metadata": {},
     "output_type": "display_data"
    },
    {
     "data": {
      "text/plain": [
       "user_id\n",
       "1132    1288\n",
       "1328    1233\n",
       "1324    1175\n",
       "1470    1056\n",
       "1077     804\n",
       "        ... \n",
       "1481       3\n",
       "1190       3\n",
       "1161       2\n",
       "1479       1\n",
       "1323       1\n",
       "Name: count, Length: 402, dtype: int64"
      ]
     },
     "metadata": {},
     "output_type": "display_data"
    },
    {
     "data": {
      "text/plain": [
       "'Messages Frequency Count:'"
      ]
     },
     "metadata": {},
     "output_type": "display_data"
    },
    {
     "data": {
      "text/plain": [
       "351"
      ]
     },
     "metadata": {},
     "output_type": "display_data"
    },
    {
     "data": {
      "text/plain": [
       "'Messages Frequency by Date:'"
      ]
     },
     "metadata": {},
     "output_type": "display_data"
    },
    {
     "data": {
      "text/plain": [
       "message_date\n",
       "2018-12-28    702\n",
       "2018-12-27    701\n",
       "2018-12-25    699\n",
       "2018-12-31    699\n",
       "2018-12-18    688\n",
       "             ... \n",
       "2018-01-28      3\n",
       "2018-02-18      2\n",
       "2018-01-15      2\n",
       "2018-01-24      2\n",
       "2018-01-19      1\n",
       "Name: count, Length: 351, dtype: int64"
      ]
     },
     "metadata": {},
     "output_type": "display_data"
    }
   ],
   "source": [
    "display('First Few Rows - Megaline Messages:', data_mg_messages.sample(10))\n",
    "display('Unique Messages ID Counts:', data_mg_messages['id'].nunique())\n",
    "display('Unique Messages User_ID Count:', data_mg_messages['user_id'].nunique())\n",
    "display('Messages Frequency by User:', data_mg_messages['user_id'].value_counts())\n",
    "display('Messages Frequency Count:', data_mg_messages['message_date'].nunique())\n",
    "display('Messages Frequency by Date:', data_mg_messages['message_date'].value_counts())"
   ]
  },
  {
   "cell_type": "markdown",
   "metadata": {},
   "source": [
    "**Print a sample of data for messages**"
   ]
  },
  {
   "cell_type": "code",
   "execution_count": 23,
   "metadata": {},
   "outputs": [
    {
     "data": {
      "text/plain": [
       "'Sample of Messages Data:'"
      ]
     },
     "metadata": {},
     "output_type": "display_data"
    },
    {
     "data": {
      "text/html": [
       "<div>\n",
       "<style scoped>\n",
       "    .dataframe tbody tr th:only-of-type {\n",
       "        vertical-align: middle;\n",
       "    }\n",
       "\n",
       "    .dataframe tbody tr th {\n",
       "        vertical-align: top;\n",
       "    }\n",
       "\n",
       "    .dataframe thead th {\n",
       "        text-align: right;\n",
       "    }\n",
       "</style>\n",
       "<table border=\"1\" class=\"dataframe\">\n",
       "  <thead>\n",
       "    <tr style=\"text-align: right;\">\n",
       "      <th></th>\n",
       "      <th>id</th>\n",
       "      <th>user_id</th>\n",
       "      <th>message_date</th>\n",
       "    </tr>\n",
       "  </thead>\n",
       "  <tbody>\n",
       "    <tr>\n",
       "      <th>58057</th>\n",
       "      <td>1365_213</td>\n",
       "      <td>1365</td>\n",
       "      <td>2018-11-14</td>\n",
       "    </tr>\n",
       "    <tr>\n",
       "      <th>69235</th>\n",
       "      <td>1450_14</td>\n",
       "      <td>1450</td>\n",
       "      <td>2018-12-03</td>\n",
       "    </tr>\n",
       "    <tr>\n",
       "      <th>403</th>\n",
       "      <td>1004_68</td>\n",
       "      <td>1004</td>\n",
       "      <td>2018-10-01</td>\n",
       "    </tr>\n",
       "    <tr>\n",
       "      <th>62474</th>\n",
       "      <td>1392_249</td>\n",
       "      <td>1392</td>\n",
       "      <td>2018-09-03</td>\n",
       "    </tr>\n",
       "    <tr>\n",
       "      <th>15411</th>\n",
       "      <td>1101_468</td>\n",
       "      <td>1101</td>\n",
       "      <td>2018-11-17</td>\n",
       "    </tr>\n",
       "    <tr>\n",
       "      <th>8130</th>\n",
       "      <td>1061_136</td>\n",
       "      <td>1061</td>\n",
       "      <td>2018-11-30</td>\n",
       "    </tr>\n",
       "    <tr>\n",
       "      <th>65158</th>\n",
       "      <td>1417_46</td>\n",
       "      <td>1417</td>\n",
       "      <td>2018-09-12</td>\n",
       "    </tr>\n",
       "    <tr>\n",
       "      <th>15087</th>\n",
       "      <td>1101_144</td>\n",
       "      <td>1101</td>\n",
       "      <td>2018-12-30</td>\n",
       "    </tr>\n",
       "    <tr>\n",
       "      <th>39021</th>\n",
       "      <td>1254_855</td>\n",
       "      <td>1254</td>\n",
       "      <td>2018-12-17</td>\n",
       "    </tr>\n",
       "    <tr>\n",
       "      <th>55466</th>\n",
       "      <td>1348_401</td>\n",
       "      <td>1348</td>\n",
       "      <td>2018-11-13</td>\n",
       "    </tr>\n",
       "  </tbody>\n",
       "</table>\n",
       "</div>"
      ],
      "text/plain": [
       "             id  user_id message_date\n",
       "58057  1365_213     1365   2018-11-14\n",
       "69235   1450_14     1450   2018-12-03\n",
       "403     1004_68     1004   2018-10-01\n",
       "62474  1392_249     1392   2018-09-03\n",
       "15411  1101_468     1101   2018-11-17\n",
       "8130   1061_136     1061   2018-11-30\n",
       "65158   1417_46     1417   2018-09-12\n",
       "15087  1101_144     1101   2018-12-30\n",
       "39021  1254_855     1254   2018-12-17\n",
       "55466  1348_401     1348   2018-11-13"
      ]
     },
     "metadata": {},
     "output_type": "display_data"
    }
   ],
   "source": [
    "display('Sample of Messages Data:', data_mg_messages.sample(10))"
   ]
  },
  {
   "cell_type": "markdown",
   "metadata": {},
   "source": [
    "**Describe what you see and notice in the general information and the printed data sample for the above price of data. Are there any issues (inappropriate data types, missing data etc) that may need further investigation and changes? How that can be fixed?**"
   ]
  },
  {
   "cell_type": "markdown",
   "metadata": {},
   "source": [
    "The Messages dataset consists of 76051 rows and 3 columns: `id`, `user_id`, and `message_date`.<br> \n",
    "- Data types include: \n",
    "  - object: `id` and `message_date` \n",
    "  - int64: `user_id`\n",
    "\n",
    "<u>POTENTIAL ISSUE 1:</u>\n",
    "The `id` column combines the user_id and sequence number as a string. This is less efficient for indexing.<br> \n",
    "SOLUTION: Split `id` column (comprised of) user_id and message_sequence into 2 columns\n",
    "\n",
    "<u>Key Improvement(s):</u><br>\n",
    "Better organization, easier to track calls per user and more efficient storage\n",
    "\n",
    "<u>POTENTIAL ISSUE 2:</u>\n",
    "`message_date` is stored as an object rather than datetime. This can cause issues with date related calculations, sorting and filtering.<br> \n",
    "Potential solution: Convert `message_date` to the datetime64[ns] data type using pd.to_datetime().\n",
    "\n",
    "<u>Key Improvement(s):</u>\n",
    "Enables accurate sorting and filtering by date and facilitates time based calculations"
   ]
  },
  {
   "cell_type": "markdown",
   "metadata": {},
   "source": [
    "**Fix Data - Fix obvious issues with the data given the initial observations.**"
   ]
  },
  {
   "cell_type": "code",
   "execution_count": 24,
   "metadata": {},
   "outputs": [
    {
     "data": {
      "text/plain": [
       "68334    1440\n",
       "26849    1164\n",
       "13646    1090\n",
       "19105    1123\n",
       "8839     1066\n",
       "Name: user_id_from_id, dtype: object"
      ]
     },
     "metadata": {},
     "output_type": "display_data"
    },
    {
     "data": {
      "text/plain": [
       "72470     98\n",
       "75839     77\n",
       "70312    306\n",
       "71698     30\n",
       "14274    293\n",
       "Name: message_sequence, dtype: object"
      ]
     },
     "metadata": {},
     "output_type": "display_data"
    },
    {
     "data": {
      "text/plain": [
       "dtype('<M8[ns]')"
      ]
     },
     "metadata": {},
     "output_type": "display_data"
    }
   ],
   "source": [
    "data_mg_messages[['user_id_from_id', 'message_sequence']] = data_mg_messages['id'].str.split('_', expand=True)\n",
    "display(data_mg_messages['user_id_from_id'].sample(5), \n",
    "       data_mg_messages['message_sequence'].sample(5))\n",
    "\n",
    "\n",
    "data_mg_messages['message_date'] = pd.to_datetime(data_mg_messages['message_date'])\n",
    "display(data_mg_messages['message_date'].dtype)"
   ]
  },
  {
   "cell_type": "markdown",
   "metadata": {},
   "source": [
    "**Enrich Data - Add additional factors to the data if you believe they might be useful**"
   ]
  },
  {
   "cell_type": "markdown",
   "metadata": {},
   "source": [
    "<u>ADDITIONAL FACTOR(s) 1:</u><br> \n",
    "Calculating daily message averages could be useful. Since we converted the `message_date` column to pd.to_datetime(data_mg_messages['message_date']), we can group the data and count the number of messages for each date.\n",
    "\n",
    "<u>ADDITIONAL FACTOR(s) 2:</u><br>\n",
    "Calculating daily peak messaging hours would be useful, but the message_date column only contains the date."
   ]
  },
  {
   "cell_type": "markdown",
   "metadata": {},
   "source": [
    "  - `.describe()` does not effectively handle the `message_date` column (datetime64[ns] dtype), resulting in missing `mean` and `std` values. Instead, a function was used to calculate the daily average, minimum, and maximum messages counts."
   ]
  },
  {
   "cell_type": "code",
   "execution_count": 25,
   "metadata": {},
   "outputs": [],
   "source": [
    "#data_mg_messages.describe()"
   ]
  },
  {
   "cell_type": "code",
   "execution_count": 26,
   "metadata": {},
   "outputs": [
    {
     "data": {
      "text/plain": [
       "'Daily Message Analysis:'"
      ]
     },
     "metadata": {},
     "output_type": "display_data"
    },
    {
     "data": {
      "text/plain": [
       "'Average Messages per Day: 216.67'"
      ]
     },
     "metadata": {},
     "output_type": "display_data"
    },
    {
     "data": {
      "text/plain": [
       "'Minimum Messages per Day: 1'"
      ]
     },
     "metadata": {},
     "output_type": "display_data"
    },
    {
     "data": {
      "text/plain": [
       "'Maximum Messages per Day: 702'"
      ]
     },
     "metadata": {},
     "output_type": "display_data"
    },
    {
     "data": {
      "text/plain": [
       "'Highest Daily Message Volume: message_date\\n2018-12-28    702\\ndtype: int64'"
      ]
     },
     "metadata": {},
     "output_type": "display_data"
    }
   ],
   "source": [
    "def average_daily_messages(message_rate):\n",
    "        \n",
    "    daily_messages = message_rate.groupby('message_date').size()\n",
    "    \n",
    "    avg_messages = daily_messages.mean()\n",
    "    min_messages = daily_messages.min()\n",
    "    max_messages = daily_messages.max()\n",
    "    \n",
    "    highest_message_days = daily_messages[daily_messages == max_messages]\n",
    "    \n",
    "    return{\n",
    "        'average messages per day':round(avg_messages, 2),\n",
    "          'min messages in a day': min_messages,\n",
    "          'max messages in a day': max_messages,\n",
    "          'highest volume days': highest_message_days\n",
    "          }\n",
    "  \n",
    "    \n",
    "results = average_daily_messages(data_mg_messages)\n",
    "    \n",
    "display('Daily Message Analysis:')\n",
    "display(f\"Average Messages per Day: {results['average messages per day']}\")\n",
    "display(f\"Minimum Messages per Day: {results['min messages in a day']}\")\n",
    "display(f\"Maximum Messages per Day: {results['max messages in a day']}\")\n",
    "display(f\"Highest Daily Message Volume: {results['highest volume days']}\")"
   ]
  },
  {
   "cell_type": "markdown",
   "metadata": {},
   "source": [
    "Internet - Print the general/summary information about the internet DataFrame\n",
    "\n",
    "- **3.5 Internet Dataframe**"
   ]
  },
  {
   "cell_type": "code",
   "execution_count": 27,
   "metadata": {},
   "outputs": [
    {
     "data": {
      "text/plain": [
       "'First Few Rows - Megaline Internet Data:'"
      ]
     },
     "metadata": {},
     "output_type": "display_data"
    },
    {
     "data": {
      "text/html": [
       "<div>\n",
       "<style scoped>\n",
       "    .dataframe tbody tr th:only-of-type {\n",
       "        vertical-align: middle;\n",
       "    }\n",
       "\n",
       "    .dataframe tbody tr th {\n",
       "        vertical-align: top;\n",
       "    }\n",
       "\n",
       "    .dataframe thead th {\n",
       "        text-align: right;\n",
       "    }\n",
       "</style>\n",
       "<table border=\"1\" class=\"dataframe\">\n",
       "  <thead>\n",
       "    <tr style=\"text-align: right;\">\n",
       "      <th></th>\n",
       "      <th>id</th>\n",
       "      <th>user_id</th>\n",
       "      <th>session_date</th>\n",
       "      <th>mb_used</th>\n",
       "    </tr>\n",
       "  </thead>\n",
       "  <tbody>\n",
       "    <tr>\n",
       "      <th>55739</th>\n",
       "      <td>1252_161</td>\n",
       "      <td>1252</td>\n",
       "      <td>2018-08-24</td>\n",
       "      <td>729.80</td>\n",
       "    </tr>\n",
       "    <tr>\n",
       "      <th>11938</th>\n",
       "      <td>1059_37</td>\n",
       "      <td>1059</td>\n",
       "      <td>2018-06-08</td>\n",
       "      <td>391.35</td>\n",
       "    </tr>\n",
       "    <tr>\n",
       "      <th>57094</th>\n",
       "      <td>1257_361</td>\n",
       "      <td>1257</td>\n",
       "      <td>2018-12-28</td>\n",
       "      <td>331.49</td>\n",
       "    </tr>\n",
       "    <tr>\n",
       "      <th>38360</th>\n",
       "      <td>1172_15</td>\n",
       "      <td>1172</td>\n",
       "      <td>2018-10-18</td>\n",
       "      <td>986.45</td>\n",
       "    </tr>\n",
       "    <tr>\n",
       "      <th>102593</th>\n",
       "      <td>1491_34</td>\n",
       "      <td>1491</td>\n",
       "      <td>2018-08-22</td>\n",
       "      <td>164.94</td>\n",
       "    </tr>\n",
       "    <tr>\n",
       "      <th>17606</th>\n",
       "      <td>1079_211</td>\n",
       "      <td>1079</td>\n",
       "      <td>2018-09-10</td>\n",
       "      <td>0.00</td>\n",
       "    </tr>\n",
       "    <tr>\n",
       "      <th>17892</th>\n",
       "      <td>1080_223</td>\n",
       "      <td>1080</td>\n",
       "      <td>2018-08-26</td>\n",
       "      <td>438.82</td>\n",
       "    </tr>\n",
       "    <tr>\n",
       "      <th>59249</th>\n",
       "      <td>1267_51</td>\n",
       "      <td>1267</td>\n",
       "      <td>2018-12-12</td>\n",
       "      <td>0.00</td>\n",
       "    </tr>\n",
       "    <tr>\n",
       "      <th>40100</th>\n",
       "      <td>1181_232</td>\n",
       "      <td>1181</td>\n",
       "      <td>2018-10-29</td>\n",
       "      <td>279.17</td>\n",
       "    </tr>\n",
       "    <tr>\n",
       "      <th>63710</th>\n",
       "      <td>1292_414</td>\n",
       "      <td>1292</td>\n",
       "      <td>2018-07-23</td>\n",
       "      <td>204.23</td>\n",
       "    </tr>\n",
       "  </tbody>\n",
       "</table>\n",
       "</div>"
      ],
      "text/plain": [
       "              id  user_id session_date  mb_used\n",
       "55739   1252_161     1252   2018-08-24   729.80\n",
       "11938    1059_37     1059   2018-06-08   391.35\n",
       "57094   1257_361     1257   2018-12-28   331.49\n",
       "38360    1172_15     1172   2018-10-18   986.45\n",
       "102593   1491_34     1491   2018-08-22   164.94\n",
       "17606   1079_211     1079   2018-09-10     0.00\n",
       "17892   1080_223     1080   2018-08-26   438.82\n",
       "59249    1267_51     1267   2018-12-12     0.00\n",
       "40100   1181_232     1181   2018-10-29   279.17\n",
       "63710   1292_414     1292   2018-07-23   204.23"
      ]
     },
     "metadata": {},
     "output_type": "display_data"
    },
    {
     "data": {
      "text/plain": [
       "'Unique Internet Session Identifier Counts:'"
      ]
     },
     "metadata": {},
     "output_type": "display_data"
    },
    {
     "data": {
      "text/plain": [
       "104825"
      ]
     },
     "metadata": {},
     "output_type": "display_data"
    },
    {
     "data": {
      "text/plain": [
       "'Unique User_ID Internet Session Count:'"
      ]
     },
     "metadata": {},
     "output_type": "display_data"
    },
    {
     "data": {
      "text/plain": [
       "489"
      ]
     },
     "metadata": {},
     "output_type": "display_data"
    },
    {
     "data": {
      "text/plain": [
       "'Internet Session Frequency by User:'"
      ]
     },
     "metadata": {},
     "output_type": "display_data"
    },
    {
     "data": {
      "text/plain": [
       "user_id\n",
       "1185    851\n",
       "1028    752\n",
       "1171    716\n",
       "1498    657\n",
       "1214    652\n",
       "       ... \n",
       "1323      3\n",
       "1108      2\n",
       "1034      2\n",
       "1306      1\n",
       "1452      1\n",
       "Name: count, Length: 489, dtype: int64"
      ]
     },
     "metadata": {},
     "output_type": "display_data"
    },
    {
     "data": {
      "text/plain": [
       "'Internet Session Frequency by Date:'"
      ]
     },
     "metadata": {},
     "output_type": "display_data"
    },
    {
     "data": {
      "text/plain": [
       "351"
      ]
     },
     "metadata": {},
     "output_type": "display_data"
    },
    {
     "data": {
      "text/plain": [
       "'Internet Session Trends by Date:'"
      ]
     },
     "metadata": {},
     "output_type": "display_data"
    },
    {
     "data": {
      "text/plain": [
       "session_date\n",
       "2018-12-24    851\n",
       "2018-12-30    845\n",
       "2018-12-27    830\n",
       "2018-12-21    826\n",
       "2018-12-31    823\n",
       "             ... \n",
       "2018-01-23      3\n",
       "2018-01-15      2\n",
       "2018-01-16      2\n",
       "2018-01-20      2\n",
       "2018-01-18      2\n",
       "Name: count, Length: 351, dtype: int64"
      ]
     },
     "metadata": {},
     "output_type": "display_data"
    },
    {
     "data": {
      "text/plain": [
       "'Internet Usage Counts:'"
      ]
     },
     "metadata": {},
     "output_type": "display_data"
    },
    {
     "data": {
      "text/plain": [
       "np.int64(0)"
      ]
     },
     "metadata": {},
     "output_type": "display_data"
    }
   ],
   "source": [
    "display('First Few Rows - Megaline Internet Data:', data_mg_internet.sample(10))\n",
    "display('Unique Internet Session Identifier Counts:', data_mg_internet['id'].nunique())\n",
    "display('Unique User_ID Internet Session Count:', data_mg_internet['user_id'].nunique())\n",
    "display('Internet Session Frequency by User:', data_mg_internet['user_id'].value_counts())\n",
    "display('Internet Session Frequency by Date:', data_mg_internet['session_date'].nunique())\n",
    "display('Internet Session Trends by Date:', data_mg_internet['session_date'].value_counts())\n",
    "display('Internet Usage Counts:', data_mg_internet['mb_used'].isnull().sum())"
   ]
  },
  {
   "cell_type": "markdown",
   "metadata": {},
   "source": [
    "**Print a sample of data for the internet traffic**"
   ]
  },
  {
   "cell_type": "code",
   "execution_count": 28,
   "metadata": {},
   "outputs": [
    {
     "data": {
      "text/plain": [
       "'Sample of Internet Data:'"
      ]
     },
     "metadata": {},
     "output_type": "display_data"
    },
    {
     "data": {
      "text/html": [
       "<div>\n",
       "<style scoped>\n",
       "    .dataframe tbody tr th:only-of-type {\n",
       "        vertical-align: middle;\n",
       "    }\n",
       "\n",
       "    .dataframe tbody tr th {\n",
       "        vertical-align: top;\n",
       "    }\n",
       "\n",
       "    .dataframe thead th {\n",
       "        text-align: right;\n",
       "    }\n",
       "</style>\n",
       "<table border=\"1\" class=\"dataframe\">\n",
       "  <thead>\n",
       "    <tr style=\"text-align: right;\">\n",
       "      <th></th>\n",
       "      <th>id</th>\n",
       "      <th>user_id</th>\n",
       "      <th>session_date</th>\n",
       "      <th>mb_used</th>\n",
       "    </tr>\n",
       "  </thead>\n",
       "  <tbody>\n",
       "    <tr>\n",
       "      <th>45680</th>\n",
       "      <td>1203_5</td>\n",
       "      <td>1203</td>\n",
       "      <td>2018-09-15</td>\n",
       "      <td>505.60</td>\n",
       "    </tr>\n",
       "    <tr>\n",
       "      <th>54557</th>\n",
       "      <td>1246_458</td>\n",
       "      <td>1246</td>\n",
       "      <td>2018-05-18</td>\n",
       "      <td>0.00</td>\n",
       "    </tr>\n",
       "    <tr>\n",
       "      <th>59213</th>\n",
       "      <td>1267_15</td>\n",
       "      <td>1267</td>\n",
       "      <td>2018-12-31</td>\n",
       "      <td>593.14</td>\n",
       "    </tr>\n",
       "    <tr>\n",
       "      <th>74949</th>\n",
       "      <td>1353_112</td>\n",
       "      <td>1353</td>\n",
       "      <td>2018-11-08</td>\n",
       "      <td>660.22</td>\n",
       "    </tr>\n",
       "    <tr>\n",
       "      <th>100965</th>\n",
       "      <td>1478_116</td>\n",
       "      <td>1478</td>\n",
       "      <td>2018-12-30</td>\n",
       "      <td>175.75</td>\n",
       "    </tr>\n",
       "    <tr>\n",
       "      <th>28522</th>\n",
       "      <td>1131_105</td>\n",
       "      <td>1131</td>\n",
       "      <td>2018-09-11</td>\n",
       "      <td>132.00</td>\n",
       "    </tr>\n",
       "    <tr>\n",
       "      <th>70599</th>\n",
       "      <td>1329_308</td>\n",
       "      <td>1329</td>\n",
       "      <td>2018-10-14</td>\n",
       "      <td>298.52</td>\n",
       "    </tr>\n",
       "    <tr>\n",
       "      <th>11155</th>\n",
       "      <td>1055_160</td>\n",
       "      <td>1055</td>\n",
       "      <td>2018-07-17</td>\n",
       "      <td>833.24</td>\n",
       "    </tr>\n",
       "    <tr>\n",
       "      <th>90401</th>\n",
       "      <td>1416_133</td>\n",
       "      <td>1416</td>\n",
       "      <td>2018-11-28</td>\n",
       "      <td>333.16</td>\n",
       "    </tr>\n",
       "    <tr>\n",
       "      <th>1949</th>\n",
       "      <td>1010_108</td>\n",
       "      <td>1010</td>\n",
       "      <td>2018-05-11</td>\n",
       "      <td>0.00</td>\n",
       "    </tr>\n",
       "  </tbody>\n",
       "</table>\n",
       "</div>"
      ],
      "text/plain": [
       "              id  user_id session_date  mb_used\n",
       "45680     1203_5     1203   2018-09-15   505.60\n",
       "54557   1246_458     1246   2018-05-18     0.00\n",
       "59213    1267_15     1267   2018-12-31   593.14\n",
       "74949   1353_112     1353   2018-11-08   660.22\n",
       "100965  1478_116     1478   2018-12-30   175.75\n",
       "28522   1131_105     1131   2018-09-11   132.00\n",
       "70599   1329_308     1329   2018-10-14   298.52\n",
       "11155   1055_160     1055   2018-07-17   833.24\n",
       "90401   1416_133     1416   2018-11-28   333.16\n",
       "1949    1010_108     1010   2018-05-11     0.00"
      ]
     },
     "metadata": {},
     "output_type": "display_data"
    }
   ],
   "source": [
    "display('Sample of Internet Data:', data_mg_internet.sample(10))"
   ]
  },
  {
   "cell_type": "markdown",
   "metadata": {},
   "source": [
    "**Describe what you see and notice in the general information and the printed data sample for the above price of data. Are there any issues (inappropriate data types, missing data etc) that may need further investigation and changes? How that can be fixed?**"
   ]
  },
  {
   "cell_type": "markdown",
   "metadata": {},
   "source": [
    "The Internet dataset consists of 104825 rows and 4 columns: `id`, `user_id`, `session_date` and `mb_used`. \n",
    "- Data types include: \n",
    "  - object: `id` and `session_date` \n",
    "  - int64: `user_id` \n",
    "  - float64: `mb_used`\n",
    "\n",
    "<u>POTENTIAL ISSUE 1:</u><br>\n",
    "The `id` column combines the user_id and sequence number as a string. This is less efficient for indexing. \n",
    "SOLUTION: Split `id` column (comprised of) user_id and internet_sequence into 2 columns\n",
    "\n",
    "<u>Key Improvement(s):</u><br>\n",
    "Better organization, easier to track calls per user and more efficient storage\n",
    "\n",
    "<u>POTENTIAL ISSUE 2:</u><br>\n",
    "`session_date` is stored as an object rather than datetime. This can cause issues with date related calculations, sorting and filtering.<br> \n",
    "Potential solution: Convert `session_date` to the datetime64[ns] data type using pd.to_datetime().\n",
    "\n",
    "<u>Key Improvement(s):</u><br> \n",
    "Enables accurate sorting and filtering by date and facilitates time based calculations"
   ]
  },
  {
   "cell_type": "markdown",
   "metadata": {},
   "source": [
    "Fix Data - Fix obvious issues with the data given the initial observations."
   ]
  },
  {
   "cell_type": "code",
   "execution_count": 29,
   "metadata": {},
   "outputs": [
    {
     "data": {
      "text/plain": [
       "72540    1337\n",
       "34230    1155\n",
       "75876    1357\n",
       "9969     1050\n",
       "58946    1264\n",
       "Name: user_id_from_id, dtype: object"
      ]
     },
     "metadata": {},
     "output_type": "display_data"
    },
    {
     "data": {
      "text/plain": [
       "20579    255\n",
       "18053    117\n",
       "10812    348\n",
       "45320    182\n",
       "46861     77\n",
       "Name: internet_sequence, dtype: object"
      ]
     },
     "metadata": {},
     "output_type": "display_data"
    },
    {
     "data": {
      "text/plain": [
       "dtype('<M8[ns]')"
      ]
     },
     "metadata": {},
     "output_type": "display_data"
    }
   ],
   "source": [
    "data_mg_internet[['user_id_from_id', 'internet_sequence']] = data_mg_internet['id'].str.split('_', expand=True)\n",
    "display(data_mg_internet['user_id_from_id'].sample(5), \n",
    "       data_mg_internet['internet_sequence'].sample(5))\n",
    "\n",
    "\n",
    "data_mg_internet['session_date'] = pd.to_datetime(data_mg_internet['session_date'])\n",
    "display(data_mg_internet['session_date'].dtype)"
   ]
  },
  {
   "cell_type": "markdown",
   "metadata": {},
   "source": [
    "**Enrich Data - Add additional factors to the data if you believe they might be useful.**"
   ]
  },
  {
   "cell_type": "markdown",
   "metadata": {},
   "source": [
    "<u>ADDITIONAL FACTOR(s) 1:</u><br>\n",
    "Calculating daily internet usage averages could be useful. Since we converted the `session_date` column to pd.to_datetime(data_mg_internet['session_date']), we can group the data and count the number of internet sessions for each date."
   ]
  },
  {
   "cell_type": "markdown",
   "metadata": {},
   "source": [
    "  - .describe() does not effectively handle the `session_date` column (datetime64[ns] dtype), resulting in missing mean and std values. Instead, a function was used to calculate the daily average, minimum, and maximum internet usage volume."
   ]
  },
  {
   "cell_type": "code",
   "execution_count": 30,
   "metadata": {},
   "outputs": [],
   "source": [
    "#data_mg_internet.describe()"
   ]
  },
  {
   "cell_type": "code",
   "execution_count": 31,
   "metadata": {},
   "outputs": [
    {
     "data": {
      "text/plain": [
       "'Daily Internet Usage Analysis:'"
      ]
     },
     "metadata": {},
     "output_type": "display_data"
    },
    {
     "data": {
      "text/plain": [
       "'Average Daily Usage: 109517.85 MB'"
      ]
     },
     "metadata": {},
     "output_type": "display_data"
    },
    {
     "data": {
      "text/plain": [
       "'Minimum Daily Usage: 474.39 MB'"
      ]
     },
     "metadata": {},
     "output_type": "display_data"
    },
    {
     "data": {
      "text/plain": [
       "'Maximum Daily Usage: 324013.99 MB'"
      ]
     },
     "metadata": {},
     "output_type": "display_data"
    },
    {
     "data": {
      "text/plain": [
       "'Peak Usage Days: session_date\\n2018-12-30    324013.99\\nName: mb_used, dtype: float64'"
      ]
     },
     "metadata": {},
     "output_type": "display_data"
    }
   ],
   "source": [
    "def daily_internet_usage(daily_mb_usage):\n",
    "        \n",
    "    daily_sessions = daily_mb_usage.groupby('session_date')['mb_used'].sum()\n",
    "    \n",
    "    avg_usage = daily_sessions.mean()\n",
    "    min_usage = daily_sessions.min()\n",
    "    max_usage = daily_sessions.max()\n",
    "    \n",
    "    peak_usage_days = daily_sessions[daily_sessions == max_usage]\n",
    "    \n",
    "    return{\n",
    "        'average daily usage':round(avg_usage, 2),\n",
    "          'min daily usage':round(min_usage,2),\n",
    "          'max daily usage':round(max_usage, 2),\n",
    "          'peak usage days': peak_usage_days\n",
    "          }\n",
    " \n",
    "    \n",
    "results = daily_internet_usage(data_mg_internet)\n",
    "    \n",
    "display('Daily Internet Usage Analysis:')\n",
    "display(f\"Average Daily Usage: {results['average daily usage']} MB\")\n",
    "display(f\"Minimum Daily Usage: {results['min daily usage']} MB\")\n",
    "display(f\"Maximum Daily Usage: {results['max daily usage']} MB\")\n",
    "display(f\"Peak Usage Days: {results['peak usage days']}\")"
   ]
  },
  {
   "cell_type": "markdown",
   "metadata": {},
   "source": [
    "## <center>Section Four</center>\n",
    "\n",
    "**Data Transformation**\n",
    "\n",
    "**Plans Dataframe**\n",
    "\n",
    "  - Study Plan Conditions\n",
    "\n",
    "  - It is critical to understand how the plans work, how users are charged based on their plan subscription. So, we suggest printing out the plan information to view their conditions once again."
   ]
  },
  {
   "cell_type": "markdown",
   "metadata": {},
   "source": [
    "**Print out the plan conditions and make sure they are clear for you**"
   ]
  },
  {
   "cell_type": "code",
   "execution_count": 32,
   "metadata": {},
   "outputs": [
    {
     "data": {
      "text/html": [
       "<div>\n",
       "<style scoped>\n",
       "    .dataframe tbody tr th:only-of-type {\n",
       "        vertical-align: middle;\n",
       "    }\n",
       "\n",
       "    .dataframe tbody tr th {\n",
       "        vertical-align: top;\n",
       "    }\n",
       "\n",
       "    .dataframe thead th {\n",
       "        text-align: right;\n",
       "    }\n",
       "</style>\n",
       "<table border=\"1\" class=\"dataframe\">\n",
       "  <thead>\n",
       "    <tr style=\"text-align: right;\">\n",
       "      <th></th>\n",
       "      <th>messages_included</th>\n",
       "      <th>mb_per_month_included</th>\n",
       "      <th>minutes_included</th>\n",
       "      <th>usd_monthly_pay</th>\n",
       "      <th>usd_per_gb</th>\n",
       "      <th>usd_per_message</th>\n",
       "      <th>usd_per_minute</th>\n",
       "      <th>plan_name</th>\n",
       "      <th>mb_to_gb_converted</th>\n",
       "    </tr>\n",
       "  </thead>\n",
       "  <tbody>\n",
       "    <tr>\n",
       "      <th>0</th>\n",
       "      <td>50</td>\n",
       "      <td>15360</td>\n",
       "      <td>500</td>\n",
       "      <td>20.0</td>\n",
       "      <td>10.0</td>\n",
       "      <td>0.03</td>\n",
       "      <td>0.03</td>\n",
       "      <td>surf</td>\n",
       "      <td>15.0</td>\n",
       "    </tr>\n",
       "    <tr>\n",
       "      <th>1</th>\n",
       "      <td>1000</td>\n",
       "      <td>30720</td>\n",
       "      <td>3000</td>\n",
       "      <td>70.0</td>\n",
       "      <td>7.0</td>\n",
       "      <td>0.01</td>\n",
       "      <td>0.01</td>\n",
       "      <td>ultimate</td>\n",
       "      <td>30.0</td>\n",
       "    </tr>\n",
       "  </tbody>\n",
       "</table>\n",
       "</div>"
      ],
      "text/plain": [
       "   messages_included  mb_per_month_included  minutes_included  \\\n",
       "0                 50                  15360               500   \n",
       "1               1000                  30720              3000   \n",
       "\n",
       "   usd_monthly_pay  usd_per_gb  usd_per_message  usd_per_minute plan_name  \\\n",
       "0             20.0        10.0             0.03            0.03      surf   \n",
       "1             70.0         7.0             0.01            0.01  ultimate   \n",
       "\n",
       "   mb_to_gb_converted  \n",
       "0                15.0  \n",
       "1                30.0  "
      ]
     },
     "metadata": {},
     "output_type": "display_data"
    }
   ],
   "source": [
    "display(data_mg_plans)"
   ]
  },
  {
   "cell_type": "markdown",
   "metadata": {},
   "source": [
    "Aggregate Data Per User - Now, as the data is clean, aggregate data per user per period in order to have just one record per user per period. It should ease the further analysis a lot."
   ]
  },
  {
   "cell_type": "markdown",
   "metadata": {},
   "source": [
    "Calculate the number of calls made by each user per month. Save the result."
   ]
  },
  {
   "cell_type": "code",
   "execution_count": 33,
   "metadata": {},
   "outputs": [
    {
     "data": {
      "text/html": [
       "<div>\n",
       "<style scoped>\n",
       "    .dataframe tbody tr th:only-of-type {\n",
       "        vertical-align: middle;\n",
       "    }\n",
       "\n",
       "    .dataframe tbody tr th {\n",
       "        vertical-align: top;\n",
       "    }\n",
       "\n",
       "    .dataframe thead th {\n",
       "        text-align: right;\n",
       "    }\n",
       "</style>\n",
       "<table border=\"1\" class=\"dataframe\">\n",
       "  <thead>\n",
       "    <tr style=\"text-align: right;\">\n",
       "      <th></th>\n",
       "      <th>user_id</th>\n",
       "      <th>month</th>\n",
       "      <th>total_calls</th>\n",
       "    </tr>\n",
       "  </thead>\n",
       "  <tbody>\n",
       "    <tr>\n",
       "      <th>885</th>\n",
       "      <td>1188</td>\n",
       "      <td>2018-11</td>\n",
       "      <td>54</td>\n",
       "    </tr>\n",
       "    <tr>\n",
       "      <th>1054</th>\n",
       "      <td>1228</td>\n",
       "      <td>2018-12</td>\n",
       "      <td>27</td>\n",
       "    </tr>\n",
       "    <tr>\n",
       "      <th>325</th>\n",
       "      <td>1071</td>\n",
       "      <td>2018-05</td>\n",
       "      <td>24</td>\n",
       "    </tr>\n",
       "    <tr>\n",
       "      <th>856</th>\n",
       "      <td>1182</td>\n",
       "      <td>2018-12</td>\n",
       "      <td>33</td>\n",
       "    </tr>\n",
       "    <tr>\n",
       "      <th>1861</th>\n",
       "      <td>1405</td>\n",
       "      <td>2018-11</td>\n",
       "      <td>24</td>\n",
       "    </tr>\n",
       "    <tr>\n",
       "      <th>835</th>\n",
       "      <td>1179</td>\n",
       "      <td>2018-09</td>\n",
       "      <td>64</td>\n",
       "    </tr>\n",
       "    <tr>\n",
       "      <th>1872</th>\n",
       "      <td>1406</td>\n",
       "      <td>2018-12</td>\n",
       "      <td>68</td>\n",
       "    </tr>\n",
       "    <tr>\n",
       "      <th>564</th>\n",
       "      <td>1122</td>\n",
       "      <td>2018-08</td>\n",
       "      <td>68</td>\n",
       "    </tr>\n",
       "    <tr>\n",
       "      <th>2109</th>\n",
       "      <td>1466</td>\n",
       "      <td>2018-08</td>\n",
       "      <td>31</td>\n",
       "    </tr>\n",
       "    <tr>\n",
       "      <th>2062</th>\n",
       "      <td>1454</td>\n",
       "      <td>2018-11</td>\n",
       "      <td>32</td>\n",
       "    </tr>\n",
       "  </tbody>\n",
       "</table>\n",
       "</div>"
      ],
      "text/plain": [
       "      user_id    month  total_calls\n",
       "885      1188  2018-11           54\n",
       "1054     1228  2018-12           27\n",
       "325      1071  2018-05           24\n",
       "856      1182  2018-12           33\n",
       "1861     1405  2018-11           24\n",
       "835      1179  2018-09           64\n",
       "1872     1406  2018-12           68\n",
       "564      1122  2018-08           68\n",
       "2109     1466  2018-08           31\n",
       "2062     1454  2018-11           32"
      ]
     },
     "metadata": {},
     "output_type": "display_data"
    }
   ],
   "source": [
    "data_mg_calls['call_date'] = pd.to_datetime(data_mg_calls['call_date'])\n",
    "\n",
    "data_mg_calls['month'] = data_mg_calls['call_date'].dt.strftime('%Y-%m')\n",
    "\n",
    "user_monthly_calls = data_mg_calls.groupby(['user_id', 'month']).size().reset_index(name='total_calls')\n",
    "\n",
    "display(user_monthly_calls.sample(10))"
   ]
  },
  {
   "cell_type": "markdown",
   "metadata": {},
   "source": [
    "**Calculate the amount of minutes spent by each user per month. Save the result.**"
   ]
  },
  {
   "cell_type": "code",
   "execution_count": 34,
   "metadata": {},
   "outputs": [
    {
     "data": {
      "text/html": [
       "<div>\n",
       "<style scoped>\n",
       "    .dataframe tbody tr th:only-of-type {\n",
       "        vertical-align: middle;\n",
       "    }\n",
       "\n",
       "    .dataframe tbody tr th {\n",
       "        vertical-align: top;\n",
       "    }\n",
       "\n",
       "    .dataframe thead th {\n",
       "        text-align: right;\n",
       "    }\n",
       "</style>\n",
       "<table border=\"1\" class=\"dataframe\">\n",
       "  <thead>\n",
       "    <tr style=\"text-align: right;\">\n",
       "      <th></th>\n",
       "      <th>user_id</th>\n",
       "      <th>month</th>\n",
       "      <th>total_minutes</th>\n",
       "    </tr>\n",
       "  </thead>\n",
       "  <tbody>\n",
       "    <tr>\n",
       "      <th>1523</th>\n",
       "      <td>1336</td>\n",
       "      <td>2018-08</td>\n",
       "      <td>584.0</td>\n",
       "    </tr>\n",
       "    <tr>\n",
       "      <th>548</th>\n",
       "      <td>1118</td>\n",
       "      <td>2018-12</td>\n",
       "      <td>909.0</td>\n",
       "    </tr>\n",
       "    <tr>\n",
       "      <th>1668</th>\n",
       "      <td>1365</td>\n",
       "      <td>2018-11</td>\n",
       "      <td>1099.0</td>\n",
       "    </tr>\n",
       "    <tr>\n",
       "      <th>1898</th>\n",
       "      <td>1412</td>\n",
       "      <td>2018-07</td>\n",
       "      <td>1188.0</td>\n",
       "    </tr>\n",
       "    <tr>\n",
       "      <th>864</th>\n",
       "      <td>1185</td>\n",
       "      <td>2018-04</td>\n",
       "      <td>550.0</td>\n",
       "    </tr>\n",
       "    <tr>\n",
       "      <th>1170</th>\n",
       "      <td>1254</td>\n",
       "      <td>2018-10</td>\n",
       "      <td>539.0</td>\n",
       "    </tr>\n",
       "    <tr>\n",
       "      <th>1204</th>\n",
       "      <td>1259</td>\n",
       "      <td>2018-10</td>\n",
       "      <td>99.0</td>\n",
       "    </tr>\n",
       "    <tr>\n",
       "      <th>1644</th>\n",
       "      <td>1362</td>\n",
       "      <td>2018-03</td>\n",
       "      <td>788.0</td>\n",
       "    </tr>\n",
       "    <tr>\n",
       "      <th>1741</th>\n",
       "      <td>1384</td>\n",
       "      <td>2018-06</td>\n",
       "      <td>182.0</td>\n",
       "    </tr>\n",
       "    <tr>\n",
       "      <th>1119</th>\n",
       "      <td>1245</td>\n",
       "      <td>2018-10</td>\n",
       "      <td>340.0</td>\n",
       "    </tr>\n",
       "  </tbody>\n",
       "</table>\n",
       "</div>"
      ],
      "text/plain": [
       "      user_id    month  total_minutes\n",
       "1523     1336  2018-08          584.0\n",
       "548      1118  2018-12          909.0\n",
       "1668     1365  2018-11         1099.0\n",
       "1898     1412  2018-07         1188.0\n",
       "864      1185  2018-04          550.0\n",
       "1170     1254  2018-10          539.0\n",
       "1204     1259  2018-10           99.0\n",
       "1644     1362  2018-03          788.0\n",
       "1741     1384  2018-06          182.0\n",
       "1119     1245  2018-10          340.0"
      ]
     },
     "metadata": {},
     "output_type": "display_data"
    }
   ],
   "source": [
    "data_mg_calls['call_date'] = pd.to_datetime(data_mg_calls['call_date'])\n",
    "\n",
    "data_mg_calls['month'] = data_mg_calls['call_date'].dt.strftime('%Y-%m')\n",
    "\n",
    "data_mg_calls['duration'] = np.ceil(data_mg_calls['duration'])\n",
    "\n",
    "user_monthly_minutes = data_mg_calls.groupby(['user_id', 'month'])['duration'].sum().reset_index(name='total_minutes')\n",
    "\n",
    "display(user_monthly_minutes.sample(10))"
   ]
  },
  {
   "cell_type": "markdown",
   "metadata": {},
   "source": [
    "**Calculate the number of messages sent by each user per month. Save the result.**"
   ]
  },
  {
   "cell_type": "code",
   "execution_count": 35,
   "metadata": {},
   "outputs": [
    {
     "data": {
      "text/html": [
       "<div>\n",
       "<style scoped>\n",
       "    .dataframe tbody tr th:only-of-type {\n",
       "        vertical-align: middle;\n",
       "    }\n",
       "\n",
       "    .dataframe tbody tr th {\n",
       "        vertical-align: top;\n",
       "    }\n",
       "\n",
       "    .dataframe thead th {\n",
       "        text-align: right;\n",
       "    }\n",
       "</style>\n",
       "<table border=\"1\" class=\"dataframe\">\n",
       "  <thead>\n",
       "    <tr style=\"text-align: right;\">\n",
       "      <th></th>\n",
       "      <th>user_id</th>\n",
       "      <th>month</th>\n",
       "      <th>total_messages</th>\n",
       "    </tr>\n",
       "  </thead>\n",
       "  <tbody>\n",
       "    <tr>\n",
       "      <th>189</th>\n",
       "      <td>1061</td>\n",
       "      <td>2018-04</td>\n",
       "      <td>17</td>\n",
       "    </tr>\n",
       "    <tr>\n",
       "      <th>290</th>\n",
       "      <td>1082</td>\n",
       "      <td>2018-07</td>\n",
       "      <td>30</td>\n",
       "    </tr>\n",
       "    <tr>\n",
       "      <th>1314</th>\n",
       "      <td>1354</td>\n",
       "      <td>2018-09</td>\n",
       "      <td>39</td>\n",
       "    </tr>\n",
       "    <tr>\n",
       "      <th>609</th>\n",
       "      <td>1164</td>\n",
       "      <td>2018-08</td>\n",
       "      <td>21</td>\n",
       "    </tr>\n",
       "    <tr>\n",
       "      <th>1184</th>\n",
       "      <td>1324</td>\n",
       "      <td>2018-04</td>\n",
       "      <td>120</td>\n",
       "    </tr>\n",
       "    <tr>\n",
       "      <th>677</th>\n",
       "      <td>1182</td>\n",
       "      <td>2018-09</td>\n",
       "      <td>4</td>\n",
       "    </tr>\n",
       "    <tr>\n",
       "      <th>512</th>\n",
       "      <td>1138</td>\n",
       "      <td>2018-11</td>\n",
       "      <td>7</td>\n",
       "    </tr>\n",
       "    <tr>\n",
       "      <th>847</th>\n",
       "      <td>1224</td>\n",
       "      <td>2018-10</td>\n",
       "      <td>43</td>\n",
       "    </tr>\n",
       "    <tr>\n",
       "      <th>1074</th>\n",
       "      <td>1285</td>\n",
       "      <td>2018-10</td>\n",
       "      <td>28</td>\n",
       "    </tr>\n",
       "    <tr>\n",
       "      <th>1343</th>\n",
       "      <td>1361</td>\n",
       "      <td>2018-09</td>\n",
       "      <td>36</td>\n",
       "    </tr>\n",
       "  </tbody>\n",
       "</table>\n",
       "</div>"
      ],
      "text/plain": [
       "      user_id    month  total_messages\n",
       "189      1061  2018-04              17\n",
       "290      1082  2018-07              30\n",
       "1314     1354  2018-09              39\n",
       "609      1164  2018-08              21\n",
       "1184     1324  2018-04             120\n",
       "677      1182  2018-09               4\n",
       "512      1138  2018-11               7\n",
       "847      1224  2018-10              43\n",
       "1074     1285  2018-10              28\n",
       "1343     1361  2018-09              36"
      ]
     },
     "metadata": {},
     "output_type": "display_data"
    }
   ],
   "source": [
    "data_mg_messages['message_date'] = pd.to_datetime(data_mg_messages['message_date'])\n",
    "\n",
    "data_mg_messages['month'] = data_mg_messages['message_date'].dt.strftime('%Y-%m')\n",
    "\n",
    "user_monthly_messages = data_mg_messages.groupby(['user_id', 'month']).size().reset_index(name='total_messages')\n",
    "\n",
    "display(user_monthly_messages.sample(10))"
   ]
  },
  {
   "cell_type": "markdown",
   "metadata": {},
   "source": [
    "**Calculate the volume of internet traffic used by each user per month. Save the result.**"
   ]
  },
  {
   "cell_type": "code",
   "execution_count": 36,
   "metadata": {},
   "outputs": [
    {
     "data": {
      "text/html": [
       "<div>\n",
       "<style scoped>\n",
       "    .dataframe tbody tr th:only-of-type {\n",
       "        vertical-align: middle;\n",
       "    }\n",
       "\n",
       "    .dataframe tbody tr th {\n",
       "        vertical-align: top;\n",
       "    }\n",
       "\n",
       "    .dataframe thead th {\n",
       "        text-align: right;\n",
       "    }\n",
       "</style>\n",
       "<table border=\"1\" class=\"dataframe\">\n",
       "  <thead>\n",
       "    <tr style=\"text-align: right;\">\n",
       "      <th></th>\n",
       "      <th>user_id</th>\n",
       "      <th>month</th>\n",
       "      <th>total_mb_used</th>\n",
       "    </tr>\n",
       "  </thead>\n",
       "  <tbody>\n",
       "    <tr>\n",
       "      <th>2275</th>\n",
       "      <td>1499</td>\n",
       "      <td>2018-11</td>\n",
       "      <td>16813.83</td>\n",
       "    </tr>\n",
       "    <tr>\n",
       "      <th>534</th>\n",
       "      <td>1113</td>\n",
       "      <td>2018-09</td>\n",
       "      <td>12197.81</td>\n",
       "    </tr>\n",
       "    <tr>\n",
       "      <th>1504</th>\n",
       "      <td>1328</td>\n",
       "      <td>2018-06</td>\n",
       "      <td>23829.72</td>\n",
       "    </tr>\n",
       "    <tr>\n",
       "      <th>825</th>\n",
       "      <td>1172</td>\n",
       "      <td>2018-08</td>\n",
       "      <td>12118.28</td>\n",
       "    </tr>\n",
       "    <tr>\n",
       "      <th>1808</th>\n",
       "      <td>1390</td>\n",
       "      <td>2018-08</td>\n",
       "      <td>17407.84</td>\n",
       "    </tr>\n",
       "    <tr>\n",
       "      <th>711</th>\n",
       "      <td>1149</td>\n",
       "      <td>2018-12</td>\n",
       "      <td>7911.99</td>\n",
       "    </tr>\n",
       "    <tr>\n",
       "      <th>954</th>\n",
       "      <td>1198</td>\n",
       "      <td>2018-11</td>\n",
       "      <td>14361.58</td>\n",
       "    </tr>\n",
       "    <tr>\n",
       "      <th>1071</th>\n",
       "      <td>1225</td>\n",
       "      <td>2018-12</td>\n",
       "      <td>14304.55</td>\n",
       "    </tr>\n",
       "    <tr>\n",
       "      <th>1312</th>\n",
       "      <td>1280</td>\n",
       "      <td>2018-09</td>\n",
       "      <td>18366.57</td>\n",
       "    </tr>\n",
       "    <tr>\n",
       "      <th>2204</th>\n",
       "      <td>1483</td>\n",
       "      <td>2018-09</td>\n",
       "      <td>12195.88</td>\n",
       "    </tr>\n",
       "  </tbody>\n",
       "</table>\n",
       "</div>"
      ],
      "text/plain": [
       "      user_id    month  total_mb_used\n",
       "2275     1499  2018-11       16813.83\n",
       "534      1113  2018-09       12197.81\n",
       "1504     1328  2018-06       23829.72\n",
       "825      1172  2018-08       12118.28\n",
       "1808     1390  2018-08       17407.84\n",
       "711      1149  2018-12        7911.99\n",
       "954      1198  2018-11       14361.58\n",
       "1071     1225  2018-12       14304.55\n",
       "1312     1280  2018-09       18366.57\n",
       "2204     1483  2018-09       12195.88"
      ]
     },
     "metadata": {},
     "output_type": "display_data"
    }
   ],
   "source": [
    "data_mg_internet['session_date'] = pd.to_datetime(data_mg_internet['session_date'])\n",
    "\n",
    "data_mg_internet['month'] = data_mg_internet['session_date'].dt.strftime('%Y-%m')\n",
    "\n",
    "user_monthly_internet = data_mg_internet.groupby(['user_id', 'month'])['mb_used'].sum().reset_index(name='total_mb_used')\n",
    "\n",
    "display(user_monthly_internet.sample(10))"
   ]
  },
  {
   "cell_type": "markdown",
   "metadata": {},
   "source": [
    "**Put the aggregate data together into one DataFrame so that one record in it would represent what an unique user consumed in a given month.**"
   ]
  },
  {
   "cell_type": "code",
   "execution_count": 37,
   "metadata": {},
   "outputs": [
    {
     "data": {
      "text/html": [
       "<div>\n",
       "<style scoped>\n",
       "    .dataframe tbody tr th:only-of-type {\n",
       "        vertical-align: middle;\n",
       "    }\n",
       "\n",
       "    .dataframe tbody tr th {\n",
       "        vertical-align: top;\n",
       "    }\n",
       "\n",
       "    .dataframe thead th {\n",
       "        text-align: right;\n",
       "    }\n",
       "</style>\n",
       "<table border=\"1\" class=\"dataframe\">\n",
       "  <thead>\n",
       "    <tr style=\"text-align: right;\">\n",
       "      <th></th>\n",
       "      <th>user_id</th>\n",
       "      <th>month</th>\n",
       "      <th>total_calls</th>\n",
       "      <th>total_minutes</th>\n",
       "      <th>total_messages</th>\n",
       "      <th>total_mb_used</th>\n",
       "    </tr>\n",
       "  </thead>\n",
       "  <tbody>\n",
       "    <tr>\n",
       "      <th>259</th>\n",
       "      <td>1059</td>\n",
       "      <td>2018-11</td>\n",
       "      <td>98.0</td>\n",
       "      <td>734.0</td>\n",
       "      <td>66.0</td>\n",
       "      <td>15430.49</td>\n",
       "    </tr>\n",
       "    <tr>\n",
       "      <th>887</th>\n",
       "      <td>1189</td>\n",
       "      <td>2018-09</td>\n",
       "      <td>13.0</td>\n",
       "      <td>119.0</td>\n",
       "      <td>6.0</td>\n",
       "      <td>4255.45</td>\n",
       "    </tr>\n",
       "    <tr>\n",
       "      <th>1620</th>\n",
       "      <td>1358</td>\n",
       "      <td>2018-10</td>\n",
       "      <td>64.0</td>\n",
       "      <td>451.0</td>\n",
       "      <td>3.0</td>\n",
       "      <td>16913.21</td>\n",
       "    </tr>\n",
       "    <tr>\n",
       "      <th>546</th>\n",
       "      <td>1117</td>\n",
       "      <td>2018-11</td>\n",
       "      <td>58.0</td>\n",
       "      <td>381.0</td>\n",
       "      <td>NaN</td>\n",
       "      <td>18252.40</td>\n",
       "    </tr>\n",
       "    <tr>\n",
       "      <th>1538</th>\n",
       "      <td>1339</td>\n",
       "      <td>2018-08</td>\n",
       "      <td>6.0</td>\n",
       "      <td>41.0</td>\n",
       "      <td>76.0</td>\n",
       "      <td>3202.36</td>\n",
       "    </tr>\n",
       "    <tr>\n",
       "      <th>1939</th>\n",
       "      <td>1421</td>\n",
       "      <td>2018-10</td>\n",
       "      <td>21.0</td>\n",
       "      <td>126.0</td>\n",
       "      <td>26.0</td>\n",
       "      <td>7633.58</td>\n",
       "    </tr>\n",
       "    <tr>\n",
       "      <th>1023</th>\n",
       "      <td>1220</td>\n",
       "      <td>2018-10</td>\n",
       "      <td>91.0</td>\n",
       "      <td>634.0</td>\n",
       "      <td>35.0</td>\n",
       "      <td>19456.48</td>\n",
       "    </tr>\n",
       "    <tr>\n",
       "      <th>664</th>\n",
       "      <td>1144</td>\n",
       "      <td>2018-09</td>\n",
       "      <td>70.0</td>\n",
       "      <td>500.0</td>\n",
       "      <td>74.0</td>\n",
       "      <td>37587.03</td>\n",
       "    </tr>\n",
       "    <tr>\n",
       "      <th>808</th>\n",
       "      <td>1172</td>\n",
       "      <td>2018-11</td>\n",
       "      <td>90.0</td>\n",
       "      <td>621.0</td>\n",
       "      <td>86.0</td>\n",
       "      <td>25522.05</td>\n",
       "    </tr>\n",
       "    <tr>\n",
       "      <th>1742</th>\n",
       "      <td>1384</td>\n",
       "      <td>2018-07</td>\n",
       "      <td>36.0</td>\n",
       "      <td>216.0</td>\n",
       "      <td>98.0</td>\n",
       "      <td>25450.13</td>\n",
       "    </tr>\n",
       "  </tbody>\n",
       "</table>\n",
       "</div>"
      ],
      "text/plain": [
       "      user_id    month  total_calls  total_minutes  total_messages  \\\n",
       "259      1059  2018-11         98.0          734.0            66.0   \n",
       "887      1189  2018-09         13.0          119.0             6.0   \n",
       "1620     1358  2018-10         64.0          451.0             3.0   \n",
       "546      1117  2018-11         58.0          381.0             NaN   \n",
       "1538     1339  2018-08          6.0           41.0            76.0   \n",
       "1939     1421  2018-10         21.0          126.0            26.0   \n",
       "1023     1220  2018-10         91.0          634.0            35.0   \n",
       "664      1144  2018-09         70.0          500.0            74.0   \n",
       "808      1172  2018-11         90.0          621.0            86.0   \n",
       "1742     1384  2018-07         36.0          216.0            98.0   \n",
       "\n",
       "      total_mb_used  \n",
       "259        15430.49  \n",
       "887         4255.45  \n",
       "1620       16913.21  \n",
       "546        18252.40  \n",
       "1538        3202.36  \n",
       "1939        7633.58  \n",
       "1023       19456.48  \n",
       "664        37587.03  \n",
       "808        25522.05  \n",
       "1742       25450.13  "
      ]
     },
     "metadata": {},
     "output_type": "display_data"
    }
   ],
   "source": [
    "combined_monthly_data = {\n",
    "    'calls': user_monthly_calls.set_index(['user_id', 'month']),\n",
    "    'minutes': user_monthly_minutes.set_index(['user_id', 'month']),\n",
    "    'messages': user_monthly_messages.set_index(['user_id', 'month']),\n",
    "    'internet': user_monthly_internet.set_index(['user_id', 'month'])   \n",
    "}\n",
    "\n",
    "user_monthly = pd.concat(combined_monthly_data.values(), axis=1)\n",
    "\n",
    "user_monthly = user_monthly.reset_index()\n",
    "\n",
    "display(user_monthly.sample(10))"
   ]
  },
  {
   "cell_type": "markdown",
   "metadata": {},
   "source": [
    "**Merge the data for calls, minutes, messages, internet based on user_id and month**"
   ]
  },
  {
   "cell_type": "markdown",
   "metadata": {},
   "source": [
    "merge() is used instead of .join() because it allows for flexible multi-table merging, ensures all users and months are retained via how='outer', and properly aligns data by keys while handling missing values efficiently"
   ]
  },
  {
   "cell_type": "code",
   "execution_count": 38,
   "metadata": {},
   "outputs": [
    {
     "name": "stdout",
     "output_type": "stream",
     "text": [
      "<class 'pandas.core.frame.DataFrame'>\n",
      "RangeIndex: 2293 entries, 0 to 2292\n",
      "Data columns (total 6 columns):\n",
      " #   Column          Non-Null Count  Dtype  \n",
      "---  ------          --------------  -----  \n",
      " 0   user_id         2293 non-null   int64  \n",
      " 1   month           2293 non-null   object \n",
      " 2   total_calls     2293 non-null   float64\n",
      " 3   total_minutes   2293 non-null   float64\n",
      " 4   total_mb_used   2293 non-null   float64\n",
      " 5   total_messages  2293 non-null   float64\n",
      "dtypes: float64(4), int64(1), object(1)\n",
      "memory usage: 107.6+ KB\n",
      "None\n"
     ]
    },
    {
     "data": {
      "text/html": [
       "<div>\n",
       "<style scoped>\n",
       "    .dataframe tbody tr th:only-of-type {\n",
       "        vertical-align: middle;\n",
       "    }\n",
       "\n",
       "    .dataframe tbody tr th {\n",
       "        vertical-align: top;\n",
       "    }\n",
       "\n",
       "    .dataframe thead th {\n",
       "        text-align: right;\n",
       "    }\n",
       "</style>\n",
       "<table border=\"1\" class=\"dataframe\">\n",
       "  <thead>\n",
       "    <tr style=\"text-align: right;\">\n",
       "      <th></th>\n",
       "      <th>user_id</th>\n",
       "      <th>month</th>\n",
       "      <th>total_calls</th>\n",
       "      <th>total_minutes</th>\n",
       "      <th>total_mb_used</th>\n",
       "      <th>total_messages</th>\n",
       "    </tr>\n",
       "  </thead>\n",
       "  <tbody>\n",
       "    <tr>\n",
       "      <th>1549</th>\n",
       "      <td>1336</td>\n",
       "      <td>2018-04</td>\n",
       "      <td>88.0</td>\n",
       "      <td>535.0</td>\n",
       "      <td>15947.11</td>\n",
       "      <td>64.0</td>\n",
       "    </tr>\n",
       "    <tr>\n",
       "      <th>1586</th>\n",
       "      <td>1343</td>\n",
       "      <td>2018-12</td>\n",
       "      <td>63.0</td>\n",
       "      <td>476.0</td>\n",
       "      <td>20502.94</td>\n",
       "      <td>115.0</td>\n",
       "    </tr>\n",
       "    <tr>\n",
       "      <th>2051</th>\n",
       "      <td>1440</td>\n",
       "      <td>2018-11</td>\n",
       "      <td>103.0</td>\n",
       "      <td>787.0</td>\n",
       "      <td>15026.33</td>\n",
       "      <td>36.0</td>\n",
       "    </tr>\n",
       "    <tr>\n",
       "      <th>1589</th>\n",
       "      <td>1345</td>\n",
       "      <td>2018-11</td>\n",
       "      <td>81.0</td>\n",
       "      <td>483.0</td>\n",
       "      <td>8975.99</td>\n",
       "      <td>13.0</td>\n",
       "    </tr>\n",
       "    <tr>\n",
       "      <th>1936</th>\n",
       "      <td>1412</td>\n",
       "      <td>2018-11</td>\n",
       "      <td>124.0</td>\n",
       "      <td>955.0</td>\n",
       "      <td>12671.77</td>\n",
       "      <td>57.0</td>\n",
       "    </tr>\n",
       "    <tr>\n",
       "      <th>1810</th>\n",
       "      <td>1390</td>\n",
       "      <td>2018-06</td>\n",
       "      <td>80.0</td>\n",
       "      <td>553.0</td>\n",
       "      <td>12529.76</td>\n",
       "      <td>0.0</td>\n",
       "    </tr>\n",
       "    <tr>\n",
       "      <th>1142</th>\n",
       "      <td>1243</td>\n",
       "      <td>2018-12</td>\n",
       "      <td>50.0</td>\n",
       "      <td>407.0</td>\n",
       "      <td>28824.21</td>\n",
       "      <td>24.0</td>\n",
       "    </tr>\n",
       "    <tr>\n",
       "      <th>1231</th>\n",
       "      <td>1259</td>\n",
       "      <td>2018-08</td>\n",
       "      <td>24.0</td>\n",
       "      <td>199.0</td>\n",
       "      <td>2520.61</td>\n",
       "      <td>36.0</td>\n",
       "    </tr>\n",
       "    <tr>\n",
       "      <th>394</th>\n",
       "      <td>1081</td>\n",
       "      <td>2018-12</td>\n",
       "      <td>28.0</td>\n",
       "      <td>216.0</td>\n",
       "      <td>17865.73</td>\n",
       "      <td>26.0</td>\n",
       "    </tr>\n",
       "    <tr>\n",
       "      <th>2204</th>\n",
       "      <td>1478</td>\n",
       "      <td>2018-11</td>\n",
       "      <td>56.0</td>\n",
       "      <td>389.0</td>\n",
       "      <td>16216.44</td>\n",
       "      <td>12.0</td>\n",
       "    </tr>\n",
       "  </tbody>\n",
       "</table>\n",
       "</div>"
      ],
      "text/plain": [
       "      user_id    month  total_calls  total_minutes  total_mb_used  \\\n",
       "1549     1336  2018-04         88.0          535.0       15947.11   \n",
       "1586     1343  2018-12         63.0          476.0       20502.94   \n",
       "2051     1440  2018-11        103.0          787.0       15026.33   \n",
       "1589     1345  2018-11         81.0          483.0        8975.99   \n",
       "1936     1412  2018-11        124.0          955.0       12671.77   \n",
       "1810     1390  2018-06         80.0          553.0       12529.76   \n",
       "1142     1243  2018-12         50.0          407.0       28824.21   \n",
       "1231     1259  2018-08         24.0          199.0        2520.61   \n",
       "394      1081  2018-12         28.0          216.0       17865.73   \n",
       "2204     1478  2018-11         56.0          389.0       16216.44   \n",
       "\n",
       "      total_messages  \n",
       "1549            64.0  \n",
       "1586           115.0  \n",
       "2051            36.0  \n",
       "1589            13.0  \n",
       "1936            57.0  \n",
       "1810             0.0  \n",
       "1142            24.0  \n",
       "1231            36.0  \n",
       "394             26.0  \n",
       "2204            12.0  "
      ]
     },
     "metadata": {},
     "output_type": "display_data"
    }
   ],
   "source": [
    "merged_mg_calls_min_messages_data = []\n",
    "\n",
    "merged_data = pd.merge(\n",
    "    user_monthly_calls,\n",
    "    user_monthly_minutes,\n",
    "    on=['user_id', 'month'],\n",
    "    how='outer'\n",
    ")\n",
    "\n",
    "merged_data = pd.merge(\n",
    "    merged_data,\n",
    "    user_monthly_internet,\n",
    "    on=['user_id', 'month'],\n",
    "    how='outer'\n",
    ")\n",
    "\n",
    "\n",
    "merged_data = pd.merge(\n",
    "    merged_data,\n",
    "    user_monthly_messages,\n",
    "    on=['user_id', 'month'],\n",
    "    how='outer'\n",
    ")\n",
    "\n",
    "merged_data = merged_data.fillna(0)\n",
    "\n",
    "print(merged_data.info()) \n",
    "display(merged_data.sample(10))"
   ]
  },
  {
   "cell_type": "markdown",
   "metadata": {},
   "source": [
    "**Add the plan information**"
   ]
  },
  {
   "cell_type": "code",
   "execution_count": 39,
   "metadata": {},
   "outputs": [
    {
     "name": "stdout",
     "output_type": "stream",
     "text": [
      "<class 'pandas.core.frame.DataFrame'>\n",
      "RangeIndex: 2293 entries, 0 to 2292\n",
      "Data columns (total 16 columns):\n",
      " #   Column                 Non-Null Count  Dtype   \n",
      "---  ------                 --------------  -----   \n",
      " 0   user_id                2293 non-null   int64   \n",
      " 1   month                  2293 non-null   object  \n",
      " 2   total_calls            2293 non-null   float64 \n",
      " 3   total_minutes          2293 non-null   float64 \n",
      " 4   total_mb_used          2293 non-null   float64 \n",
      " 5   total_messages         2293 non-null   float64 \n",
      " 6   plan                   2293 non-null   object  \n",
      " 7   messages_included      2293 non-null   int64   \n",
      " 8   mb_per_month_included  2293 non-null   int64   \n",
      " 9   minutes_included       2293 non-null   int64   \n",
      " 10  usd_monthly_pay        2293 non-null   float64 \n",
      " 11  usd_per_gb             2293 non-null   float64 \n",
      " 12  usd_per_message        2293 non-null   float64 \n",
      " 13  usd_per_minute         2293 non-null   float64 \n",
      " 14  plan_name              2293 non-null   category\n",
      " 15  mb_to_gb_converted     2293 non-null   float64 \n",
      "dtypes: category(1), float64(9), int64(4), object(2)\n",
      "memory usage: 271.2+ KB\n",
      "None\n"
     ]
    },
    {
     "data": {
      "text/html": [
       "<div>\n",
       "<style scoped>\n",
       "    .dataframe tbody tr th:only-of-type {\n",
       "        vertical-align: middle;\n",
       "    }\n",
       "\n",
       "    .dataframe tbody tr th {\n",
       "        vertical-align: top;\n",
       "    }\n",
       "\n",
       "    .dataframe thead th {\n",
       "        text-align: right;\n",
       "    }\n",
       "</style>\n",
       "<table border=\"1\" class=\"dataframe\">\n",
       "  <thead>\n",
       "    <tr style=\"text-align: right;\">\n",
       "      <th></th>\n",
       "      <th>user_id</th>\n",
       "      <th>month</th>\n",
       "      <th>total_calls</th>\n",
       "      <th>total_minutes</th>\n",
       "      <th>total_mb_used</th>\n",
       "      <th>total_messages</th>\n",
       "      <th>plan</th>\n",
       "      <th>messages_included</th>\n",
       "      <th>mb_per_month_included</th>\n",
       "      <th>minutes_included</th>\n",
       "      <th>usd_monthly_pay</th>\n",
       "      <th>usd_per_gb</th>\n",
       "      <th>usd_per_message</th>\n",
       "      <th>usd_per_minute</th>\n",
       "      <th>plan_name</th>\n",
       "      <th>mb_to_gb_converted</th>\n",
       "    </tr>\n",
       "  </thead>\n",
       "  <tbody>\n",
       "    <tr>\n",
       "      <th>747</th>\n",
       "      <td>1156</td>\n",
       "      <td>2018-06</td>\n",
       "      <td>78.0</td>\n",
       "      <td>596.0</td>\n",
       "      <td>21636.50</td>\n",
       "      <td>0.0</td>\n",
       "      <td>surf</td>\n",
       "      <td>50</td>\n",
       "      <td>15360</td>\n",
       "      <td>500</td>\n",
       "      <td>20.0</td>\n",
       "      <td>10.0</td>\n",
       "      <td>0.03</td>\n",
       "      <td>0.03</td>\n",
       "      <td>surf</td>\n",
       "      <td>15.0</td>\n",
       "    </tr>\n",
       "    <tr>\n",
       "      <th>1359</th>\n",
       "      <td>1292</td>\n",
       "      <td>2018-10</td>\n",
       "      <td>42.0</td>\n",
       "      <td>303.0</td>\n",
       "      <td>46868.75</td>\n",
       "      <td>0.0</td>\n",
       "      <td>surf</td>\n",
       "      <td>50</td>\n",
       "      <td>15360</td>\n",
       "      <td>500</td>\n",
       "      <td>20.0</td>\n",
       "      <td>10.0</td>\n",
       "      <td>0.03</td>\n",
       "      <td>0.03</td>\n",
       "      <td>surf</td>\n",
       "      <td>15.0</td>\n",
       "    </tr>\n",
       "    <tr>\n",
       "      <th>1859</th>\n",
       "      <td>1400</td>\n",
       "      <td>2018-06</td>\n",
       "      <td>69.0</td>\n",
       "      <td>472.0</td>\n",
       "      <td>14502.51</td>\n",
       "      <td>0.0</td>\n",
       "      <td>surf</td>\n",
       "      <td>50</td>\n",
       "      <td>15360</td>\n",
       "      <td>500</td>\n",
       "      <td>20.0</td>\n",
       "      <td>10.0</td>\n",
       "      <td>0.03</td>\n",
       "      <td>0.03</td>\n",
       "      <td>surf</td>\n",
       "      <td>15.0</td>\n",
       "    </tr>\n",
       "    <tr>\n",
       "      <th>1299</th>\n",
       "      <td>1277</td>\n",
       "      <td>2018-06</td>\n",
       "      <td>97.0</td>\n",
       "      <td>678.0</td>\n",
       "      <td>21632.19</td>\n",
       "      <td>0.0</td>\n",
       "      <td>surf</td>\n",
       "      <td>50</td>\n",
       "      <td>15360</td>\n",
       "      <td>500</td>\n",
       "      <td>20.0</td>\n",
       "      <td>10.0</td>\n",
       "      <td>0.03</td>\n",
       "      <td>0.03</td>\n",
       "      <td>surf</td>\n",
       "      <td>15.0</td>\n",
       "    </tr>\n",
       "    <tr>\n",
       "      <th>171</th>\n",
       "      <td>1043</td>\n",
       "      <td>2018-09</td>\n",
       "      <td>28.0</td>\n",
       "      <td>200.0</td>\n",
       "      <td>32619.76</td>\n",
       "      <td>101.0</td>\n",
       "      <td>ultimate</td>\n",
       "      <td>1000</td>\n",
       "      <td>30720</td>\n",
       "      <td>3000</td>\n",
       "      <td>70.0</td>\n",
       "      <td>7.0</td>\n",
       "      <td>0.01</td>\n",
       "      <td>0.01</td>\n",
       "      <td>ultimate</td>\n",
       "      <td>30.0</td>\n",
       "    </tr>\n",
       "    <tr>\n",
       "      <th>970</th>\n",
       "      <td>1201</td>\n",
       "      <td>2018-12</td>\n",
       "      <td>60.0</td>\n",
       "      <td>374.0</td>\n",
       "      <td>26731.81</td>\n",
       "      <td>10.0</td>\n",
       "      <td>surf</td>\n",
       "      <td>50</td>\n",
       "      <td>15360</td>\n",
       "      <td>500</td>\n",
       "      <td>20.0</td>\n",
       "      <td>10.0</td>\n",
       "      <td>0.03</td>\n",
       "      <td>0.03</td>\n",
       "      <td>surf</td>\n",
       "      <td>15.0</td>\n",
       "    </tr>\n",
       "    <tr>\n",
       "      <th>2060</th>\n",
       "      <td>1444</td>\n",
       "      <td>2018-10</td>\n",
       "      <td>32.0</td>\n",
       "      <td>228.0</td>\n",
       "      <td>24813.96</td>\n",
       "      <td>54.0</td>\n",
       "      <td>surf</td>\n",
       "      <td>50</td>\n",
       "      <td>15360</td>\n",
       "      <td>500</td>\n",
       "      <td>20.0</td>\n",
       "      <td>10.0</td>\n",
       "      <td>0.03</td>\n",
       "      <td>0.03</td>\n",
       "      <td>surf</td>\n",
       "      <td>15.0</td>\n",
       "    </tr>\n",
       "    <tr>\n",
       "      <th>1283</th>\n",
       "      <td>1270</td>\n",
       "      <td>2018-10</td>\n",
       "      <td>69.0</td>\n",
       "      <td>512.0</td>\n",
       "      <td>18272.97</td>\n",
       "      <td>22.0</td>\n",
       "      <td>ultimate</td>\n",
       "      <td>1000</td>\n",
       "      <td>30720</td>\n",
       "      <td>3000</td>\n",
       "      <td>70.0</td>\n",
       "      <td>7.0</td>\n",
       "      <td>0.01</td>\n",
       "      <td>0.01</td>\n",
       "      <td>ultimate</td>\n",
       "      <td>30.0</td>\n",
       "    </tr>\n",
       "    <tr>\n",
       "      <th>242</th>\n",
       "      <td>1056</td>\n",
       "      <td>2018-08</td>\n",
       "      <td>48.0</td>\n",
       "      <td>350.0</td>\n",
       "      <td>21623.82</td>\n",
       "      <td>37.0</td>\n",
       "      <td>surf</td>\n",
       "      <td>50</td>\n",
       "      <td>15360</td>\n",
       "      <td>500</td>\n",
       "      <td>20.0</td>\n",
       "      <td>10.0</td>\n",
       "      <td>0.03</td>\n",
       "      <td>0.03</td>\n",
       "      <td>surf</td>\n",
       "      <td>15.0</td>\n",
       "    </tr>\n",
       "    <tr>\n",
       "      <th>778</th>\n",
       "      <td>1162</td>\n",
       "      <td>2018-11</td>\n",
       "      <td>65.0</td>\n",
       "      <td>377.0</td>\n",
       "      <td>17130.90</td>\n",
       "      <td>34.0</td>\n",
       "      <td>ultimate</td>\n",
       "      <td>1000</td>\n",
       "      <td>30720</td>\n",
       "      <td>3000</td>\n",
       "      <td>70.0</td>\n",
       "      <td>7.0</td>\n",
       "      <td>0.01</td>\n",
       "      <td>0.01</td>\n",
       "      <td>ultimate</td>\n",
       "      <td>30.0</td>\n",
       "    </tr>\n",
       "  </tbody>\n",
       "</table>\n",
       "</div>"
      ],
      "text/plain": [
       "      user_id    month  total_calls  total_minutes  total_mb_used  \\\n",
       "747      1156  2018-06         78.0          596.0       21636.50   \n",
       "1359     1292  2018-10         42.0          303.0       46868.75   \n",
       "1859     1400  2018-06         69.0          472.0       14502.51   \n",
       "1299     1277  2018-06         97.0          678.0       21632.19   \n",
       "171      1043  2018-09         28.0          200.0       32619.76   \n",
       "970      1201  2018-12         60.0          374.0       26731.81   \n",
       "2060     1444  2018-10         32.0          228.0       24813.96   \n",
       "1283     1270  2018-10         69.0          512.0       18272.97   \n",
       "242      1056  2018-08         48.0          350.0       21623.82   \n",
       "778      1162  2018-11         65.0          377.0       17130.90   \n",
       "\n",
       "      total_messages      plan  messages_included  mb_per_month_included  \\\n",
       "747              0.0      surf                 50                  15360   \n",
       "1359             0.0      surf                 50                  15360   \n",
       "1859             0.0      surf                 50                  15360   \n",
       "1299             0.0      surf                 50                  15360   \n",
       "171            101.0  ultimate               1000                  30720   \n",
       "970             10.0      surf                 50                  15360   \n",
       "2060            54.0      surf                 50                  15360   \n",
       "1283            22.0  ultimate               1000                  30720   \n",
       "242             37.0      surf                 50                  15360   \n",
       "778             34.0  ultimate               1000                  30720   \n",
       "\n",
       "      minutes_included  usd_monthly_pay  usd_per_gb  usd_per_message  \\\n",
       "747                500             20.0        10.0             0.03   \n",
       "1359               500             20.0        10.0             0.03   \n",
       "1859               500             20.0        10.0             0.03   \n",
       "1299               500             20.0        10.0             0.03   \n",
       "171               3000             70.0         7.0             0.01   \n",
       "970                500             20.0        10.0             0.03   \n",
       "2060               500             20.0        10.0             0.03   \n",
       "1283              3000             70.0         7.0             0.01   \n",
       "242                500             20.0        10.0             0.03   \n",
       "778               3000             70.0         7.0             0.01   \n",
       "\n",
       "      usd_per_minute plan_name  mb_to_gb_converted  \n",
       "747             0.03      surf                15.0  \n",
       "1359            0.03      surf                15.0  \n",
       "1859            0.03      surf                15.0  \n",
       "1299            0.03      surf                15.0  \n",
       "171             0.01  ultimate                30.0  \n",
       "970             0.03      surf                15.0  \n",
       "2060            0.03      surf                15.0  \n",
       "1283            0.01  ultimate                30.0  \n",
       "242             0.03      surf                15.0  \n",
       "778             0.01  ultimate                30.0  "
      ]
     },
     "metadata": {},
     "output_type": "display_data"
    }
   ],
   "source": [
    "plan_info = pd.merge(\n",
    "    data_mg_users[['user_id', 'plan']],\n",
    "    data_mg_plans,\n",
    "    left_on='plan',\n",
    "    right_on='plan_name', \n",
    "    how='left'\n",
    ")\n",
    "\n",
    "\n",
    "merged_data = pd.merge(\n",
    "    merged_data,\n",
    "    plan_info,\n",
    "    on='user_id', \n",
    "    how='left'\n",
    ")\n",
    "\n",
    "\n",
    "merged_data = merged_data.fillna({\n",
    "        'plan': 'Unknown'\n",
    "})\n",
    "\n",
    "\n",
    "print(merged_data.info()) \n",
    "display(merged_data.sample(10))"
   ]
  },
  {
   "cell_type": "markdown",
   "metadata": {},
   "source": [
    "**Calculate the monthly revenue from each user (subtract the free package limit from the total number of calls, text messages, and data; multiply the result by the calling plan value; add the monthly charge depending on the calling plan). N.B. This might not be as trivial as just a couple of lines given the plan conditions! So, it's okay to spend some time on it.**"
   ]
  },
  {
   "cell_type": "markdown",
   "metadata": {},
   "source": [
    "**Calculate the monthly revenue for each user**"
   ]
  },
  {
   "cell_type": "code",
   "execution_count": 40,
   "metadata": {},
   "outputs": [
    {
     "name": "stdout",
     "output_type": "stream",
     "text": [
      "<class 'pandas.core.frame.DataFrame'>\n",
      "RangeIndex: 2293 entries, 0 to 2292\n",
      "Data columns (total 11 columns):\n",
      " #   Column            Non-Null Count  Dtype  \n",
      "---  ------            --------------  -----  \n",
      " 0   user_id           2293 non-null   int64  \n",
      " 1   month             2293 non-null   object \n",
      " 2   total_calls       2293 non-null   float64\n",
      " 3   total_minutes     2293 non-null   float64\n",
      " 4   total_messages    2293 non-null   float64\n",
      " 5   total_mb_used     2293 non-null   float64\n",
      " 6   plan              2293 non-null   object \n",
      " 7   minutes_overage   2293 non-null   float64\n",
      " 8   messages_overage  2293 non-null   float64\n",
      " 9   mb_overage        2293 non-null   float64\n",
      " 10  monthly_revenue   2293 non-null   float64\n",
      "dtypes: float64(8), int64(1), object(2)\n",
      "memory usage: 197.2+ KB\n",
      "None\n"
     ]
    },
    {
     "name": "stderr",
     "output_type": "stream",
     "text": [
      "C:\\Users\\bijan\\AppData\\Local\\Temp\\ipykernel_2888\\440387925.py:32: SettingWithCopyWarning: \n",
      "A value is trying to be set on a copy of a slice from a DataFrame.\n",
      "Try using .loc[row_indexer,col_indexer] = value instead\n",
      "\n",
      "See the caveats in the documentation: https://pandas.pydata.org/pandas-docs/stable/user_guide/indexing.html#returning-a-view-versus-a-copy\n",
      "  resulting_merged_data['minutes_overage'] = np.ceil(resulting_merged_data['minutes_overage'])\n",
      "C:\\Users\\bijan\\AppData\\Local\\Temp\\ipykernel_2888\\440387925.py:33: SettingWithCopyWarning: \n",
      "A value is trying to be set on a copy of a slice from a DataFrame.\n",
      "Try using .loc[row_indexer,col_indexer] = value instead\n",
      "\n",
      "See the caveats in the documentation: https://pandas.pydata.org/pandas-docs/stable/user_guide/indexing.html#returning-a-view-versus-a-copy\n",
      "  resulting_merged_data['messages_overage'] = np.ceil(resulting_merged_data['messages_overage'])\n",
      "C:\\Users\\bijan\\AppData\\Local\\Temp\\ipykernel_2888\\440387925.py:34: SettingWithCopyWarning: \n",
      "A value is trying to be set on a copy of a slice from a DataFrame.\n",
      "Try using .loc[row_indexer,col_indexer] = value instead\n",
      "\n",
      "See the caveats in the documentation: https://pandas.pydata.org/pandas-docs/stable/user_guide/indexing.html#returning-a-view-versus-a-copy\n",
      "  resulting_merged_data['mb_overage'] = np.ceil(resulting_merged_data['mb_overage'])\n"
     ]
    },
    {
     "data": {
      "text/html": [
       "<div>\n",
       "<style scoped>\n",
       "    .dataframe tbody tr th:only-of-type {\n",
       "        vertical-align: middle;\n",
       "    }\n",
       "\n",
       "    .dataframe tbody tr th {\n",
       "        vertical-align: top;\n",
       "    }\n",
       "\n",
       "    .dataframe thead th {\n",
       "        text-align: right;\n",
       "    }\n",
       "</style>\n",
       "<table border=\"1\" class=\"dataframe\">\n",
       "  <thead>\n",
       "    <tr style=\"text-align: right;\">\n",
       "      <th></th>\n",
       "      <th>user_id</th>\n",
       "      <th>month</th>\n",
       "      <th>total_calls</th>\n",
       "      <th>total_minutes</th>\n",
       "      <th>total_messages</th>\n",
       "      <th>total_mb_used</th>\n",
       "      <th>plan</th>\n",
       "      <th>minutes_overage</th>\n",
       "      <th>messages_overage</th>\n",
       "      <th>mb_overage</th>\n",
       "      <th>monthly_revenue</th>\n",
       "    </tr>\n",
       "  </thead>\n",
       "  <tbody>\n",
       "    <tr>\n",
       "      <th>947</th>\n",
       "      <td>1196</td>\n",
       "      <td>2018-09</td>\n",
       "      <td>72.0</td>\n",
       "      <td>563.0</td>\n",
       "      <td>29.0</td>\n",
       "      <td>20113.60</td>\n",
       "      <td>ultimate</td>\n",
       "      <td>0.0</td>\n",
       "      <td>0.0</td>\n",
       "      <td>0.0</td>\n",
       "      <td>70.0</td>\n",
       "    </tr>\n",
       "    <tr>\n",
       "      <th>1090</th>\n",
       "      <td>1231</td>\n",
       "      <td>2018-10</td>\n",
       "      <td>74.0</td>\n",
       "      <td>546.0</td>\n",
       "      <td>3.0</td>\n",
       "      <td>16946.96</td>\n",
       "      <td>ultimate</td>\n",
       "      <td>0.0</td>\n",
       "      <td>0.0</td>\n",
       "      <td>0.0</td>\n",
       "      <td>70.0</td>\n",
       "    </tr>\n",
       "    <tr>\n",
       "      <th>1626</th>\n",
       "      <td>1353</td>\n",
       "      <td>2018-10</td>\n",
       "      <td>60.0</td>\n",
       "      <td>497.0</td>\n",
       "      <td>0.0</td>\n",
       "      <td>17800.20</td>\n",
       "      <td>surf</td>\n",
       "      <td>0.0</td>\n",
       "      <td>0.0</td>\n",
       "      <td>2441.0</td>\n",
       "      <td>50.0</td>\n",
       "    </tr>\n",
       "    <tr>\n",
       "      <th>1112</th>\n",
       "      <td>1236</td>\n",
       "      <td>2018-08</td>\n",
       "      <td>65.0</td>\n",
       "      <td>435.0</td>\n",
       "      <td>36.0</td>\n",
       "      <td>17954.65</td>\n",
       "      <td>ultimate</td>\n",
       "      <td>0.0</td>\n",
       "      <td>0.0</td>\n",
       "      <td>0.0</td>\n",
       "      <td>70.0</td>\n",
       "    </tr>\n",
       "    <tr>\n",
       "      <th>1203</th>\n",
       "      <td>1255</td>\n",
       "      <td>2018-09</td>\n",
       "      <td>74.0</td>\n",
       "      <td>464.0</td>\n",
       "      <td>47.0</td>\n",
       "      <td>10052.62</td>\n",
       "      <td>ultimate</td>\n",
       "      <td>0.0</td>\n",
       "      <td>0.0</td>\n",
       "      <td>0.0</td>\n",
       "      <td>70.0</td>\n",
       "    </tr>\n",
       "    <tr>\n",
       "      <th>1870</th>\n",
       "      <td>1401</td>\n",
       "      <td>2018-12</td>\n",
       "      <td>97.0</td>\n",
       "      <td>635.0</td>\n",
       "      <td>69.0</td>\n",
       "      <td>8407.64</td>\n",
       "      <td>ultimate</td>\n",
       "      <td>0.0</td>\n",
       "      <td>0.0</td>\n",
       "      <td>0.0</td>\n",
       "      <td>70.0</td>\n",
       "    </tr>\n",
       "    <tr>\n",
       "      <th>1967</th>\n",
       "      <td>1420</td>\n",
       "      <td>2018-07</td>\n",
       "      <td>5.0</td>\n",
       "      <td>44.0</td>\n",
       "      <td>0.0</td>\n",
       "      <td>1031.01</td>\n",
       "      <td>ultimate</td>\n",
       "      <td>0.0</td>\n",
       "      <td>0.0</td>\n",
       "      <td>0.0</td>\n",
       "      <td>70.0</td>\n",
       "    </tr>\n",
       "    <tr>\n",
       "      <th>2274</th>\n",
       "      <td>1496</td>\n",
       "      <td>2018-10</td>\n",
       "      <td>46.0</td>\n",
       "      <td>317.0</td>\n",
       "      <td>18.0</td>\n",
       "      <td>14287.36</td>\n",
       "      <td>surf</td>\n",
       "      <td>0.0</td>\n",
       "      <td>0.0</td>\n",
       "      <td>0.0</td>\n",
       "      <td>20.0</td>\n",
       "    </tr>\n",
       "    <tr>\n",
       "      <th>1997</th>\n",
       "      <td>1428</td>\n",
       "      <td>2018-10</td>\n",
       "      <td>29.0</td>\n",
       "      <td>225.0</td>\n",
       "      <td>7.0</td>\n",
       "      <td>2875.72</td>\n",
       "      <td>surf</td>\n",
       "      <td>0.0</td>\n",
       "      <td>0.0</td>\n",
       "      <td>0.0</td>\n",
       "      <td>20.0</td>\n",
       "    </tr>\n",
       "    <tr>\n",
       "      <th>1631</th>\n",
       "      <td>1354</td>\n",
       "      <td>2018-10</td>\n",
       "      <td>72.0</td>\n",
       "      <td>499.0</td>\n",
       "      <td>35.0</td>\n",
       "      <td>17329.45</td>\n",
       "      <td>ultimate</td>\n",
       "      <td>0.0</td>\n",
       "      <td>0.0</td>\n",
       "      <td>0.0</td>\n",
       "      <td>70.0</td>\n",
       "    </tr>\n",
       "  </tbody>\n",
       "</table>\n",
       "</div>"
      ],
      "text/plain": [
       "      user_id    month  total_calls  total_minutes  total_messages  \\\n",
       "947      1196  2018-09         72.0          563.0            29.0   \n",
       "1090     1231  2018-10         74.0          546.0             3.0   \n",
       "1626     1353  2018-10         60.0          497.0             0.0   \n",
       "1112     1236  2018-08         65.0          435.0            36.0   \n",
       "1203     1255  2018-09         74.0          464.0            47.0   \n",
       "1870     1401  2018-12         97.0          635.0            69.0   \n",
       "1967     1420  2018-07          5.0           44.0             0.0   \n",
       "2274     1496  2018-10         46.0          317.0            18.0   \n",
       "1997     1428  2018-10         29.0          225.0             7.0   \n",
       "1631     1354  2018-10         72.0          499.0            35.0   \n",
       "\n",
       "      total_mb_used      plan  minutes_overage  messages_overage  mb_overage  \\\n",
       "947        20113.60  ultimate              0.0               0.0         0.0   \n",
       "1090       16946.96  ultimate              0.0               0.0         0.0   \n",
       "1626       17800.20      surf              0.0               0.0      2441.0   \n",
       "1112       17954.65  ultimate              0.0               0.0         0.0   \n",
       "1203       10052.62  ultimate              0.0               0.0         0.0   \n",
       "1870        8407.64  ultimate              0.0               0.0         0.0   \n",
       "1967        1031.01  ultimate              0.0               0.0         0.0   \n",
       "2274       14287.36      surf              0.0               0.0         0.0   \n",
       "1997        2875.72      surf              0.0               0.0         0.0   \n",
       "1631       17329.45  ultimate              0.0               0.0         0.0   \n",
       "\n",
       "      monthly_revenue  \n",
       "947              70.0  \n",
       "1090             70.0  \n",
       "1626             50.0  \n",
       "1112             70.0  \n",
       "1203             70.0  \n",
       "1870             70.0  \n",
       "1967             70.0  \n",
       "2274             20.0  \n",
       "1997             20.0  \n",
       "1631             70.0  "
      ]
     },
     "metadata": {},
     "output_type": "display_data"
    }
   ],
   "source": [
    "merged_data['minutes_overage'] = merged_data.apply(\n",
    "    lambda row: max(0, row['total_minutes'] - row['minutes_included']), \n",
    "    axis=1\n",
    ")\n",
    "\n",
    "merged_data['messages_overage'] = merged_data.apply(\n",
    "    lambda row: max(0, row['total_messages'] - row['messages_included']), \n",
    "    axis=1\n",
    ")\n",
    "\n",
    "merged_data['mb_overage'] = merged_data.apply(\n",
    "    lambda row: max(0, row['total_mb_used'] - row['mb_per_month_included']), \n",
    "    axis=1\n",
    ")\n",
    "\n",
    "merged_data['monthly_revenue'] = (\n",
    "    (merged_data['minutes_overage'] * merged_data['usd_per_minute']) +\n",
    "    (merged_data['messages_overage'] * merged_data['usd_per_message']) +\n",
    "    (np.ceil(merged_data['mb_overage'] / 1024) * merged_data['usd_per_gb']) +\n",
    "    merged_data['usd_monthly_pay']\n",
    ") \n",
    "\n",
    "final_columns = [\n",
    "    'user_id', 'month', 'total_calls', 'total_minutes',\n",
    "    'total_messages', 'total_mb_used', 'plan',\n",
    "    'minutes_overage', 'messages_overage', 'mb_overage',\n",
    "    'monthly_revenue'\n",
    "]\n",
    "\n",
    "resulting_merged_data = merged_data[final_columns]\n",
    "\n",
    "resulting_merged_data['minutes_overage'] = np.ceil(resulting_merged_data['minutes_overage'])\n",
    "resulting_merged_data['messages_overage'] = np.ceil(resulting_merged_data['messages_overage'])\n",
    "resulting_merged_data['mb_overage'] = np.ceil(resulting_merged_data['mb_overage'])\n",
    "#resulting_merged_data['monthly_revenue'] = np.ceil(resulting_merged_data['monthly_revenue'])\n",
    "\n",
    "\n",
    "print(resulting_merged_data.info())\n",
    "display(resulting_merged_data.sample(10))"
   ]
  },
  {
   "cell_type": "markdown",
   "metadata": {},
   "source": [
    "The code (resulting_merged_data['monthly_revenue'] = np.ceil(resulting_merged_data['monthly_revenue']) previously rounded money amounts to whole dollars, but since this wasn't part of the rounding rules, that line has been commented out. "
   ]
  },
  {
   "cell_type": "code",
   "execution_count": 41,
   "metadata": {},
   "outputs": [
    {
     "data": {
      "text/html": [
       "<div>\n",
       "<style scoped>\n",
       "    .dataframe tbody tr th:only-of-type {\n",
       "        vertical-align: middle;\n",
       "    }\n",
       "\n",
       "    .dataframe tbody tr th {\n",
       "        vertical-align: top;\n",
       "    }\n",
       "\n",
       "    .dataframe thead th {\n",
       "        text-align: right;\n",
       "    }\n",
       "</style>\n",
       "<table border=\"1\" class=\"dataframe\">\n",
       "  <thead>\n",
       "    <tr style=\"text-align: right;\">\n",
       "      <th></th>\n",
       "      <th>user_id</th>\n",
       "      <th>month</th>\n",
       "      <th>total_calls</th>\n",
       "      <th>total_minutes</th>\n",
       "      <th>total_messages</th>\n",
       "      <th>total_mb_used</th>\n",
       "      <th>plan</th>\n",
       "      <th>minutes_overage</th>\n",
       "      <th>messages_overage</th>\n",
       "      <th>mb_overage</th>\n",
       "      <th>monthly_revenue</th>\n",
       "    </tr>\n",
       "  </thead>\n",
       "  <tbody>\n",
       "    <tr>\n",
       "      <th>0</th>\n",
       "      <td>1000</td>\n",
       "      <td>2018-12</td>\n",
       "      <td>16.0</td>\n",
       "      <td>124.0</td>\n",
       "      <td>11.0</td>\n",
       "      <td>1901.47</td>\n",
       "      <td>ultimate</td>\n",
       "      <td>0.0</td>\n",
       "      <td>0.0</td>\n",
       "      <td>0.0</td>\n",
       "      <td>70.00</td>\n",
       "    </tr>\n",
       "    <tr>\n",
       "      <th>1</th>\n",
       "      <td>1001</td>\n",
       "      <td>2018-08</td>\n",
       "      <td>27.0</td>\n",
       "      <td>182.0</td>\n",
       "      <td>30.0</td>\n",
       "      <td>6919.15</td>\n",
       "      <td>surf</td>\n",
       "      <td>0.0</td>\n",
       "      <td>0.0</td>\n",
       "      <td>0.0</td>\n",
       "      <td>20.00</td>\n",
       "    </tr>\n",
       "    <tr>\n",
       "      <th>2</th>\n",
       "      <td>1001</td>\n",
       "      <td>2018-09</td>\n",
       "      <td>49.0</td>\n",
       "      <td>315.0</td>\n",
       "      <td>44.0</td>\n",
       "      <td>13314.82</td>\n",
       "      <td>surf</td>\n",
       "      <td>0.0</td>\n",
       "      <td>0.0</td>\n",
       "      <td>0.0</td>\n",
       "      <td>20.00</td>\n",
       "    </tr>\n",
       "    <tr>\n",
       "      <th>3</th>\n",
       "      <td>1001</td>\n",
       "      <td>2018-10</td>\n",
       "      <td>65.0</td>\n",
       "      <td>393.0</td>\n",
       "      <td>53.0</td>\n",
       "      <td>22330.49</td>\n",
       "      <td>surf</td>\n",
       "      <td>0.0</td>\n",
       "      <td>3.0</td>\n",
       "      <td>6971.0</td>\n",
       "      <td>90.09</td>\n",
       "    </tr>\n",
       "    <tr>\n",
       "      <th>4</th>\n",
       "      <td>1001</td>\n",
       "      <td>2018-11</td>\n",
       "      <td>64.0</td>\n",
       "      <td>426.0</td>\n",
       "      <td>36.0</td>\n",
       "      <td>18504.30</td>\n",
       "      <td>surf</td>\n",
       "      <td>0.0</td>\n",
       "      <td>0.0</td>\n",
       "      <td>3145.0</td>\n",
       "      <td>60.00</td>\n",
       "    </tr>\n",
       "    <tr>\n",
       "      <th>...</th>\n",
       "      <td>...</td>\n",
       "      <td>...</td>\n",
       "      <td>...</td>\n",
       "      <td>...</td>\n",
       "      <td>...</td>\n",
       "      <td>...</td>\n",
       "      <td>...</td>\n",
       "      <td>...</td>\n",
       "      <td>...</td>\n",
       "      <td>...</td>\n",
       "      <td>...</td>\n",
       "    </tr>\n",
       "    <tr>\n",
       "      <th>2288</th>\n",
       "      <td>1498</td>\n",
       "      <td>2018-12</td>\n",
       "      <td>39.0</td>\n",
       "      <td>339.0</td>\n",
       "      <td>0.0</td>\n",
       "      <td>23137.69</td>\n",
       "      <td>surf</td>\n",
       "      <td>0.0</td>\n",
       "      <td>0.0</td>\n",
       "      <td>7778.0</td>\n",
       "      <td>100.00</td>\n",
       "    </tr>\n",
       "    <tr>\n",
       "      <th>2289</th>\n",
       "      <td>1499</td>\n",
       "      <td>2018-09</td>\n",
       "      <td>41.0</td>\n",
       "      <td>346.0</td>\n",
       "      <td>0.0</td>\n",
       "      <td>12984.76</td>\n",
       "      <td>surf</td>\n",
       "      <td>0.0</td>\n",
       "      <td>0.0</td>\n",
       "      <td>0.0</td>\n",
       "      <td>20.00</td>\n",
       "    </tr>\n",
       "    <tr>\n",
       "      <th>2290</th>\n",
       "      <td>1499</td>\n",
       "      <td>2018-10</td>\n",
       "      <td>53.0</td>\n",
       "      <td>385.0</td>\n",
       "      <td>0.0</td>\n",
       "      <td>19492.43</td>\n",
       "      <td>surf</td>\n",
       "      <td>0.0</td>\n",
       "      <td>0.0</td>\n",
       "      <td>4133.0</td>\n",
       "      <td>70.00</td>\n",
       "    </tr>\n",
       "    <tr>\n",
       "      <th>2291</th>\n",
       "      <td>1499</td>\n",
       "      <td>2018-11</td>\n",
       "      <td>45.0</td>\n",
       "      <td>308.0</td>\n",
       "      <td>0.0</td>\n",
       "      <td>16813.83</td>\n",
       "      <td>surf</td>\n",
       "      <td>0.0</td>\n",
       "      <td>0.0</td>\n",
       "      <td>1454.0</td>\n",
       "      <td>40.00</td>\n",
       "    </tr>\n",
       "    <tr>\n",
       "      <th>2292</th>\n",
       "      <td>1499</td>\n",
       "      <td>2018-12</td>\n",
       "      <td>65.0</td>\n",
       "      <td>496.0</td>\n",
       "      <td>0.0</td>\n",
       "      <td>22059.21</td>\n",
       "      <td>surf</td>\n",
       "      <td>0.0</td>\n",
       "      <td>0.0</td>\n",
       "      <td>6700.0</td>\n",
       "      <td>90.00</td>\n",
       "    </tr>\n",
       "  </tbody>\n",
       "</table>\n",
       "<p>2293 rows × 11 columns</p>\n",
       "</div>"
      ],
      "text/plain": [
       "      user_id    month  total_calls  total_minutes  total_messages  \\\n",
       "0        1000  2018-12         16.0          124.0            11.0   \n",
       "1        1001  2018-08         27.0          182.0            30.0   \n",
       "2        1001  2018-09         49.0          315.0            44.0   \n",
       "3        1001  2018-10         65.0          393.0            53.0   \n",
       "4        1001  2018-11         64.0          426.0            36.0   \n",
       "...       ...      ...          ...            ...             ...   \n",
       "2288     1498  2018-12         39.0          339.0             0.0   \n",
       "2289     1499  2018-09         41.0          346.0             0.0   \n",
       "2290     1499  2018-10         53.0          385.0             0.0   \n",
       "2291     1499  2018-11         45.0          308.0             0.0   \n",
       "2292     1499  2018-12         65.0          496.0             0.0   \n",
       "\n",
       "      total_mb_used      plan  minutes_overage  messages_overage  mb_overage  \\\n",
       "0           1901.47  ultimate              0.0               0.0         0.0   \n",
       "1           6919.15      surf              0.0               0.0         0.0   \n",
       "2          13314.82      surf              0.0               0.0         0.0   \n",
       "3          22330.49      surf              0.0               3.0      6971.0   \n",
       "4          18504.30      surf              0.0               0.0      3145.0   \n",
       "...             ...       ...              ...               ...         ...   \n",
       "2288       23137.69      surf              0.0               0.0      7778.0   \n",
       "2289       12984.76      surf              0.0               0.0         0.0   \n",
       "2290       19492.43      surf              0.0               0.0      4133.0   \n",
       "2291       16813.83      surf              0.0               0.0      1454.0   \n",
       "2292       22059.21      surf              0.0               0.0      6700.0   \n",
       "\n",
       "      monthly_revenue  \n",
       "0               70.00  \n",
       "1               20.00  \n",
       "2               20.00  \n",
       "3               90.09  \n",
       "4               60.00  \n",
       "...               ...  \n",
       "2288           100.00  \n",
       "2289            20.00  \n",
       "2290            70.00  \n",
       "2291            40.00  \n",
       "2292            90.00  \n",
       "\n",
       "[2293 rows x 11 columns]"
      ]
     },
     "execution_count": 41,
     "metadata": {},
     "output_type": "execute_result"
    }
   ],
   "source": [
    "resulting_merged_data\n",
    "#reviewers code"
   ]
  },
  {
   "cell_type": "markdown",
   "metadata": {},
   "source": [
    "## <center>Section Five</center>\n",
    "\n",
    "**Descriptive Analytics**\n",
    "\n",
    "Study User Behavior\n",
    "\n",
    "Calculate some useful descriptive statistics for the aggregated and merged data, which typically reveal an overall picture captured by the data. Draw useful plots to help the understanding. Given that the main task is to compare the plans and decide on which one is more profitable, the statistics and the plots should be calculated on a per-plan basis.\n",
    "\n",
    "- There are relevant hints in the comments for Calls but they are not provided for Messages and Internet though the principle of statistical study is the same for them as for Calls.\n",
    "\n",
    "- 5.1 Calls Dataframe"
   ]
  },
  {
   "cell_type": "markdown",
   "metadata": {},
   "source": [
    "**Compare average duration of calls per each plan per each distinct month. Plot a bar plat to visualize it.**"
   ]
  },
  {
   "cell_type": "code",
   "execution_count": 42,
   "metadata": {},
   "outputs": [
    {
     "data": {
      "image/png": "[encoded data removed]",
      "text/plain": [
       "<Figure size 1200x600 with 1 Axes>"
      ]
     },
     "metadata": {},
     "output_type": "display_data"
    }
   ],
   "source": [
    "average_minutes = resulting_merged_data.groupby(['plan', 'month'])['total_minutes'].mean().reset_index()\n",
    "\n",
    "#plt.figure(figsize=(10, 6))\n",
    "\n",
    "\n",
    "#plt.bar(range(len(average_minutes)), average_minutes['total_minutes'])\n",
    "\n",
    "#average_minutes['labels'] = average_minutes['plan'] + \" - \" + average_minutes['month']\n",
    "\n",
    "#plt.xticks(range(len(average_minutes)), average_minutes['labels'], rotation=45)\n",
    "\n",
    "#plt.title('Average Call Minutes by Plan and Month')\n",
    "#plt.xlabel('Plan and Month')\n",
    "#plt.ylabel('Average Minutes')\n",
    "\n",
    "#plt.grid(True, axis='y', linestyle='--', alpha=0.7)\n",
    "\n",
    "#plt.show()\n",
    "\n",
    "\n",
    "plt.figure(figsize=(12, 6))\n",
    "\n",
    "surf_data = average_minutes[average_minutes['plan'] == 'surf'] \n",
    "ultimate_data = average_minutes[average_minutes['plan'] == 'ultimate']\n",
    "\n",
    "width = 0.35\n",
    "\n",
    "\n",
    "plt.bar(range(len(surf_data)), surf_data['total_minutes'], width,\n",
    "        label='Surf Plan', color='skyblue')\n",
    "\n",
    "plt.bar(range(len(ultimate_data)), ultimate_data['total_minutes'], width,\n",
    "        label='Ultimate Plan', color='navy')\n",
    "\n",
    "plt.title('Average Call Minutes by Plan and Month') \n",
    "plt.xlabel('Month') \n",
    "plt.ylabel('Average Minutes')\n",
    "\n",
    "plt.xticks(range(12), ['Jan', 'Feb', 'Mar', 'Apr', 'May', 'Jun',\n",
    "                       'Jul', 'Aug', 'Sep', 'Oct', 'Nov', 'Dec'],\n",
    "           rotation=45)\n",
    "\n",
    "\n",
    "plt.legend()\n",
    "\n",
    "plt.grid(True, axis='y', linestyle='--', alpha=0.7)\n",
    "\n",
    "plt.show()"
   ]
  },
  {
   "cell_type": "markdown",
   "metadata": {},
   "source": [
    "**Average Call Minutes by Plan and Month Overview**\n",
    "\n",
    "<u>Pattern</u>: Both subscription plans show a consistent upward trajectory in usage throughout the year, beginning at approximately 200 minutes in January and climbing to over 400 minutes by December. The Ultimate Plan represents the dominant share of overall usage minutes, while the Surf Plan makes only a modest contribution, particularly during the first few months of the year.\n",
    "\n",
    "<u>Comparison</u>: The Ultimate Plan consistently comprises the larger portion of total call minutes each month, with the Surf Plan accounting for a smaller percentage. Surf Plan usage generally remains under 100 minutes for the majority of the year, with only slight increases during June and July. This pattern suggests that Surf Plan subscribers typically consume fewer call minutes than those with the Ultimate Plan.\n",
    "\n",
    "<u>Key Trends</u>: Call minute usage demonstrates a gradual but steady increase across the year, with a notable uptick beginning in February and reaching its highest levels from September through December. Despite this overall growth pattern, subscribers to both plans continue to utilize significantly less than their allocated minutes reserves, which may indicate a preference for alternative communication channels. The visual representations that follow will provide additional context and insights."
   ]
  },
  {
   "cell_type": "markdown",
   "metadata": {},
   "source": [
    "**Compare the number of minutes users of each plan require each month. Plot a histogram.**"
   ]
  },
  {
   "cell_type": "code",
   "execution_count": 43,
   "metadata": {},
   "outputs": [
    {
     "data": {
      "image/png": "[encoded data removed]",
      "text/plain": [
       "<Figure size 1000x600 with 1 Axes>"
      ]
     },
     "metadata": {},
     "output_type": "display_data"
    }
   ],
   "source": [
    "plt.figure(figsize=(10, 6))\n",
    "\n",
    "plans = resulting_merged_data['plan'].unique()\n",
    "\n",
    "for plan in plans:\n",
    "     \n",
    "    plan_minutes = resulting_merged_data[resulting_merged_data['plan'] == plan]['total_minutes']\n",
    "    \n",
    "    plt.hist(plan_minutes, alpha=0.5, label=plan, bins=20)\n",
    "\n",
    "plt.title('Distribution of Minutes Used by Plan') \n",
    "plt.xlabel('Number of Minutes') \n",
    "plt.ylabel('Number of Users')\n",
    "\n",
    "plt.legend()\n",
    "\n",
    "plt.show()"
   ]
  },
  {
   "cell_type": "markdown",
   "metadata": {},
   "source": [
    "**Distribution of Minutes Used by Plan Overview**\n",
    "\n",
    "<u>Pattern:</u><br>\n",
    "Both Ultimate and Surf plans have a high concentration of low-minute users, with usage steadily declining as minutes increase. The distribution is right-skewed for both plans, meaning that while most users consume fewer minutes, there are a few high-minute users extending past 1,400 minutes. The Surf plan has more users overall, making its distribution appear broader, but both plans exhibit similar usage variability.\n",
    "\n",
    "<u>Comparison:</u><br>\n",
    "The overall usage pattern is similar between the two plans, with both Ultimate and Surf showing a majority of users consuming under 200 minutes and a gradual decline as usage increases. Surf has a larger user base across various usage levels, but Ultimate users exhibit the same right-skewed pattern, with a few extreme high-minute users nearing 1,400 minutes, while some Surf users exceed this number. This suggests that both plans support a mix of light, moderate, and heavy callers, though Surf has a higher total user base.\n",
    "\n",
    "<u>Key Trends:</u><br>\n",
    "- Both plans have a majority of low-minute users, with usage peaking below 200 minutes.\n",
    "- The number of users declines steadily as call minutes increase, reinforcing the right-skewed nature of the data.\n",
    "- Despite high-minute users, most users remain well below their available minutes, suggesting potential reliance on alternative communication methods."
   ]
  },
  {
   "cell_type": "markdown",
   "metadata": {},
   "source": [
    "**Calculate the mean and the variable of the call duration to reason on whether users on the different plans have different behaviours for their calls.**\n",
    "\n",
    "**Calculate the mean and the variance of the monthly call duration**"
   ]
  },
  {
   "cell_type": "code",
   "execution_count": 44,
   "metadata": {},
   "outputs": [
    {
     "data": {
      "text/plain": [
       "'\\nCall Duration Statistics by Plan:'"
      ]
     },
     "metadata": {},
     "output_type": "display_data"
    },
    {
     "data": {
      "text/plain": [
       "'--------------------------------'"
      ]
     },
     "metadata": {},
     "output_type": "display_data"
    },
    {
     "data": {
      "text/html": [
       "<div>\n",
       "<style scoped>\n",
       "    .dataframe tbody tr th:only-of-type {\n",
       "        vertical-align: middle;\n",
       "    }\n",
       "\n",
       "    .dataframe tbody tr th {\n",
       "        vertical-align: top;\n",
       "    }\n",
       "\n",
       "    .dataframe thead th {\n",
       "        text-align: right;\n",
       "    }\n",
       "</style>\n",
       "<table border=\"1\" class=\"dataframe\">\n",
       "  <thead>\n",
       "    <tr style=\"text-align: right;\">\n",
       "      <th></th>\n",
       "      <th>Average Minutes</th>\n",
       "      <th>Variance in Minutes</th>\n",
       "      <th>Standard Deviation in Minutes</th>\n",
       "    </tr>\n",
       "    <tr>\n",
       "      <th>plan</th>\n",
       "      <th></th>\n",
       "      <th></th>\n",
       "      <th></th>\n",
       "    </tr>\n",
       "  </thead>\n",
       "  <tbody>\n",
       "    <tr>\n",
       "      <th>surf</th>\n",
       "      <td>428.75</td>\n",
       "      <td>54968.28</td>\n",
       "      <td>234.45</td>\n",
       "    </tr>\n",
       "    <tr>\n",
       "      <th>ultimate</th>\n",
       "      <td>430.45</td>\n",
       "      <td>57844.46</td>\n",
       "      <td>240.51</td>\n",
       "    </tr>\n",
       "  </tbody>\n",
       "</table>\n",
       "</div>"
      ],
      "text/plain": [
       "          Average Minutes  Variance in Minutes  Standard Deviation in Minutes\n",
       "plan                                                                         \n",
       "surf               428.75             54968.28                         234.45\n",
       "ultimate           430.45             57844.46                         240.51"
      ]
     },
     "metadata": {},
     "output_type": "display_data"
    }
   ],
   "source": [
    "monthly_plan_stats = resulting_merged_data.groupby('plan').agg({ 'total_minutes': ['mean', 'var', 'std'] }).round(2)\n",
    "\n",
    "monthly_plan_stats.columns = ['Average Minutes', 'Variance in Minutes', 'Standard Deviation in Minutes']\n",
    "\n",
    "display(\"\\nCall Duration Statistics by Plan:\") \n",
    "display(\"--------------------------------\") \n",
    "display(monthly_plan_stats)"
   ]
  },
  {
   "cell_type": "markdown",
   "metadata": {},
   "source": [
    "## <center>Average Minutes and Variance in Minutes</center>\n",
    "\n",
    "The histograms for both Surf and Ultimate plans share a similar shape due to their comparable average call durations. However, the histograms' extended tails are caused by the high variance and standard deviation, which demonstrate a wide range of customer call usage."
   ]
  },
  {
   "cell_type": "markdown",
   "metadata": {},
   "source": [
    "**Plot a boxplot to visualize the distribution of the monthly call duration**"
   ]
  },
  {
   "cell_type": "code",
   "execution_count": 45,
   "metadata": {},
   "outputs": [
    {
     "name": "stderr",
     "output_type": "stream",
     "text": [
      "C:\\Users\\bijan\\AppData\\Local\\Temp\\ipykernel_2888\\3495425245.py:3: MatplotlibDeprecationWarning: The 'labels' parameter of boxplot() has been renamed 'tick_labels' since Matplotlib 3.9; support for the old name will be dropped in 3.11.\n",
      "  plt.boxplot([\n"
     ]
    },
    {
     "data": {
      "text/plain": [
       "Text(0, 0.5, 'Minutes')"
      ]
     },
     "execution_count": 45,
     "metadata": {},
     "output_type": "execute_result"
    },
    {
     "data": {
      "image/png": "[encoded data removed]",
      "text/plain": [
       "<Figure size 1000x600 with 1 Axes>"
      ]
     },
     "metadata": {},
     "output_type": "display_data"
    }
   ],
   "source": [
    "plt.figure(figsize=(10, 6))\n",
    "\n",
    "plt.boxplot([\n",
    "   resulting_merged_data[resulting_merged_data['plan'] == plan]['total_minutes']\n",
    "   for plan in resulting_merged_data['plan'].unique()\n",
    "], labels=resulting_merged_data['plan'].unique())\n",
    "\n",
    "plt.title('Distribution of Monthly Call Duration by Plan') \n",
    "plt.xlabel('Plan') \n",
    "plt.ylabel('Minutes')"
   ]
  },
  {
   "cell_type": "markdown",
   "metadata": {},
   "source": [
    "**Formulate conclusions on how the users behave in terms of calling. Is their behaviour different between the plans?**"
   ]
  },
  {
   "cell_type": "markdown",
   "metadata": {},
   "source": [
    "**Distribution of Monthly Call Duration by Plan Overview**\n",
    "\n",
    "<u>Pattern:</u><br>\n",
    "The call duration patterns are nearly identical between the Ultimate and Surf plans, as indicated by their similar box plots. Most customers use between 200-600 minutes per month, with the median usage falling around 400 minutes for both plans. The distribution is right-skewed, meaning most users consume fewer minutes, while a few high-usage outliers extend well beyond the typical range.\n",
    "\n",
    "<u>Comparison:</u><br>\n",
    "Both plans show a majority of users clustered within the interquartile range (Q1 to Q3), spanning approximately 200 to 600 minutes. However, both Ultimate and Surf have power users who significantly exceed typical usage. The Ultimate plan shows some users reaching 1,300 minutes, while the Surf plan extends slightly beyond 1,400 minutes.These outliers, (which lie above the top whisker, marking the upper boundary of the defined range) suggest that a small number of users make substantially more calls than the majority.\n",
    "\n",
    "<u>Key Trends:</u><br>\n",
    "- Most users fall between 200-600 minutes of monthly usage, with a median around 400 minutes.\n",
    "- Call duration distribution is right-skewed, meaning a few users make significantly more calls than the majority.\n",
    "- Both plans have extreme outliers, with some users surpassing 1,000–1,400 minutes per month.\n",
    "- Despite these power users, most customers remain well below their available call limits, implying potential reliance on alternative communication methods."
   ]
  },
  {
   "cell_type": "markdown",
   "metadata": {},
   "source": [
    "**Messages - Compare the number of messages users of each plan tend to send each month.<br>\n",
    "- Creating a histogram, as done for the previous dataframe, for consistency."
   ]
  },
  {
   "cell_type": "code",
   "execution_count": 46,
   "metadata": {},
   "outputs": [
    {
     "data": {
      "image/png": "[encoded data removed]",
      "text/plain": [
       "<Figure size 1000x600 with 1 Axes>"
      ]
     },
     "metadata": {},
     "output_type": "display_data"
    }
   ],
   "source": [
    "plt.figure(figsize=(10, 6))\n",
    "\n",
    "plans = resulting_merged_data['plan'].unique()\n",
    "\n",
    "for plan in plans:\n",
    "    \n",
    "    plan_messages = resulting_merged_data[resulting_merged_data['plan'] == plan]['total_messages']\n",
    "    \n",
    "    plt.hist(plan_messages, alpha=0.5, label=plan, bins=20)\n",
    "\n",
    "plt.title('Distribution of Messages Sent by Plan') \n",
    "plt.xlabel('Number of Messages') \n",
    "plt.ylabel('Number of Users')\n",
    "\n",
    "plt.legend()\n",
    "\n",
    "plt.show()"
   ]
  },
  {
   "cell_type": "markdown",
   "metadata": {},
   "source": [
    "**Distribution of Messages Sent by Plan Overview**\n",
    "\n",
    "<u>Pattern:</u><br>\n",
    "The message distribution for both plans is right-skewed, with most users sending very few messages, clustering near zero. The number of users drops sharply as message counts increase.\n",
    "\n",
    "<u>Comparison:</u><br>\n",
    "The Surf plan (orange) has more users overall, especially among those who send no messages. However, both plans follow a similar pattern, with the majority of users sending between 0 and ~40 messages. The distribution gradually thins out beyond 50 messages, with very few users exceeding 100 messages.\n",
    "\n",
    "<u>Key Trends:</u> \n",
    "- Most users send fewer than 10 messages, and a sharp decline follows as message counts rise.\n",
    "- Around half of users send up to ~30–40 messages.\n",
    "- Only about 10% send up to 110 messages, and fewer than 5% send between 150–160 messages.\n",
    "- Users sending more than 175 messages are extremely rare, making them notable outliers.\n"
   ]
  },
  {
   "cell_type": "markdown",
   "metadata": {},
   "source": [
    "**Compare the amount of internet traffic consumed by users per plan**"
   ]
  },
  {
   "cell_type": "code",
   "execution_count": 47,
   "metadata": {},
   "outputs": [
    {
     "data": {
      "image/png": "[encoded data removed]",
      "text/plain": [
       "<Figure size 1200x600 with 1 Axes>"
      ]
     },
     "metadata": {},
     "output_type": "display_data"
    }
   ],
   "source": [
    "average_internet = resulting_merged_data.groupby(['plan', 'month'])['total_mb_used'].mean().reset_index()\n",
    "\n",
    "average_internet['total_gb_used'] = average_internet['total_mb_used'] / 1024\n",
    "\n",
    "#plt.figure(figsize=(10, 6))\n",
    "\n",
    "#plt.bar(range(len(average_internet)), average_internet['total_gb_used'])\n",
    "\n",
    "#average_internet['labels'] = average_internet['plan'] + \" - \" + average_internet['month']\n",
    "\n",
    "#plt.xticks(range(len(average_internet)), average_internet['labels'], rotation=45)\n",
    "\n",
    "#plt.title('Average Internet Usage (GB) by Plan and Month')\n",
    "#plt.xlabel('Plan and Month')\n",
    "#plt.ylabel('Average Usage (GB)')\n",
    "\n",
    "#plt.grid(True, axis='y', linestyle='--', alpha=0.7)\n",
    "\n",
    "#plt.show()\n",
    "\n",
    "\n",
    "\n",
    "plt.figure(figsize=(12, 6))\n",
    "\n",
    "surf_data = average_internet[average_internet['plan'] == 'surf'] \n",
    "ultimate_data = average_internet[average_internet['plan'] == 'ultimate']\n",
    "\n",
    "width = 0.35\n",
    "\n",
    "\n",
    "plt.bar(range(len(surf_data)), surf_data['total_gb_used'], width,\n",
    "        label='Surf Plan', color='skyblue')\n",
    "\n",
    "plt.bar(range(len(ultimate_data)), ultimate_data['total_gb_used'], width,\n",
    "        label='Ultimate Plan', color='navy')\n",
    "\n",
    "plt.title('Average Internet Usage (GB) by Plan and Month') \n",
    "plt.xlabel('Month') \n",
    "plt.ylabel('Average Usage (GB)')\n",
    "\n",
    "plt.xticks(range(12), ['Jan', 'Feb', 'Mar', 'Apr', 'May', 'Jun',\n",
    "                       'Jul', 'Aug', 'Sep', 'Oct', 'Nov', 'Dec'],\n",
    "           rotation=45)\n",
    "\n",
    "\n",
    "plt.legend()\n",
    "\n",
    "plt.grid(True, axis='y', linestyle='--', alpha=0.7)\n",
    "\n",
    "plt.show()"
   ]
  },
  {
   "cell_type": "markdown",
   "metadata": {},
   "source": [
    "**Average Internet Usage (GB) by Plan and Month Overview**\n",
    "\n",
    "<u>Pattern:</u><br>\n",
    "Internet usage increased throughout the year, starting at around 7 GB in January and peaking at over 17.5 GB in March and December. From February to December, Ultimate users maintained a minimum average usage of approximately 15 GB per month. Surf users show very minimal usage, with less than 1 GB recorded in July.\n",
    "\n",
    "<u>Comparisons:</u><br>\n",
    "The graph compares two plans: Surf Plan (light blue) and Ultimate Plan (dark blue). The Ultimate Plan dominates the graph, consistently registering significant usage, while the Surf Plan barely appears, suggesting it may be a newer plan or used by fewer customers.\n",
    "\n",
    "<u>Key Trends:</u><br>\n",
    "- Internet usage increased steadily throughout the year, with a notable rise after June.\n",
    "- The largest jump occurred between November (~15.5 GB) and December (~17.5 GB).\n",
    "- Ultimate users never exceeded their 30 GB data allowance, while Surf users remained well below their 15 GB limit.\n",
    "- Surf users' low contribution, especially in July (< 1.0 GB), highlights a significant difference in data consumption patterns between plans."
   ]
  },
  {
   "cell_type": "markdown",
   "metadata": {},
   "source": [
    "**Added to align with the Calls asignment. Calculate the mean and variance of monthly messages per plan**"
   ]
  },
  {
   "cell_type": "code",
   "execution_count": 48,
   "metadata": {},
   "outputs": [
    {
     "data": {
      "text/plain": [
       "'\\nMessage Count Statistics by Plan:'"
      ]
     },
     "metadata": {},
     "output_type": "display_data"
    },
    {
     "data": {
      "text/plain": [
       "'--------------------------------'"
      ]
     },
     "metadata": {},
     "output_type": "display_data"
    },
    {
     "data": {
      "text/html": [
       "<div>\n",
       "<style scoped>\n",
       "    .dataframe tbody tr th:only-of-type {\n",
       "        vertical-align: middle;\n",
       "    }\n",
       "\n",
       "    .dataframe tbody tr th {\n",
       "        vertical-align: top;\n",
       "    }\n",
       "\n",
       "    .dataframe thead th {\n",
       "        text-align: right;\n",
       "    }\n",
       "</style>\n",
       "<table border=\"1\" class=\"dataframe\">\n",
       "  <thead>\n",
       "    <tr style=\"text-align: right;\">\n",
       "      <th></th>\n",
       "      <th>Average Messages</th>\n",
       "      <th>Variance in Messages</th>\n",
       "      <th>Standard Deviation in Messages</th>\n",
       "    </tr>\n",
       "    <tr>\n",
       "      <th>plan</th>\n",
       "      <th></th>\n",
       "      <th></th>\n",
       "      <th></th>\n",
       "    </tr>\n",
       "  </thead>\n",
       "  <tbody>\n",
       "    <tr>\n",
       "      <th>surf</th>\n",
       "      <td>31.16</td>\n",
       "      <td>1126.72</td>\n",
       "      <td>33.57</td>\n",
       "    </tr>\n",
       "    <tr>\n",
       "      <th>ultimate</th>\n",
       "      <td>37.55</td>\n",
       "      <td>1208.76</td>\n",
       "      <td>34.77</td>\n",
       "    </tr>\n",
       "  </tbody>\n",
       "</table>\n",
       "</div>"
      ],
      "text/plain": [
       "          Average Messages  Variance in Messages  \\\n",
       "plan                                               \n",
       "surf                 31.16               1126.72   \n",
       "ultimate             37.55               1208.76   \n",
       "\n",
       "          Standard Deviation in Messages  \n",
       "plan                                      \n",
       "surf                               33.57  \n",
       "ultimate                           34.77  "
      ]
     },
     "metadata": {},
     "output_type": "display_data"
    }
   ],
   "source": [
    "monthly_messages_stats = resulting_merged_data.groupby('plan').agg({ 'total_messages': ['mean', 'var', 'std'] }).round(2)\n",
    "\n",
    "monthly_messages_stats.columns = ['Average Messages', 'Variance in Messages', 'Standard Deviation in Messages']\n",
    "\n",
    "display(\"\\nMessage Count Statistics by Plan:\") \n",
    "display(\"--------------------------------\") \n",
    "display(monthly_messages_stats)"
   ]
  },
  {
   "cell_type": "markdown",
   "metadata": {},
   "source": [
    "## <center>Average Messages and Variance in Messages</center>\n",
    "\n",
    "Both plans show similar message numbers on average, with Surf users sending about 31 messages and Ultimate users sending about 38. The high variance (Surf: ~1127, Ultimate: ~1209) explains the wide spread in message usage seen in the graph, where some users send very few messages while others send significantly more. The large standard deviation (Surf: ~34, Ultimate: ~35) also reinforces why message counts fluctuate so much across users, contributing to the right-skewed distribution observed in the histogram titled, \"Distribution of Messages Sent by Plan\"."
   ]
  },
  {
   "cell_type": "markdown",
   "metadata": {},
   "source": [
    "Added to align with the Calls asignment.Plot a boxplot to visualize the distribution of monthly messages per plan"
   ]
  },
  {
   "cell_type": "code",
   "execution_count": 49,
   "metadata": {},
   "outputs": [
    {
     "name": "stderr",
     "output_type": "stream",
     "text": [
      "C:\\Users\\bijan\\AppData\\Local\\Temp\\ipykernel_2888\\749186863.py:3: MatplotlibDeprecationWarning: The 'labels' parameter of boxplot() has been renamed 'tick_labels' since Matplotlib 3.9; support for the old name will be dropped in 3.11.\n",
      "  plt.boxplot([\n"
     ]
    },
    {
     "data": {
      "image/png": "[encoded data removed]",
      "text/plain": [
       "<Figure size 1000x600 with 1 Axes>"
      ]
     },
     "metadata": {},
     "output_type": "display_data"
    }
   ],
   "source": [
    "plt.figure(figsize=(10, 6))\n",
    "\n",
    "plt.boxplot([\n",
    "   resulting_merged_data[resulting_merged_data['plan'] == plan]['total_messages']\n",
    "   for plan in resulting_merged_data['plan'].unique()\n",
    "], labels=resulting_merged_data['plan'].unique())\n",
    "\n",
    "plt.title('Distribution of Monthly Messages by Plan')\n",
    "plt.xlabel('Plan')\n",
    "plt.ylabel('Number of Messages')\n",
    "\n",
    "plt.grid(True, axis='y', linestyle='--', alpha=0.7)\n",
    "\n",
    "plt.show()"
   ]
  },
  {
   "cell_type": "markdown",
   "metadata": {},
   "source": [
    "**Formulate conclusions on how the users behave in terms of messaging. Is their behaviour different between the plans?**"
   ]
  },
  {
   "cell_type": "markdown",
   "metadata": {},
   "source": [
    "**Distribution of Monthly Messages by Plan Overview**\n",
    "\n",
    "<u>Pattern:</u><br>\n",
    "Most users in both plans send between 0 and 50 messages per month, with the 75th percentile for Ultimate users being just under 55 messages. A small group of users send significantly more messages, with outliers ranging from 140 to 160 messages, and a few Surf users exceeding 250 messages per month.\n",
    "\n",
    "<u>Comparisons:</u><br>\n",
    "Both plans follow a nearly identical distribution in the graph. The boxes (which represent the interquartile range) are similar in size, and the median values are nearly the same for both plans. Additionally, both plans exhibit high-message outliers, reaching similar peaks, with Surf showing slightly more extreme cases above 250 messages.\n",
    "\n",
    "<u>Key Trends:</u><br>\n",
    "- Most users in both plans send relatively few messages, as seen in the compact box sizes at the lower end of the graph.\n",
    "- A small group of users sends significantly more messages, which appears as outliers above the whiskers (ranging from 140 to 160 messages).\n",
    "- Surf users have a few extreme cases exceeding 250 messages, making them the highest message senders in this dataset.\n",
    "- This wide spread between regular and high-message users explains the large variance observed in the earlier table."
   ]
  },
  {
   "cell_type": "markdown",
   "metadata": {},
   "source": [
    " **Internet - Added to align with the Calls assignement. Compare the amount of MB users of each plan consume each month. Plot a histogram.**"
   ]
  },
  {
   "cell_type": "code",
   "execution_count": 50,
   "metadata": {},
   "outputs": [
    {
     "data": {
      "image/png": "[encoded data removed]",
      "text/plain": [
       "<Figure size 1000x600 with 1 Axes>"
      ]
     },
     "metadata": {},
     "output_type": "display_data"
    }
   ],
   "source": [
    "plt.figure(figsize=(10, 6))\n",
    "\n",
    "plans = resulting_merged_data['plan'].unique()\n",
    "\n",
    "for plan in plans:\n",
    "    \n",
    "    plan_mb = resulting_merged_data[resulting_merged_data['plan'] == plan]['total_mb_used']\n",
    "    \n",
    "    plt.hist(plan_mb, alpha=0.5, label=plan, bins=20)\n",
    "\n",
    "plt.title('Distribution of Internet Usage by Plan') \n",
    "plt.xlabel('MB Used') \n",
    "plt.ylabel('Number of Users')\n",
    "\n",
    "plt.legend()\n",
    "\n",
    "plt.show()"
   ]
  },
  {
   "cell_type": "markdown",
   "metadata": {},
   "source": [
    "**Distribution of Internet Usage by Plan Overview**\n",
    "\n",
    "<u>Pattern:</u><br>\n",
    "Both plans show that most users consume relatively small amounts of data, creating a right-skewed distribution. There's a large peak in the lower range (0-5,000 MB), and as data usage increases, fewer users fall into higher consumption brackets. Some outliers exceed 50,000 MB, with a few surpassing 70,000 MB.\n",
    "\n",
    "<u>Comparison:</u><br>\n",
    "The Surf plan (orange) has a higher concentration of low-data users, contributing to the steep left-side peak. The Ultimate plan (blue) includes slightly more users consuming moderate amounts (10,000-30,000 MB). While most users stay below 30,000 MB, a small group of outliers in both plans exceed 50,000 MB, pushing the distribution further to the right.\n",
    "\n",
    "<u>Key Trends:</u><br>\n",
    "- Most users consume either very little data (0-2,500 MB) or moderate amounts (10,000-30,000 MB).\n",
    "- The interquartile range (IQR) falls roughly between 10,000 and 30,000 MB.\n",
    "- Beyond 30,000 MB, user count drops sharply, but a few outliers surpass 50,000 MB and even 70,000 MB.\n",
    "- Despite the presence of high-data users, the majority stay well below their respective plan allowances."
   ]
  },
  {
   "cell_type": "markdown",
   "metadata": {},
   "source": [
    "**Added to align with the Calls assignement. Calculate the mean and the variance of the monthly internet usage (MB).**"
   ]
  },
  {
   "cell_type": "code",
   "execution_count": 51,
   "metadata": {},
   "outputs": [
    {
     "data": {
      "text/plain": [
       "'\\nInternet Usage Statistics by Plan:'"
      ]
     },
     "metadata": {},
     "output_type": "display_data"
    },
    {
     "data": {
      "text/plain": [
       "'--------------------------------'"
      ]
     },
     "metadata": {},
     "output_type": "display_data"
    },
    {
     "data": {
      "text/html": [
       "<div>\n",
       "<style scoped>\n",
       "    .dataframe tbody tr th:only-of-type {\n",
       "        vertical-align: middle;\n",
       "    }\n",
       "\n",
       "    .dataframe tbody tr th {\n",
       "        vertical-align: top;\n",
       "    }\n",
       "\n",
       "    .dataframe thead th {\n",
       "        text-align: right;\n",
       "    }\n",
       "</style>\n",
       "<table border=\"1\" class=\"dataframe\">\n",
       "  <thead>\n",
       "    <tr style=\"text-align: right;\">\n",
       "      <th></th>\n",
       "      <th>Average MB Used</th>\n",
       "      <th>Variance in MB Used</th>\n",
       "      <th>Standard Deviation in MB Used</th>\n",
       "    </tr>\n",
       "    <tr>\n",
       "      <th>plan</th>\n",
       "      <th></th>\n",
       "      <th></th>\n",
       "      <th></th>\n",
       "    </tr>\n",
       "  </thead>\n",
       "  <tbody>\n",
       "    <tr>\n",
       "      <th>surf</th>\n",
       "      <td>16558.28</td>\n",
       "      <td>64216395.84</td>\n",
       "      <td>8013.51</td>\n",
       "    </tr>\n",
       "    <tr>\n",
       "      <th>ultimate</th>\n",
       "      <td>17214.70</td>\n",
       "      <td>61652293.32</td>\n",
       "      <td>7851.90</td>\n",
       "    </tr>\n",
       "  </tbody>\n",
       "</table>\n",
       "</div>"
      ],
      "text/plain": [
       "          Average MB Used  Variance in MB Used  Standard Deviation in MB Used\n",
       "plan                                                                         \n",
       "surf             16558.28          64216395.84                        8013.51\n",
       "ultimate         17214.70          61652293.32                        7851.90"
      ]
     },
     "metadata": {},
     "output_type": "display_data"
    }
   ],
   "source": [
    "monthly_mb_stats = resulting_merged_data.groupby('plan').agg({ 'total_mb_used': ['mean', 'var', 'std'] }).round(2)\n",
    "\n",
    "monthly_mb_stats.columns = ['Average MB Used', 'Variance in MB Used', 'Standard Deviation in MB Used']\n",
    "\n",
    "display(\"\\nInternet Usage Statistics by Plan:\") \n",
    "display(\"--------------------------------\") \n",
    "display(monthly_mb_stats)"
   ]
  },
  {
   "cell_type": "markdown",
   "metadata": {},
   "source": [
    "## <center>Average MB Used and Variance in MB Used</center>\n",
    "\n",
    "Both plans show similar average data usage, with Surf users consuming about 16,558 MB and Ultimate users averaging 17,214 MB. This explains why the distribution shapes look similar for both plans.\n",
    "\n",
    "The high spread in the data is reflected in the large standard deviations (~8,014 MB for Surf and ~7,852 MB for Ultimate). This wide variation in usage explains why some users consume very little data, while others use significantly more, resulting in the right-skewed shape observed in the histogram."
   ]
  },
  {
   "cell_type": "markdown",
   "metadata": {},
   "source": [
    "**Added to align with the Calls assignement. Plot a boxplot to visualize the distribution of the monthly internet usage (MB).**"
   ]
  },
  {
   "cell_type": "code",
   "execution_count": 52,
   "metadata": {},
   "outputs": [
    {
     "name": "stderr",
     "output_type": "stream",
     "text": [
      "C:\\Users\\bijan\\AppData\\Local\\Temp\\ipykernel_2888\\533621478.py:3: MatplotlibDeprecationWarning: The 'labels' parameter of boxplot() has been renamed 'tick_labels' since Matplotlib 3.9; support for the old name will be dropped in 3.11.\n",
      "  plt.boxplot([\n"
     ]
    },
    {
     "data": {
      "image/png": "[encoded data removed]",
      "text/plain": [
       "<Figure size 1000x600 with 1 Axes>"
      ]
     },
     "metadata": {},
     "output_type": "display_data"
    }
   ],
   "source": [
    "plt.figure(figsize=(10, 6))\n",
    "\n",
    "plt.boxplot([\n",
    "   resulting_merged_data[resulting_merged_data['plan'] == plan]['total_mb_used']\n",
    "   for plan in resulting_merged_data['plan'].unique()\n",
    "], labels=resulting_merged_data['plan'].unique())\n",
    "\n",
    "plt.title('Distribution of Monthly Internet Usage by Plan')\n",
    "plt.xlabel('Plan')\n",
    "plt.ylabel('MB Used')\n",
    "\n",
    "plt.grid(True, axis='y', linestyle='--', alpha=0.7)\n",
    "\n",
    "plt.show()"
   ]
  },
  {
   "cell_type": "markdown",
   "metadata": {},
   "source": [
    "**Formulate conclusions on how the users tend to consume the internet traffic? Is their behaviour different between the plans?**"
   ]
  },
  {
   "cell_type": "markdown",
   "metadata": {},
   "source": [
    "**Distribution of Monthly Inernet Usage by Plan Overview**\n",
    "\n",
    "<u>Pattern:</u><br>\n",
    "The box plots for both Ultimate and Surf plans show very similar patterns in data usage. The median values (shown by the orange lines inside the boxes) are almost identical, and the interquartile range (IQR, represented by the box size) is similar for both plans. Additionally, both plans have a notable number of high-data users (represented by the dots above the whiskers), indicating significant outliers who consume much more data than typical users.\n",
    "\n",
    "<u>Comparison:</u><br>\n",
    "For both plans, most users consume between approximately 5,000 and 30,000 MB of data. The middle 50% (IQR) of users fall between roughly 10,000 and 25,000 MB, aligning with the average MB usage seen earlier (~16,558 MB for Surf, ~17,214 MB for Ultimate). While both plans have similar distributions, the Ultimate plan shows slightly higher data usage at the upper ranges.\n",
    "\n",
    "<u>Key Trends:</u><br>\n",
    "- Both plans exhibit a right-skewed distribution, with most users falling well below 30,000 MB.\n",
    "- High-data users (shown as dots above the boxes) exceed 50,000 MB, with some surpassing 70,000 MB.\n",
    "- The number of extreme outliers is comparable between the two plans, reinforcing similar data usage patterns.\n",
    "- Despite the presence of high-data users, the majority of users remain well below their data allowance."
   ]
  },
  {
   "cell_type": "markdown",
   "metadata": {},
   "source": [
    "**Revenue - Likewise you have studied the user behaviour, statistically describe the revenue between the plans.**\n",
    "\n",
    "**Revenue description Statistically:**"
   ]
  },
  {
   "cell_type": "code",
   "execution_count": 53,
   "metadata": {},
   "outputs": [
    {
     "name": "stdout",
     "output_type": "stream",
     "text": [
      "Basic Statistics by Plan:\n"
     ]
    },
    {
     "data": {
      "text/html": [
       "<div>\n",
       "<style scoped>\n",
       "    .dataframe tbody tr th:only-of-type {\n",
       "        vertical-align: middle;\n",
       "    }\n",
       "\n",
       "    .dataframe tbody tr th {\n",
       "        vertical-align: top;\n",
       "    }\n",
       "\n",
       "    .dataframe thead th {\n",
       "        text-align: right;\n",
       "    }\n",
       "</style>\n",
       "<table border=\"1\" class=\"dataframe\">\n",
       "  <thead>\n",
       "    <tr style=\"text-align: right;\">\n",
       "      <th></th>\n",
       "      <th>count</th>\n",
       "      <th>mean</th>\n",
       "      <th>std</th>\n",
       "      <th>min</th>\n",
       "      <th>25%</th>\n",
       "      <th>50%</th>\n",
       "      <th>75%</th>\n",
       "      <th>max</th>\n",
       "    </tr>\n",
       "    <tr>\n",
       "      <th>plan</th>\n",
       "      <th></th>\n",
       "      <th></th>\n",
       "      <th></th>\n",
       "      <th></th>\n",
       "      <th></th>\n",
       "      <th></th>\n",
       "      <th></th>\n",
       "      <th></th>\n",
       "    </tr>\n",
       "  </thead>\n",
       "  <tbody>\n",
       "    <tr>\n",
       "      <th>surf</th>\n",
       "      <td>1573.0</td>\n",
       "      <td>60.706408</td>\n",
       "      <td>55.388042</td>\n",
       "      <td>20.0</td>\n",
       "      <td>20.0</td>\n",
       "      <td>40.36</td>\n",
       "      <td>80.36</td>\n",
       "      <td>590.37</td>\n",
       "    </tr>\n",
       "    <tr>\n",
       "      <th>ultimate</th>\n",
       "      <td>720.0</td>\n",
       "      <td>72.313889</td>\n",
       "      <td>11.395108</td>\n",
       "      <td>70.0</td>\n",
       "      <td>70.0</td>\n",
       "      <td>70.00</td>\n",
       "      <td>70.00</td>\n",
       "      <td>182.00</td>\n",
       "    </tr>\n",
       "  </tbody>\n",
       "</table>\n",
       "</div>"
      ],
      "text/plain": [
       "           count       mean        std   min   25%    50%    75%     max\n",
       "plan                                                                    \n",
       "surf      1573.0  60.706408  55.388042  20.0  20.0  40.36  80.36  590.37\n",
       "ultimate   720.0  72.313889  11.395108  70.0  70.0  70.00  70.00  182.00"
      ]
     },
     "metadata": {},
     "output_type": "display_data"
    }
   ],
   "source": [
    "plan_revenue = resulting_merged_data.groupby('plan')['monthly_revenue'].describe()\n",
    "\n",
    "print(\"Basic Statistics by Plan:\")\n",
    "display(plan_revenue)"
   ]
  },
  {
   "cell_type": "markdown",
   "metadata": {},
   "source": [
    "**Calculating the Average Revenue:**"
   ]
  },
  {
   "cell_type": "code",
   "execution_count": 54,
   "metadata": {},
   "outputs": [
    {
     "name": "stdout",
     "output_type": "stream",
     "text": [
      "\n",
      "Average Revenue by Plan:\n"
     ]
    },
    {
     "data": {
      "text/plain": [
       "plan\n",
       "surf        60.706408\n",
       "ultimate    72.313889\n",
       "Name: monthly_revenue, dtype: float64"
      ]
     },
     "metadata": {},
     "output_type": "display_data"
    }
   ],
   "source": [
    "grouped_by_plan = resulting_merged_data.groupby('plan')\n",
    "\n",
    "avg_revenue = grouped_by_plan['monthly_revenue'].mean()\n",
    "\n",
    "print(\"\\nAverage Revenue by Plan:\") \n",
    "display(avg_revenue)"
   ]
  },
  {
   "cell_type": "markdown",
   "metadata": {},
   "source": [
    "**Boxplot to visualize the distribution:**"
   ]
  },
  {
   "cell_type": "code",
   "execution_count": 55,
   "metadata": {},
   "outputs": [
    {
     "data": {
      "text/plain": [
       "<Figure size 1000x600 with 0 Axes>"
      ]
     },
     "metadata": {},
     "output_type": "display_data"
    },
    {
     "data": {
      "image/png": "[encoded data removed]",
      "text/plain": [
       "<Figure size 640x480 with 1 Axes>"
      ]
     },
     "metadata": {},
     "output_type": "display_data"
    }
   ],
   "source": [
    "plt.figure(figsize=(10, 6)) \n",
    "resulting_merged_data.boxplot(column='monthly_revenue', by='plan') \n",
    "plt.title('Revenue Distribution by Plan') \n",
    "plt.ylabel('Monthly Revenue (USD)') \n",
    "plt.xticks(rotation=45) \n",
    "plt.show()"
   ]
  },
  {
   "cell_type": "markdown",
   "metadata": {},
   "source": [
    "**Formulate conclusions about how the revenue differs between the plans.**"
   ]
  },
  {
   "cell_type": "markdown",
   "metadata": {},
   "source": [
    "<u>Ultimate Plan:</u>\n",
    "- Starts at a higher minimum ($70)<br>\n",
    "  - Revenue stays more steady with less fluctuation<br>\n",
    "  - Has fewer extreme high amounts (fewer outliers)<br>\n",
    "\n",
    "<u>Surf Plan:</u>\n",
    "- Starts at a lower minimum ($20)\n",
    "  - Revenue varies significantly with more fluctuations\n",
    "  - Has many unusually high amounts (more extreme outliers)\n",
    "\n",
    "<u>Key Differences:</u>\n",
    "- The Ultimate plan is more reliable, with revenue never dropping below $70, which is 3.5 times higher than Surf's monthly plan of $20. \n",
    "\n",
    "- While Surf's revenue fluctuates more, it occasionally spikes to very high amounts from certain customers due to overage charges."
   ]
  },
  {
   "cell_type": "markdown",
   "metadata": {},
   "source": [
    "Test Statistical Hypotheses - Test the hypothesis that the average revenue from users of the Ultimate and Surf calling plans differs.]"
   ]
  },
  {
   "cell_type": "markdown",
   "metadata": {},
   "source": [
    "**Formulate the null and the alternative hypotheses, choose the statistical test, decide on the alpha value.**"
   ]
  },
  {
   "cell_type": "markdown",
   "metadata": {},
   "source": [
    "The Ultimate vs Surf Plans Revenue Comparison\n",
    "Null Hypothesis (H₀): There is no difference in the average revenue from users of the Ultimate and Surf calling plans, H₀: μ₁ = μ₂.\n",
    "\n",
    "Alternate Hypothesis (H₁):There is a difference in the average revenue from users of the Ultimate and Surf calling plans, H₁: μ₁ ≠ μ₂."
   ]
  },
  {
   "cell_type": "markdown",
   "metadata": {},
   "source": [
    "**Test the hypotheses**"
   ]
  },
  {
   "cell_type": "code",
   "execution_count": 56,
   "metadata": {},
   "outputs": [
    {
     "data": {
      "text/plain": [
       "'T-test Results:'"
      ]
     },
     "metadata": {},
     "output_type": "display_data"
    },
    {
     "data": {
      "text/plain": [
       "'t-statistic: 5.568949166552807'"
      ]
     },
     "metadata": {},
     "output_type": "display_data"
    },
    {
     "data": {
      "text/plain": [
       "'p-value: 2.862674510698644e-08'"
      ]
     },
     "metadata": {},
     "output_type": "display_data"
    },
    {
     "name": "stdout",
     "output_type": "stream",
     "text": [
      "We reject the null hypothesis - there is a significant difference in revenue\n"
     ]
    },
    {
     "data": {
      "text/plain": [
       "'\\nAverage Revenues:'"
      ]
     },
     "metadata": {},
     "output_type": "display_data"
    },
    {
     "data": {
      "text/plain": [
       "'Ultimate Plan: $72.31'"
      ]
     },
     "metadata": {},
     "output_type": "display_data"
    },
    {
     "data": {
      "text/plain": [
       "'Surf Plan: $60.71'"
      ]
     },
     "metadata": {},
     "output_type": "display_data"
    }
   ],
   "source": [
    "ultimate_revenue = resulting_merged_data[\n",
    "    (resulting_merged_data['plan'] == 'ultimate')\n",
    "]['monthly_revenue']\n",
    "\n",
    "\n",
    "surf_revenue = resulting_merged_data[\n",
    "    (resulting_merged_data['plan'] == 'surf')\n",
    "]['monthly_revenue']\n",
    "\n",
    "\n",
    "t_statistic, p_value = stats.ttest_ind(ultimate_revenue, surf_revenue)\n",
    "\n",
    "display(\"T-test Results:\") \n",
    "display(f\"t-statistic: {t_statistic}\") \n",
    "display(f\"p-value: {p_value}\")\n",
    "\n",
    "\n",
    "if p_value < 0.05:\n",
    "    print(\"We reject the null hypothesis - there is a significant difference in revenue\") \n",
    "else:\n",
    "    print(\"We fail to reject the null hypothesis - there is no significant difference in revenue\")\n",
    "    \n",
    "# p_value if/else lines of code\n",
    "#if p_value < 0.05:\n",
    "    #print(At a 0.05 significance level, \"we reject the null hypothesis. The data provides strong evidence of a difference in average revenue between the Ultimate and Surf Plan users.\") \n",
    "#else:\n",
    "    #print(At a 0.05 significance level, \"we fail to reject the null hypothesis. The data does not provide sufficient evidence of a difference in average revenue between Ultimate and Surf Plan users.\")       \n",
    "    \n",
    "\n",
    "display(\"\\nAverage Revenues:\") \n",
    "display(f\"Ultimate Plan: ${ultimate_revenue.mean():.2f}\") \n",
    "display(f\"Surf Plan: ${surf_revenue.mean():.2f}\")"
   ]
  },
  {
   "cell_type": "markdown",
   "metadata": {},
   "source": [
    "**Test the hypothesis that the average revenue from users in the NY-NJ area is different from that of the users from the other regions.**"
   ]
  },
  {
   "cell_type": "markdown",
   "metadata": {},
   "source": [
    "**Formulate the null and the alternative hypotheses, choose the statistical test, decide on the alpha value.**"
   ]
  },
  {
   "cell_type": "markdown",
   "metadata": {},
   "source": [
    "The NY-NJ Area vs Other Regions Revenue Comparison Null Hypothesis (H₀): There is no difference in the average revenue between NY-NJ users and users from other regions, H₀: μ₁ = μ₂.\n",
    "\n",
    "Alternate Hypothesis (H₁):There is a difference in the average revenue between NY-NJ users and users from other regions, H₁: μ₁ ≠ μ₂."
   ]
  },
  {
   "cell_type": "markdown",
   "metadata": {},
   "source": [
    "**Test the hypotheses**"
   ]
  },
  {
   "cell_type": "code",
   "execution_count": 57,
   "metadata": {},
   "outputs": [
    {
     "name": "stdout",
     "output_type": "stream",
     "text": [
      "T-test Results:\n",
      "t-statistic: -0.44149673649731946\n",
      "p-value: 0.6588950881890316\n",
      "We fail to reject the null hypothesis - there is no significant difference in revenue\n",
      "\n",
      "Average Revenues:\n",
      "NY-NJ Region: $59.05\n",
      "Other Regions: $64.39\n"
     ]
    },
    {
     "name": "stderr",
     "output_type": "stream",
     "text": [
      "C:\\Users\\bijan\\AppData\\Local\\Temp\\ipykernel_2888\\2358860895.py:10: SettingWithCopyWarning: \n",
      "A value is trying to be set on a copy of a slice from a DataFrame.\n",
      "Try using .loc[row_indexer,col_indexer] = value instead\n",
      "\n",
      "See the caveats in the documentation: https://pandas.pydata.org/pandas-docs/stable/user_guide/indexing.html#returning-a-view-versus-a-copy\n",
      "  resulting_merged_data['state'] = resulting_merged_data['user_id'].map(user_state_map)\n"
     ]
    }
   ],
   "source": [
    "user_state_map = {}\n",
    "for index in range(len(data_mg_users)):\n",
    "   \n",
    "    user_id = data_mg_users['user_id'].iloc[index]\n",
    "    \n",
    "    state = data_mg_users['state'].iloc[index]\n",
    "    \n",
    "    user_state_map[user_id] = state\n",
    "\n",
    "resulting_merged_data['state'] = resulting_merged_data['user_id'].map(user_state_map)\n",
    "\n",
    "\n",
    "ny_nj_revenue_comparison = resulting_merged_data[\n",
    "    (resulting_merged_data['state'].isin(['NY', 'NJ']))\n",
    "]['monthly_revenue']\n",
    "\n",
    "other_regions_revenue = resulting_merged_data[\n",
    "    ~(resulting_merged_data['state'].isin(['NY', 'NJ']))\n",
    "]['monthly_revenue']\n",
    "\n",
    "\n",
    "t_statistic, p_value = stats.ttest_ind(ny_nj_revenue_comparison, other_regions_revenue)\n",
    "\n",
    "print(\"T-test Results:\") \n",
    "print(f\"t-statistic: {t_statistic}\") \n",
    "print(f\"p-value: {p_value}\")\n",
    "\n",
    "\n",
    "if p_value < 0.05:\n",
    "    print(\"We reject the null hypothesis - there is a significant difference in revenue\") \n",
    "else:\n",
    "    print(\"We fail to reject the null hypothesis - there is no significant difference in revenue\")\n",
    "    \n",
    "    \n",
    "print(\"\\nAverage Revenues:\")\n",
    "print(f\"NY-NJ Region: ${ny_nj_revenue_comparison.mean():.2f}\")\n",
    "print(f\"Other Regions: ${other_regions_revenue.mean():.2f}\")"
   ]
  },
  {
   "cell_type": "markdown",
   "metadata": {},
   "source": [
    "## <center>Section Six</center>\n",
    "\n",
    "**General Conclusion**"
   ]
  },
  {
   "cell_type": "markdown",
   "metadata": {},
   "source": [
    "**List your important conclusions in this final section, make sure they cover all those important decisions (assumptions) that you've made and that led you to the way you processed and analyzed the data.**"
   ]
  },
  {
   "cell_type": "markdown",
   "metadata": {},
   "source": [
    "When analyzing the data, we used a two-tailed independent t-test with a significance level of 0.05 to compare average revenue between different groups.\n",
    "\n",
    "## Plan Comparison: Ultimate vs. Surf\n",
    "**Method** – We compared the average revenue between Ultimate and Surf plan users using a two-tailed independent t-test (α = 0.05).\n",
    "\n",
    "**Results:**  \n",
    "- The test resulted in a p-value of 2.86e-08, which is much smaller than 0.05, indicating a significant difference between the plans.  \n",
    "- Ultimate plan users had an average revenue of $72.31, compared to $60.71 for Surf plan users.\n",
    "\n",
    "**Conclusion:**  \n",
    "We reject the null hypothesis in favor of the alternative hypothesis. The data provides strong evidence that Ultimate plan users generate approximately $11.60 more in average revenue than Surf plan users, and this difference is statistically significant (p < 0.05), meaning it is not due to random chance.\n",
    "\n",
    "## Regional Comparison: NY-NJ vs. Other Regions\n",
    "**Method** – We compared the average revenue between NY-NJ users and users from other regions using a two-tailed independent t-test (α = 0.05).\n",
    "\n",
    "**Results:**  \n",
    "The test yielded a p-value of 0.66, which is greater than 0.05. The average revenue for the NY-NJ users was $59.27, compared to $64.55 for users from other regions.\n",
    "\n",
    "**Conclusion:**  \n",
    "We fail to reject the null hypothesis. While users from other regions had a slightly higher average revenue, this difference is not statistically significant and could have occurred due to random chance."
   ]
  },
  {
   "cell_type": "markdown",
   "metadata": {},
   "source": [
    "## Key Findings and Market Insights\n",
    "\n",
    "**Price Impact** – Ultimate Plan customers spend $11.36 more per month than Surf Plan customers, which is a statistically significant difference (p = 5.69e-08).\n",
    "\n",
    "**Location Impact** – Customer spending is consistent across all regions (p = 0.66), meaning location does not significantly affect revenue.\n",
    "\n",
    "**Market Analysis:**  \n",
    "- **Ultimate Plan ($72.31/month):** Attracts high-paying customers.  \n",
    "- **Surf Plan ($60.95/month):** Reaches more customers at a lower price point.  \n",
    "- **Both plans** perform well across all regions.  \n",
    "\n",
    "## Business Impact and Strategic Recommendations\n",
    "\n",
    "The data strongly supports maintaining both plans. The Ultimate Plan maximizes per-user revenue, while the Surf Plan expands market reach.\n",
    "\n",
    "### Business Value\n",
    "- **Ultimate Plan:** Maximizes revenue per user.  \n",
    "- **Surf Plan:** Maximizes total revenue through higher customer volume.  \n",
    "- **Each plan** effectively serves its target market.  \n",
    "\n",
    "### This strategy is effective because:\n",
    "- The price difference is significant (p < 0.05).  \n",
    "- Each plan successfully targets its intended audience.  \n",
    "- Together, they cater to a broader range of customer needs.  \n",
    "\n",
    "## Strategic Recommendation\n",
    "\n",
    "Given these insights, we recommend the following strategic actions to further optimize revenue and customer satisfaction:\n",
    "\n",
    "- **Introducing a long-standing upgrade path** from Surf to Ultimate could further increase long-term revenue by encouraging customer retention and higher spending.  \n",
    "- **A flag-type notification** could target high-usage Surf users who exceed overage limits for at least 3 months within a 12-month period, offering them an optional upgrade to Ultimate.  \n",
    "- **This ensures** customers are on the best-fit plan while maximizing revenue and satisfaction.  "
   ]
  }
 ],
 "metadata": {
  "kernelspec": {
   "display_name": "Python 3",
   "language": "python",
   "name": "python3"
  },
  "language_info": {
   "codemirror_mode": {
    "name": "ipython",
    "version": 3
   },
   "file_extension": ".py",
   "mimetype": "text/x-python",
   "name": "python",
   "nbconvert_exporter": "python",
   "pygments_lexer": "ipython3",
   "version": "3.13.1"
  }
 },
 "nbformat": 4,
 "nbformat_minor": 2
}
